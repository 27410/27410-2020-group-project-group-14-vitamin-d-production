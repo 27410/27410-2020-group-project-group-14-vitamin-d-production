{
 "cells": [
  {
   "cell_type": "markdown",
   "metadata": {},
   "source": [
    "## 4.2 PPP and knockouts\n",
    "\n",
    "In this document, we are looking at the phenotypic phase plane (PPP) of the model with the heterologous pathway and select knock-outs from literature. We are starting with just the basic model."
   ]
  },
  {
   "cell_type": "code",
   "execution_count": 1,
   "metadata": {},
   "outputs": [],
   "source": [
    "from cobra.io import read_sbml_model, write_sbml_model\n",
    "from cobra import Reaction, Metabolite\n",
    "\n",
    "from cobra.flux_analysis.phenotype_phase_plane import production_envelope, add_envelope\n",
    "import pandas as pd\n",
    "import matplotlib\n",
    "import matplotlib.pyplot as plt "
   ]
  },
  {
   "cell_type": "code",
   "execution_count": null,
   "metadata": {},
   "outputs": [],
   "source": [
    "model = read_sbml_model('data/yeastGEM_het.xml')"
   ]
  },
  {
   "cell_type": "markdown",
   "metadata": {},
   "source": [
    "### Knockout-less phenotype phase plane analysis"
   ]
  },
  {
   "cell_type": "code",
   "execution_count": null,
   "metadata": {},
   "outputs": [],
   "source": [
    "# In this plot, we are looking at the dynamics between the 7-dehydrocholesterol creating reaction (R07215) and the biomass formation reaction (r_2111)\n",
    "ppp_7DH = production_envelope(model,\n",
    "                    reactions=[model.reactions.R07215],\n",
    "                    objective=model.reactions.r_2111)"
   ]
  },
  {
   "cell_type": "code",
   "execution_count": null,
   "metadata": {},
   "outputs": [],
   "source": [
    "pppp = ppp_7DH.plot(x='R07215', y='flux_maximum')\n",
    "fig = pppp.get_figure()\n",
    "fig.savefig(\"figures/initial_ppp\")"
   ]
  },
  {
   "cell_type": "markdown",
   "metadata": {},
   "source": [
    "From this plot, we can see that there is a direct trade-off between production of the target compound and growth."
   ]
  },
  {
   "cell_type": "markdown",
   "metadata": {},
   "source": [
    "### Knockout of the YMR015C gene\n",
    "We can now begin to knock out genes and testing for growth and production of 7-dehydrocholesterol. We are investigating for both maximal growth rate and 7-dehydrocholesterol production rate, but we are also interested in the PPP of the knockouts. \n",
    "\n",
    "These knockouts are based on literature research [29] or [11]=????.\n",
    "\n",
    "We are starting with the ERG5 gene, which is called YMR015C in this model."
   ]
  },
  {
   "cell_type": "code",
   "execution_count": null,
   "metadata": {},
   "outputs": [],
   "source": [
    "with model as des_mutant:\n",
    "    des_mutant.genes.YMR015C.knock_out()\n",
    "    \n",
    "    print(\"Maximal growth rate:\")\n",
    "    print(des_mutant.slim_optimize())\n",
    "    des_mutant.objective = model.reactions.R07215\n",
    "    print(\"Maximal 7-dehydrocholesterol production rate\")\n",
    "    print(des_mutant.slim_optimize())\n",
    "    \n",
    "# We can now investigate the PPP between the 7-dehydrocholesterol creating reaction (R07215) and the biomass formation reaction (r_2111)\n",
    "    ppp_7DH = production_envelope(des_mutant,\n",
    "                    reactions=[des_mutant.reactions.R07215],\n",
    "                    objective=des_mutant.reactions.r_2111)\n",
    "    pppp = ppp_7DH.plot(x='R07215', y='flux_maximum')\n",
    "    fig = pppp.get_figure()\n",
    "    plt.title(label=\"ERG5 knockout\")\n",
    "    fig.savefig(\"figures/ERG5_knockout\")"
   ]
  },
  {
   "cell_type": "markdown",
   "metadata": {},
   "source": [
    "### Knockout of GAL genes\n",
    "Next, we are trying to knock out the GAL7,1,10 genes [11]. In this model, they are called YBR018C, YBR019C, and YBR020W, respectively. We can now try to knock out these genes and investigate the PPP. "
   ]
  },
  {
   "cell_type": "code",
   "execution_count": null,
   "metadata": {},
   "outputs": [],
   "source": [
    "with model as GAL_mutant:\n",
    "    GAL_mutant.genes.YBR018C.knock_out()\n",
    "    GAL_mutant.genes.YBR019C.knock_out()\n",
    "    GAL_mutant.genes.YBR020W.knock_out()\n",
    "    \n",
    "    print(\"Maximal growth rate:\")       \n",
    "    print(GAL_mutant.slim_optimize())\n",
    "    des_mutant.objective = model.reactions.R07215\n",
    "    print(\"Maximal 7-dehydrocholesterol production rate\")\n",
    "    print(des_mutant.slim_optimize())\n",
    "    \n",
    "# We can now investigate the PPP between the 7-dehydrocholesterol creating reaction (R07215) and the biomass formation reaction (r_2111)\n",
    "    ppp_7DH = production_envelope(GAL_mutant,\n",
    "                    reactions=[GAL_mutant.reactions.R07215],\n",
    "                    objective=GAL_mutant.reactions.r_2111)\n",
    "    pppp = ppp_7DH.plot(x='R07215', y='flux_maximum')\n",
    "    fig = pppp.get_figure()\n",
    "    plt.title(label=\"GAL knockouts\")\n",
    "    fig.savefig(\"figures/GAL_knockout\")"
   ]
  },
  {
   "cell_type": "markdown",
   "metadata": {},
   "source": [
    "### Knockout of the ERG6 gene\n",
    "We can now investigate the ERG6 gene, which is responsible for converting zymosterol to fecosterol. In [11], this led to increased 7-dehydrocholesterol production, so we can try to see what effect this will have in our model.\n",
    "In this model, the ERG6 gene is called YML008C and can now be knocked out."
   ]
  },
  {
   "cell_type": "code",
   "execution_count": null,
   "metadata": {},
   "outputs": [],
   "source": [
    "with model as feco_mutant:\n",
    "    feco_mutant.genes.YML008C.knock_out()\n",
    "    \n",
    "    print(\"Maximal growth rate:\")  \n",
    "    print(feco_mutant.slim_optimize())\n",
    "    feco_mutant.objective = model.reactions.R07215\n",
    "    print(\"Maximal 7-dehydrocholesterol production rate\")\n",
    "    print(feco_mutant.slim_optimize())\n",
    "    \n",
    "# We can now investigate the PPP between the 7-dehydrocholesterol creating reaction (R07215) and the biomass formation reaction (r_2111)\n",
    "    ppp_7DH = production_envelope(feco_mutant,\n",
    "                    reactions=[feco_mutant.reactions.R07215],\n",
    "                    objective=feco_mutant.reactions.r_2111)\n",
    "    pppp = ppp_7DH.plot(x='R07215', y='flux_maximum')\n",
    "    fig = pppp.get_figure()\n",
    "    plt.title(label=\"ERG6 knockout\")\n",
    "    fig.savefig(\"figures/ERG6_knockout\")"
   ]
  },
  {
   "cell_type": "markdown",
   "metadata": {},
   "source": [
    "### Knockout combinations\n",
    "Lastly, we can try to combine the GAL knockouts with the ERG6 knockout."
   ]
  },
  {
   "cell_type": "code",
   "execution_count": null,
   "metadata": {},
   "outputs": [],
   "source": [
    "#When we combine the GAL and feco knockouts\n",
    "with model as GAL_feco_mutant:\n",
    "    GAL_feco_mutant.genes.YBR018C.knock_out()\n",
    "    GAL_feco_mutant.genes.YBR019C.knock_out()\n",
    "    GAL_feco_mutant.genes.YBR020W.knock_out()\n",
    "    GAL_feco_mutant.genes.YML008C.knock_out()\n",
    "    \n",
    "    print(\"Maximal growth rate:\")  \n",
    "    print(GAL_feco_mutant.slim_optimize())\n",
    "    GAL_feco_mutant.objective = model.reactions.R07215\n",
    "    print(\"Maximal 7-dehydrocholesterol production rate\")\n",
    "    print(GAL_feco_mutant.slim_optimize())\n",
    "    \n",
    "    # We can now investigate the PPP between the 7-dehydrocholesterol creating reaction (R07215) and the biomass formation reaction (r_2111)\n",
    "    ppp_7DH = production_envelope(feco_mutant,\n",
    "                    reactions=[feco_mutant.reactions.R07215],\n",
    "                    objective=feco_mutant.reactions.r_2111)\n",
    "    pppp = ppp_7DH.plot(x='R07215', y='flux_maximum')\n",
    "    fig = pppp.get_figure()\n",
    "    plt.title(label=\"ERG6 and GAL knockout\")\n",
    "    fig.savefig(\"figures/GAL_ERG6_knockout\")"
   ]
  },
  {
   "cell_type": "markdown",
   "metadata": {},
   "source": [
    "### Conclusion\n",
    "In conclusion,  we see some differences in the growth rate and the production of our product when we try the different knockouts, but this is quite marginal.\n",
    "\n",
    "Thus, we will keep the model as-is."
   ]
  }
 ],
 "metadata": {
  "kernelspec": {
   "display_name": "p36workshop",
   "language": "python",
   "name": "p36workshop"
  },
  "language_info": {
   "codemirror_mode": {
    "name": "ipython",
    "version": 3
   },
   "file_extension": ".py",
   "mimetype": "text/x-python",
   "name": "python",
   "nbconvert_exporter": "python",
   "pygments_lexer": "ipython3",
   "version": "3.8.3"
  }
 },
 "nbformat": 4,
 "nbformat_minor": 4
}
