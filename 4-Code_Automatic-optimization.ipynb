{
 "cells": [
  {
   "cell_type": "markdown",
   "metadata": {},
   "source": [
    "### Automatic optimization strategies\n",
    "In this code document, we will be experimenting with algorithms that can identify optimization routes in the production of 7-dehydrocholesterol in yeast."
   ]
  },
  {
   "cell_type": "code",
   "execution_count": 1,
   "metadata": {},
   "outputs": [],
   "source": [
    "from cobra.io import read_sbml_model, write_sbml_model\n",
    "from cobra import Reaction, Metabolite"
   ]
  },
  {
   "cell_type": "code",
   "execution_count": 2,
   "metadata": {},
   "outputs": [
    {
     "data": {
      "text/html": [
       "\n",
       "        <table>\n",
       "            <tr>\n",
       "                <td><strong>Name</strong></td>\n",
       "                <td>M_yeastGEM_v8__46__4__46__2</td>\n",
       "            </tr><tr>\n",
       "                <td><strong>Memory address</strong></td>\n",
       "                <td>0x07f32a53653c8</td>\n",
       "            </tr><tr>\n",
       "                <td><strong>Number of metabolites</strong></td>\n",
       "                <td>2745</td>\n",
       "            </tr><tr>\n",
       "                <td><strong>Number of reactions</strong></td>\n",
       "                <td>4062</td>\n",
       "            </tr><tr>\n",
       "                <td><strong>Number of groups</strong></td>\n",
       "                <td>90</td>\n",
       "            </tr><tr>\n",
       "                <td><strong>Objective expression</strong></td>\n",
       "                <td>1.0*r_2111 - 1.0*r_2111_reverse_58b69</td>\n",
       "            </tr><tr>\n",
       "                <td><strong>Compartments</strong></td>\n",
       "                <td>cell envelope, cytoplasm, extracellular, mitochondrion, nucleus, peroxisome, endoplasmic reticulum, Golgi, lipid particle, vacuole, endoplasmic reticulum membrane, vacuolar membrane, Golgi membrane, mitochondrial membrane</td>\n",
       "            </tr>\n",
       "          </table>"
      ],
      "text/plain": [
       "<Model M_yeastGEM_v8__46__4__46__2 at 0x7f32a53653c8>"
      ]
     },
     "execution_count": 2,
     "metadata": {},
     "output_type": "execute_result"
    }
   ],
   "source": [
    "model = read_sbml_model('data/yeastGEM_het.xml')\n",
    "\n",
    "model"
   ]
  },
  {
   "cell_type": "markdown",
   "metadata": {},
   "source": [
    "### Automatic optimization using OptGene\n",
    "\n",
    "Note: This section of the code is heavily based around the notebook: 09-Predict-gene-knockout-strategies and this notebook: http://cameo.bio/05-predict-gene-knockout-strategies.html\n",
    "\n",
    "The OptGene algorithm can be used to find genes which can be knocked out or mutated to increase the production of our target compound. The algorithm uses an approach, which takes a very long time to run. \n",
    "To make the program a tiny bit faster, all the essential reactions can be found and excluded from analysis, as they should not be knocked out in any case. Knocking out essential genes would stop growth."
   ]
  },
  {
   "cell_type": "code",
   "execution_count": 3,
   "metadata": {},
   "outputs": [],
   "source": [
    "# In this block, we are finding a list of the essential reactions and the non-essential reactions. \n",
    "# By looping over all reactions in the model and seeing whether they can grow, we can sort them into the two different lists\n",
    "\n",
    "#%%time\n",
    "\n",
    "essential = []\n",
    "non_essential = []\n",
    "\n",
    "for reaction in model.reactions:\n",
    "    with model:\n",
    "        reaction.knock_out()\n",
    "        if model.slim_optimize(error_value=0.) == 0.0:\n",
    "            essential.append(reaction)\n",
    "        else:\n",
    "            non_essential.append(reaction)"
   ]
  },
  {
   "cell_type": "code",
   "execution_count": 4,
   "metadata": {},
   "outputs": [],
   "source": [
    "# Following this, we can find the genes associated with all of the essential reactions\n",
    "\n",
    "#%%time\n",
    "ess = []\n",
    "for i in range (1,len(essential)):\n",
    "    for gene in list(essential[i].genes):\n",
    "        ess.append(gene)"
   ]
  },
  {
   "cell_type": "code",
   "execution_count": 6,
   "metadata": {},
   "outputs": [
    {
     "name": "stdout",
     "output_type": "stream",
     "text": [
      "Starting optimization at Sun, 29 Nov 2020 22:12:54\n"
     ]
    },
    {
     "data": {
      "application/vnd.jupyter.widget-view+json": {
       "model_id": "a96d60f8518c4b319df9dd93a482b05a",
       "version_major": 2,
       "version_minor": 0
      },
      "text/plain": [
       "HBox()"
      ]
     },
     "metadata": {},
     "output_type": "display_data"
    },
    {
     "name": "stdout",
     "output_type": "stream",
     "text": [
      "Finished after 02:21:51\n"
     ]
    }
   ],
   "source": [
    "from cameo.strain_design import OptGene\n",
    "optgene = OptGene(model,essential_genes=essential)\n",
    "result = optgene.run(target=model.reactions.R07215,\n",
    "                     biomass=model.reactions.r_2111,\n",
    "                     substrate=model.reactions.r_1714,\n",
    "                     max_evaluations=5000,\n",
    "                     plot=False)"
   ]
  },
  {
   "cell_type": "code",
   "execution_count": 7,
   "metadata": {},
   "outputs": [
    {
     "data": {
      "text/html": [
       "\n",
       "        <h3>OptGene Result</h3>\n",
       "        <ul>\n",
       "            <li>Simulation: fba<br/></li>\n",
       "            <li>Objective Function: $$bpcy = \\frac{(r\\_2111 * R07215)}{r\\_1714}$$<br/></li>\n",
       "        </ul>\n",
       "        <div>\n",
       "<style scoped>\n",
       "    .dataframe tbody tr th:only-of-type {\n",
       "        vertical-align: middle;\n",
       "    }\n",
       "\n",
       "    .dataframe tbody tr th {\n",
       "        vertical-align: top;\n",
       "    }\n",
       "\n",
       "    .dataframe thead th {\n",
       "        text-align: right;\n",
       "    }\n",
       "</style>\n",
       "<table border=\"1\" class=\"dataframe\">\n",
       "  <thead>\n",
       "    <tr style=\"text-align: right;\">\n",
       "      <th></th>\n",
       "      <th>reactions</th>\n",
       "      <th>genes</th>\n",
       "      <th>size</th>\n",
       "      <th>fva_min</th>\n",
       "      <th>fva_max</th>\n",
       "      <th>target_flux</th>\n",
       "      <th>biomass_flux</th>\n",
       "      <th>yield</th>\n",
       "      <th>fitness</th>\n",
       "    </tr>\n",
       "  </thead>\n",
       "  <tbody>\n",
       "  </tbody>\n",
       "</table>\n",
       "</div>\n",
       "        "
      ],
      "text/plain": [
       "<cameo.strain_design.heuristic.evolutionary_based.OptGeneResult at 0x7f31d4b6ce80>"
      ]
     },
     "execution_count": 7,
     "metadata": {},
     "output_type": "execute_result"
    }
   ],
   "source": [
    "result\n"
   ]
  },
  {
   "cell_type": "markdown",
   "metadata": {},
   "source": [
    "As we can be seen from this, we have no optimization targets for the OptGene analysis"
   ]
  }
 ],
 "metadata": {
  "kernelspec": {
   "display_name": "Python 3",
   "language": "python",
   "name": "python3"
  },
  "language_info": {
   "codemirror_mode": {
    "name": "ipython",
    "version": 3
   },
   "file_extension": ".py",
   "mimetype": "text/x-python",
   "name": "python",
   "nbconvert_exporter": "python",
   "pygments_lexer": "ipython3",
   "version": "3.8.5"
  }
 },
 "nbformat": 4,
 "nbformat_minor": 4
}
