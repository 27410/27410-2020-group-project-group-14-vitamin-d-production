{
 "cells": [
  {
   "cell_type": "markdown",
   "metadata": {},
   "source": [
    "# [Title]"
   ]
  },
  {
   "cell_type": "markdown",
   "metadata": {},
   "source": [
    "## 1. Introduction"
   ]
  },
  {
   "cell_type": "markdown",
   "metadata": {},
   "source": [
    "### 1.1 Literature review of the compound (<500 words)"
   ]
  },
  {
   "cell_type": "markdown",
   "metadata": {},
   "source": [
    "The product introduced in this project is the fat-soluble (source) vitamin D3, most commonly referred to as simply vitamin D. The vitamin is essential to the intestinal absorption of calcium, magnesium and phosphate. It can be produced by the skin trhough a reaction dependent on UVB light – from sunlight ((Holick 1980).), and is also present in egg yolks and fish  (Brown #).\n",
    "\n",
    "The most popular use of vitamin D is as a supplement, specially for countries in the Northern hemisphere, with long winter-nights without sunlight available . However, deficiency is also widespread in Asia, specially China . More than 10% of Europeans have severe vitamin D deficiency, while the number is for non-severe deficiency is <20% for Northern Europeans and 30-60% for the rest of Europe.\n",
    "\n",
    "A new usage – while still as supplement – is taking vitamin D as a preventative against infection with COVID-19 (a respiratory infection), which is a pandemic that begun in 2019 and is still ravaging through the world at over one million dead . Some trials have found no impact when taking vitamin D , while other researchers are still conducting experiments to elucidate the matter further . Nonetheless, it is known that vitamin D can alleviate the risk of respiratory infections in general.\n",
    "\n",
    "While research is, as of yet, inconclusive with regards to vitamin D and its effect on COVID-19, the market has reacted to this increased interest. For example, Danish news agency DR (Danmarks Radio) recently put out an article explaining that the consumption of vitamin D has increased up to 50% since September 2020. (Salget af D-vitamin er eksploderet – men Giftlinjen og overlæge advarer om overforbrug)\n",
    "\n",
    "Furthermore, with the increasing wages in Asia, an increase vitamin D supplements is noted, which affects the market increases for vitamin D. the average annual growth rate (CAGR) of vitamin D is around 7% for 2019-2024 . The market is quite competitive, without one dominant player . Instead multiple companies produce and sell vitamin D (Pfizer, GlaxoSmithKline etc) .\n",
    "While the companies do not release exact information on their production methods, patents suggest a purely chemical production rather than biological (patentWO2001072286A1)\n",
    "While the industrial production is chemical, as mentioned vitamin D is also produced in the human body, as well as experimentally in Saccharomyces cerevisieae. \n"
   ]
  },
  {
   "cell_type": "markdown",
   "metadata": {},
   "source": [
    "### 1.2 Literature review of the cell factory (<500 words)"
   ]
  },
  {
   "cell_type": "markdown",
   "metadata": {},
   "source": [
    "\n",
    "Budding yeast (Saccharomyces cerevisiae) is one of the most used microorganisms in human history [X].The first evidence of the use of microorganisms is suspected to involve some kind of yeast, plausibly S. cerevisiae, and dates back to XXXX BCE [X]. Today, this wonderful organism is used in a wide variety of productions, ranging from ethanol [X] to biomass[X], and small organic compounds[X] to cancer medication[X].\n",
    "\n",
    "One important difference between S. cerevisiae and all used bacterial microorganisms is that yeasts are eukaryotes, which means they have, among other things, cellular compartments. This makes a large difference in terms of complexity, as transport between different compartments needs to be factored in, but it also allows for more complex pathways to be split up between  locations where the local environment might be more hospitable. Furthermore, due to the large usage of the organism, it has been extensively studied, and is popular for usage in the industry, making it a good candidate for the production of vitamins and other biochemicals as well as proteins. [10.1186/s12934-015-0281-x]\n",
    "The yeast also has many well-established DNA cassettes, making construction of the strain more efficient[kilde]\n",
    "\n",
    "While the organism has many advantages and is widely used, it has some drawbacks as well. Usually, industry and academia has used glucose and disaccharides as substrate and carbon source, however this is neither environmentally sustainable, nor is it cheap. From these perspectives, it would be more advantageous to use a strain which can naturally use cellulose, lignin or xylose as substrate, which are abundant in nature.\n",
    "Another issue using S. cerevisieae can be the unwanted production of ethanol (even under aerobic conditions, dubbed the crabtree effect), since the cell factor will divert the carbon and energy towards production of EtOH rather than the wanted metabolite. [10.1186/s12934-015-0281-x]\n",
    "\n",
    "There are many reasons why S. cerevisiae is so prevalent in the biotechnological sphere, among them being its fast growth rate, high production capacity, and it relative simplicity for an eukaryote.  [kilde?]\n",
    "\n",
    "Of course, other sources can be used such as prokaryotic organisms or other yeasts. However, as outlined above, S. cerevisieae allows for higher complexity – specially when working with more complex molecules such as vitamins and hormone(e.g. insulin). Other yeasts could be used, however S. cerevisieae remains the yeast most researched, and is, as mentioned, a model organism. \n",
    "\n",
    "Yeast does not naturally have the biosynthetic pathway for D vitamin precursor. However, other researchers have been able to insert the pathway into yeast, with some amount of success. For example doi.org/10.1186/s13068-018-1194-9 has produced 7-dehydrocholesterol through metabolic engineering, by overexpressing genes in the mevalonate pathway as well as introduce the gene for Δ24-dehydrocholesterol reductase from the organism Gallus gallus, a type of bird. The researchers furthermore deleted some genes and introduced specific promoters, leading to a titer of 1.07 g/L of the D vitamin precursor"
   ]
  },
  {
   "cell_type": "markdown",
   "metadata": {},
   "source": [
    "## 2. Problem definition (<300 words)"
   ]
  },
  {
   "cell_type": "markdown",
   "metadata": {},
   "source": [
    "In this project, there is a main focus on engineering S. cerevisaea as a cell factory to produce a D-vitamin precursor. Currently, D vitamin is mainly produced by extracting the precursor from sheepswool. However, with this method the production would be vegan as well as possibly more optimised and less dependent on external factors such as healthy sheep.\n",
    "\n",
    "To produce D vitamin precursor in S. cereviseae, firstly the relevant genes must be introduced in an already existing GSM model. This must then be optimized in a way that focuses on both biomass production as well as vitamin D precursor production, in such a way that the yield can become industrially feasible or near-feasible. \n"
   ]
  },
  {
   "cell_type": "markdown",
   "metadata": {},
   "source": [
    "## 3. *If Project category II:* Selection and assessment of existing GSM (<500 words)"
   ]
  },
  {
   "cell_type": "markdown",
   "metadata": {},
   "source": [
    "For our project, we need a metabolic model of yeast. Currently, the model Yeast8 seems to be the most comprehensive yeast genome-scale metabolic model (GEM). This model was first published in 2019 by Lu et al. (source) and has been updated in an open source manner using GitHub. \n",
    "Apart from being regularly updated, the Yeast8 framework also contains a lot of additional information about enzyme structures and kinetics, which can be used to create increasingly detailed models for varying purposes.\n",
    "\n",
    "We will be using the ecYeast8 model which is based on the Yeast8 GEM, but with added enzyme constraints based on proteomics data, as performed by GECKO (source). More specifically, we will be using an already spcified version of the GEM as found on the [GECKO GitHub.](https://github.com/SysBioChalmers/GECKO/blob/master/models/prot_constrained/ecYeastGEM_prot/ecYeastGEM_prot.xml)\n",
    "The specific experimental conditions for this model can be found [here.](https://github.com/SysBioChalmers/GECKO/tree/master/Databases)"
   ]
  },
  {
   "cell_type": "markdown",
   "metadata": {},
   "source": [
    "### Loading of the model\n",
    "The first thing we have to do is to acquire the model and load it into our repository. We have used the easy way out and downloaded the .xml file from the GitHub repository, but the whole repository could also have been cloned and the model extracted from there. \n",
    "This method of a simple download was chosen to minimize the size of the project repository."
   ]
  },
  {
   "cell_type": "code",
   "execution_count": 25,
   "metadata": {},
   "outputs": [],
   "source": [
    "from IPython.display import display\n",
    "import re\n",
    "\n",
    "import cplex"
   ]
  },
  {
   "cell_type": "code",
   "execution_count": 26,
   "metadata": {},
   "outputs": [
    {
     "data": {
      "text/html": [
       "\n",
       "        <table>\n",
       "            <tr>\n",
       "                <td><strong>Name</strong></td>\n",
       "                <td>M_ecYeastGEM_prot_v8__46__3__46__4</td>\n",
       "            </tr><tr>\n",
       "                <td><strong>Memory address</strong></td>\n",
       "                <td>0x07fa43f1528d0</td>\n",
       "            </tr><tr>\n",
       "                <td><strong>Number of metabolites</strong></td>\n",
       "                <td>4180</td>\n",
       "            </tr><tr>\n",
       "                <td><strong>Number of reactions</strong></td>\n",
       "                <td>8144</td>\n",
       "            </tr><tr>\n",
       "                <td><strong>Number of groups</strong></td>\n",
       "                <td>0</td>\n",
       "            </tr><tr>\n",
       "                <td><strong>Objective expression</strong></td>\n",
       "                <td>-1.0*prot_pool_exchange + 1.0*prot_pool_exchange_reverse_c813a</td>\n",
       "            </tr><tr>\n",
       "                <td><strong>Compartments</strong></td>\n",
       "                <td>cell envelope, cytoplasm, extracellular, mitochondrion, nucleus, peroxisome, endoplasmic reticulum, Golgi, lipid particle, vacuole, endoplasmic reticulum membrane, vacuolar membrane, Golgi membrane, mitochondrial membrane</td>\n",
       "            </tr>\n",
       "          </table>"
      ],
      "text/plain": [
       "<Model M_ecYeastGEM_prot_v8__46__3__46__4 at 0x7fa43f1528d0>"
      ]
     },
     "execution_count": 26,
     "metadata": {},
     "output_type": "execute_result"
    }
   ],
   "source": [
    "# First, we can import some functions so we can use the model\n",
    "from cobra.io import read_sbml_model\n",
    "from cobra import Reaction, Metabolite\n",
    "from cameo.strain_design import pathway_prediction\n",
    "\n",
    "# Second, we can read the GEM and save it as ‘model’\n",
    "model = read_sbml_model('ecYeastGEM_prot.xml')\n",
    "\n",
    "# Thrid, we can show general information about the loaded model\n",
    "model"
   ]
  },
  {
   "cell_type": "markdown",
   "metadata": {},
   "source": [
    "From this, we can see that the model has 4180 metabolites, 8144 reactions, and 14 compartments.\n",
    "\n",
    "To get a quick overview of the model and its throughness, we can use Memote (source) to analyze the GEM and score how good it currently looks. Hopefully, our changes will improve the model, or at least not make it any worse. "
   ]
  },
  {
   "cell_type": "code",
   "execution_count": 18,
   "metadata": {
    "collapsed": true,
    "jupyter": {
     "outputs_hidden": true
    }
   },
   "outputs": [
    {
     "name": "stdout",
     "output_type": "stream",
     "text": [
      "\u001b[1m============================= test session starts ==============================\u001b[0m\n",
      "platform linux -- Python 3.6.12, pytest-6.1.2, py-1.9.0, pluggy-0.13.1\n",
      "rootdir: /usr/local/lib/python3.6/dist-packages/memote/suite/tests\n",
      "collected 146 items / 1 skipped / 145 selected                                 \u001b[0m\n",
      "\n",
      "../../../../usr/local/lib/python3.6/dist-packages/memote/suite/tests/test_annotation.py \u001b[31mF\u001b[0m\u001b[31m [  0%]\n",
      "\u001b[0m\u001b[31mF\u001b[0m\u001b[31mF\u001b[0m\u001b[31mF\u001b[0m\u001b[31mF\u001b[0m\u001b[31mF\u001b[0m\u001b[31mF\u001b[0m\u001b[31mF\u001b[0m\u001b[31mF\u001b[0m\u001b[31mF\u001b[0m\u001b[31mF\u001b[0m\u001b[31mF\u001b[0m\u001b[31mF\u001b[0m\u001b[31mF\u001b[0m\u001b[31mF\u001b[0m\u001b[31mF\u001b[0m\u001b[31mF\u001b[0m\u001b[31mF\u001b[0m\u001b[31mF\u001b[0m\u001b[31mF\u001b[0m\u001b[31mF\u001b[0m\u001b[31mF\u001b[0m\u001b[31mF\u001b[0m\u001b[31mF\u001b[0m\u001b[31mF\u001b[0m\u001b[31mF\u001b[0m\u001b[31mF\u001b[0m\u001b[31mF\u001b[0m\u001b[31mF\u001b[0m\u001b[31mF\u001b[0m\u001b[31mF\u001b[0m\u001b[31mF\u001b[0m\u001b[31mF\u001b[0m\u001b[31mF\u001b[0m\u001b[31mF\u001b[0m\u001b[31mF\u001b[0m\u001b[31mF\u001b[0m\u001b[31mF\u001b[0m\u001b[31mF\u001b[0m\u001b[31mF\u001b[0m\u001b[31mF\u001b[0m\u001b[32m.\u001b[0m\u001b[31mF\u001b[0m\u001b[31mF\u001b[0m\u001b[31mF\u001b[0m\u001b[31mF\u001b[0m\u001b[31mF\u001b[0m\u001b[32m.\u001b[0m\u001b[31mF\u001b[0m\u001b[31mF\u001b[0m\u001b[31mF\u001b[0m\u001b[31mF\u001b[0m\u001b[31mF\u001b[0m\u001b[31mF\u001b[0m\u001b[31mF\u001b[0m\u001b[31mF\u001b[0m\u001b[31mF\u001b[0m\u001b[31mF\u001b[0m\u001b[31mF\u001b[0m\u001b[31mF\u001b[0m\u001b[31mF\u001b[0m\u001b[31mF\u001b[0m\u001b[31mF\u001b[0m\u001b[31mF\u001b[0m\u001b[32m.\u001b[0m\u001b[31m         [ 44%]\u001b[0m\n",
      "../../../../usr/local/lib/python3.6/dist-packages/memote/suite/tests/test_basic.py \u001b[32m.\u001b[0m\u001b[31m [ 45%]\n",
      "\u001b[0m\u001b[32m.\u001b[0m\u001b[32m.\u001b[0m\u001b[32m.\u001b[0m\u001b[32m.\u001b[0m\u001b[32m.\u001b[0m\u001b[31mF\u001b[0m\u001b[32m.\u001b[0m\u001b[32m.\u001b[0m\u001b[32m.\u001b[0m\u001b[32m.\u001b[0m\u001b[32m.\u001b[0m\u001b[32m.\u001b[0m\u001b[32m.\u001b[0m\u001b[32m.\u001b[0m\u001b[31mF\u001b[0m\u001b[32m.\u001b[0m\u001b[31mF\u001b[0m\u001b[32m.\u001b[0m\u001b[31mF\u001b[0m\u001b[32m.\u001b[0m\u001b[31mF\u001b[0m\u001b[31mF\u001b[0m\u001b[31m                                                   [ 60%]\u001b[0m\n",
      "../../../../usr/local/lib/python3.6/dist-packages/memote/suite/tests/test_biomass.py \u001b[32m.\u001b[0m\u001b[31m [ 60%]\n",
      "\u001b[0m\u001b[31mF\u001b[0m\u001b[32m.\u001b[0m\u001b[32m.\u001b[0m\u001b[31mF\u001b[0m\u001b[32m.\u001b[0m\u001b[32m.\u001b[0m\u001b[31mF\u001b[0m\u001b[32m.\u001b[0m\u001b[31mF\u001b[0m\u001b[31m                                                                [ 67%]\u001b[0m\n",
      "../../../../usr/local/lib/python3.6/dist-packages/memote/suite/tests/test_consistency.py \u001b[31mF\u001b[0m\u001b[31m [ 67%]\n",
      "\u001b[0m\u001b[31mF\u001b[0m\u001b[31mF\u001b[0m\u001b[33ms\u001b[0m\u001b[33ms\u001b[0m\u001b[33ms\u001b[0m\u001b[33ms\u001b[0m\u001b[33ms\u001b[0m\u001b[33ms\u001b[0m\u001b[33ms\u001b[0m\u001b[33ms\u001b[0m\u001b[33ms\u001b[0m\u001b[33ms\u001b[0m\u001b[33ms\u001b[0m\u001b[33ms\u001b[0m\u001b[33ms\u001b[0m\u001b[33ms\u001b[0m\u001b[33ms\u001b[0m\u001b[33ms\u001b[0m\u001b[32m.\u001b[0m\u001b[31mF\u001b[0m\u001b[31mF\u001b[0m\u001b[31mF\u001b[0m\u001b[31mF\u001b[0m\u001b[31mF\u001b[0m\u001b[32m.\u001b[0m\u001b[31mF\u001b[0m\u001b[31mF\u001b[0m\u001b[31mF\u001b[0m\u001b[31m                                             [ 86%]\u001b[0m\n",
      "../../../../usr/local/lib/python3.6/dist-packages/memote/suite/tests/test_essentiality.py \u001b[33ms\u001b[0m\u001b[31m [ 87%]\n",
      "\u001b[0m\u001b[31m                                                                         [ 87%]\u001b[0m\n",
      "../../../../usr/local/lib/python3.6/dist-packages/memote/suite/tests/test_growth.py \u001b[33ms\u001b[0m\u001b[31m [ 88%]\n",
      "\u001b[0m\u001b[31m                                                                         [ 88%]\u001b[0m\n",
      "../../../../usr/local/lib/python3.6/dist-packages/memote/suite/tests/test_matrix.py \u001b[31mF\u001b[0m\u001b[31m [ 89%]\n",
      "\u001b[0m\u001b[32m.\u001b[0m\u001b[32m.\u001b[0m\u001b[32m.\u001b[0m\u001b[31m                                                                      [ 91%]\u001b[0m\n",
      "../../../../usr/local/lib/python3.6/dist-packages/memote/suite/tests/test_sbml.py \u001b[32m.\u001b[0m\u001b[31m [ 91%]\n",
      "\u001b[0m\u001b[32m.\u001b[0m\u001b[31m                                                                        [ 92%]\u001b[0m\n",
      "../../../../usr/local/lib/python3.6/dist-packages/memote/suite/tests/test_sbo.py \u001b[32m.\u001b[0m\u001b[31m [ 93%]\n",
      "\u001b[0m\u001b[32m.\u001b[0m\u001b[32m.\u001b[0m\u001b[32m.\u001b[0m\u001b[32m.\u001b[0m\u001b[32m.\u001b[0m\u001b[32m.\u001b[0m\u001b[32m.\u001b[0m\u001b[32m.\u001b[0m\u001b[33ms\u001b[0m\u001b[31mF\u001b[0m\u001b[31m                                                               [100%]\u001b[0m\n",
      "\n",
      "\u001b[33m=============================== warnings summary ===============================\u001b[0m\n",
      "test_consistency.py::test_unconserved_metabolites\n",
      "  /usr/local/lib/python3.6/dist-packages/optlang/cplex_interface.py:461 \u001b[1;31mDeprecationWarning\u001b[0m: The 'warn' method is deprecated, use 'warning' instead\n",
      "\n",
      "../../../../usr/local/lib/python3.6/dist-packages/_pytest/stepwise.py:122\n",
      "  /usr/local/lib/python3.6/dist-packages/_pytest/stepwise.py:122 \u001b[1;31mPytestCacheWarning\u001b[0m: could not create cache path /usr/local/lib/python3.6/dist-packages/memote/suite/tests/.pytest_cache/v/cache/stepwise\n",
      "\n",
      "../../../../usr/local/lib/python3.6/dist-packages/_pytest/cacheprovider.py:403\n",
      "  /usr/local/lib/python3.6/dist-packages/_pytest/cacheprovider.py:403 \u001b[1;31mPytestCacheWarning\u001b[0m: could not create cache path /usr/local/lib/python3.6/dist-packages/memote/suite/tests/.pytest_cache/v/cache/nodeids\n",
      "\n",
      "../../../../usr/local/lib/python3.6/dist-packages/_pytest/cacheprovider.py:357\n",
      "  /usr/local/lib/python3.6/dist-packages/_pytest/cacheprovider.py:357 \u001b[1;31mPytestCacheWarning\u001b[0m: could not create cache path /usr/local/lib/python3.6/dist-packages/memote/suite/tests/.pytest_cache/v/cache/lastfailed\n",
      "\n",
      "-- Docs: https://docs.pytest.org/en/stable/warnings.html\n",
      "=========================== short test summary info ============================\n",
      "FAILED ../../../../usr/local/lib/python3.6/dist-packages/memote/suite/tests/test_annotation.py::test_metabolite_annotation_presence\n",
      "FAILED ../../../../usr/local/lib/python3.6/dist-packages/memote/suite/tests/test_annotation.py::test_reaction_annotation_presence\n",
      "FAILED ../../../../usr/local/lib/python3.6/dist-packages/memote/suite/tests/test_annotation.py::test_gene_product_annotation_presence\n",
      "FAILED ../../../../usr/local/lib/python3.6/dist-packages/memote/suite/tests/test_annotation.py::test_metabolite_annotation_overview[pubchem.compound]\n",
      "FAILED ../../../../usr/local/lib/python3.6/dist-packages/memote/suite/tests/test_annotation.py::test_metabolite_annotation_overview[kegg.compound]\n",
      "FAILED ../../../../usr/local/lib/python3.6/dist-packages/memote/suite/tests/test_annotation.py::test_metabolite_annotation_overview[seed.compound]\n",
      "FAILED ../../../../usr/local/lib/python3.6/dist-packages/memote/suite/tests/test_annotation.py::test_metabolite_annotation_overview[inchikey]\n",
      "FAILED ../../../../usr/local/lib/python3.6/dist-packages/memote/suite/tests/test_annotation.py::test_metabolite_annotation_overview[inchi]\n",
      "FAILED ../../../../usr/local/lib/python3.6/dist-packages/memote/suite/tests/test_annotation.py::test_metabolite_annotation_overview[chebi]\n",
      "FAILED ../../../../usr/local/lib/python3.6/dist-packages/memote/suite/tests/test_annotation.py::test_metabolite_annotation_overview[hmdb]\n",
      "FAILED ../../../../usr/local/lib/python3.6/dist-packages/memote/suite/tests/test_annotation.py::test_metabolite_annotation_overview[reactome]\n",
      "FAILED ../../../../usr/local/lib/python3.6/dist-packages/memote/suite/tests/test_annotation.py::test_metabolite_annotation_overview[metanetx.chemical]\n",
      "FAILED ../../../../usr/local/lib/python3.6/dist-packages/memote/suite/tests/test_annotation.py::test_metabolite_annotation_overview[bigg.metabolite]\n",
      "FAILED ../../../../usr/local/lib/python3.6/dist-packages/memote/suite/tests/test_annotation.py::test_metabolite_annotation_overview[biocyc]\n",
      "FAILED ../../../../usr/local/lib/python3.6/dist-packages/memote/suite/tests/test_annotation.py::test_reaction_annotation_overview[rhea]\n",
      "FAILED ../../../../usr/local/lib/python3.6/dist-packages/memote/suite/tests/test_annotation.py::test_reaction_annotation_overview[kegg.reaction]\n",
      "FAILED ../../../../usr/local/lib/python3.6/dist-packages/memote/suite/tests/test_annotation.py::test_reaction_annotation_overview[seed.reaction]\n",
      "FAILED ../../../../usr/local/lib/python3.6/dist-packages/memote/suite/tests/test_annotation.py::test_reaction_annotation_overview[metanetx.reaction]\n",
      "FAILED ../../../../usr/local/lib/python3.6/dist-packages/memote/suite/tests/test_annotation.py::test_reaction_annotation_overview[bigg.reaction]\n",
      "FAILED ../../../../usr/local/lib/python3.6/dist-packages/memote/suite/tests/test_annotation.py::test_reaction_annotation_overview[reactome]\n",
      "FAILED ../../../../usr/local/lib/python3.6/dist-packages/memote/suite/tests/test_annotation.py::test_reaction_annotation_overview[ec-code]\n",
      "FAILED ../../../../usr/local/lib/python3.6/dist-packages/memote/suite/tests/test_annotation.py::test_reaction_annotation_overview[brenda]\n",
      "FAILED ../../../../usr/local/lib/python3.6/dist-packages/memote/suite/tests/test_annotation.py::test_reaction_annotation_overview[biocyc]\n",
      "FAILED ../../../../usr/local/lib/python3.6/dist-packages/memote/suite/tests/test_annotation.py::test_gene_product_annotation_overview[refseq]\n",
      "FAILED ../../../../usr/local/lib/python3.6/dist-packages/memote/suite/tests/test_annotation.py::test_gene_product_annotation_overview[uniprot]\n",
      "FAILED ../../../../usr/local/lib/python3.6/dist-packages/memote/suite/tests/test_annotation.py::test_gene_product_annotation_overview[ecogene]\n",
      "FAILED ../../../../usr/local/lib/python3.6/dist-packages/memote/suite/tests/test_annotation.py::test_gene_product_annotation_overview[kegg.genes]\n",
      "FAILED ../../../../usr/local/lib/python3.6/dist-packages/memote/suite/tests/test_annotation.py::test_gene_product_annotation_overview[ncbigi]\n",
      "FAILED ../../../../usr/local/lib/python3.6/dist-packages/memote/suite/tests/test_annotation.py::test_gene_product_annotation_overview[ncbigene]\n",
      "FAILED ../../../../usr/local/lib/python3.6/dist-packages/memote/suite/tests/test_annotation.py::test_gene_product_annotation_overview[ncbiprotein]\n",
      "FAILED ../../../../usr/local/lib/python3.6/dist-packages/memote/suite/tests/test_annotation.py::test_gene_product_annotation_overview[ccds]\n",
      "FAILED ../../../../usr/local/lib/python3.6/dist-packages/memote/suite/tests/test_annotation.py::test_gene_product_annotation_overview[hprd]\n",
      "FAILED ../../../../usr/local/lib/python3.6/dist-packages/memote/suite/tests/test_annotation.py::test_gene_product_annotation_overview[asap]\n",
      "FAILED ../../../../usr/local/lib/python3.6/dist-packages/memote/suite/tests/test_annotation.py::test_metabolite_annotation_wrong_ids[pubchem.compound]\n",
      "FAILED ../../../../usr/local/lib/python3.6/dist-packages/memote/suite/tests/test_annotation.py::test_metabolite_annotation_wrong_ids[kegg.compound]\n",
      "FAILED ../../../../usr/local/lib/python3.6/dist-packages/memote/suite/tests/test_annotation.py::test_metabolite_annotation_wrong_ids[seed.compound]\n",
      "FAILED ../../../../usr/local/lib/python3.6/dist-packages/memote/suite/tests/test_annotation.py::test_metabolite_annotation_wrong_ids[inchikey]\n",
      "FAILED ../../../../usr/local/lib/python3.6/dist-packages/memote/suite/tests/test_annotation.py::test_metabolite_annotation_wrong_ids[inchi]\n",
      "FAILED ../../../../usr/local/lib/python3.6/dist-packages/memote/suite/tests/test_annotation.py::test_metabolite_annotation_wrong_ids[chebi]\n",
      "FAILED ../../../../usr/local/lib/python3.6/dist-packages/memote/suite/tests/test_annotation.py::test_metabolite_annotation_wrong_ids[hmdb]\n",
      "FAILED ../../../../usr/local/lib/python3.6/dist-packages/memote/suite/tests/test_annotation.py::test_metabolite_annotation_wrong_ids[reactome]\n",
      "FAILED ../../../../usr/local/lib/python3.6/dist-packages/memote/suite/tests/test_annotation.py::test_metabolite_annotation_wrong_ids[bigg.metabolite]\n",
      "FAILED ../../../../usr/local/lib/python3.6/dist-packages/memote/suite/tests/test_annotation.py::test_metabolite_annotation_wrong_ids[biocyc]\n",
      "FAILED ../../../../usr/local/lib/python3.6/dist-packages/memote/suite/tests/test_annotation.py::test_reaction_annotation_wrong_ids[rhea]\n",
      "FAILED ../../../../usr/local/lib/python3.6/dist-packages/memote/suite/tests/test_annotation.py::test_reaction_annotation_wrong_ids[kegg.reaction]\n",
      "FAILED ../../../../usr/local/lib/python3.6/dist-packages/memote/suite/tests/test_annotation.py::test_reaction_annotation_wrong_ids[seed.reaction]\n",
      "FAILED ../../../../usr/local/lib/python3.6/dist-packages/memote/suite/tests/test_annotation.py::test_reaction_annotation_wrong_ids[bigg.reaction]\n",
      "FAILED ../../../../usr/local/lib/python3.6/dist-packages/memote/suite/tests/test_annotation.py::test_reaction_annotation_wrong_ids[reactome]\n",
      "FAILED ../../../../usr/local/lib/python3.6/dist-packages/memote/suite/tests/test_annotation.py::test_reaction_annotation_wrong_ids[ec-code]\n",
      "FAILED ../../../../usr/local/lib/python3.6/dist-packages/memote/suite/tests/test_annotation.py::test_reaction_annotation_wrong_ids[brenda]\n",
      "FAILED ../../../../usr/local/lib/python3.6/dist-packages/memote/suite/tests/test_annotation.py::test_reaction_annotation_wrong_ids[biocyc]\n",
      "FAILED ../../../../usr/local/lib/python3.6/dist-packages/memote/suite/tests/test_annotation.py::test_gene_product_annotation_wrong_ids[refseq]\n",
      "FAILED ../../../../usr/local/lib/python3.6/dist-packages/memote/suite/tests/test_annotation.py::test_gene_product_annotation_wrong_ids[uniprot]\n",
      "FAILED ../../../../usr/local/lib/python3.6/dist-packages/memote/suite/tests/test_annotation.py::test_gene_product_annotation_wrong_ids[ecogene]\n",
      "FAILED ../../../../usr/local/lib/python3.6/dist-packages/memote/suite/tests/test_annotation.py::test_gene_product_annotation_wrong_ids[kegg.genes]\n",
      "FAILED ../../../../usr/local/lib/python3.6/dist-packages/memote/suite/tests/test_annotation.py::test_gene_product_annotation_wrong_ids[ncbigi]\n",
      "FAILED ../../../../usr/local/lib/python3.6/dist-packages/memote/suite/tests/test_annotation.py::test_gene_product_annotation_wrong_ids[ncbigene]\n",
      "FAILED ../../../../usr/local/lib/python3.6/dist-packages/memote/suite/tests/test_annotation.py::test_gene_product_annotation_wrong_ids[ncbiprotein]\n",
      "FAILED ../../../../usr/local/lib/python3.6/dist-packages/memote/suite/tests/test_annotation.py::test_gene_product_annotation_wrong_ids[ccds]\n",
      "FAILED ../../../../usr/local/lib/python3.6/dist-packages/memote/suite/tests/test_annotation.py::test_gene_product_annotation_wrong_ids[hprd]\n",
      "FAILED ../../../../usr/local/lib/python3.6/dist-packages/memote/suite/tests/test_annotation.py::test_gene_product_annotation_wrong_ids[asap]\n",
      "FAILED ../../../../usr/local/lib/python3.6/dist-packages/memote/suite/tests/test_annotation.py::test_metabolite_id_namespace_consistency\n",
      "FAILED ../../../../usr/local/lib/python3.6/dist-packages/memote/suite/tests/test_basic.py::test_gene_protein_reaction_rule_presence\n",
      "FAILED ../../../../usr/local/lib/python3.6/dist-packages/memote/suite/tests/test_basic.py::test_transport_reaction_gpr_presence\n",
      "FAILED ../../../../usr/local/lib/python3.6/dist-packages/memote/suite/tests/test_basic.py::test_find_unique_metabolites\n",
      "FAILED ../../../../usr/local/lib/python3.6/dist-packages/memote/suite/tests/test_basic.py::test_find_reactions_with_partially_identical_annotations\n",
      "FAILED ../../../../usr/local/lib/python3.6/dist-packages/memote/suite/tests/test_basic.py::test_find_reactions_with_identical_genes\n",
      "FAILED ../../../../usr/local/lib/python3.6/dist-packages/memote/suite/tests/test_basic.py::test_find_medium_metabolites\n",
      "FAILED ../../../../usr/local/lib/python3.6/dist-packages/memote/suite/tests/test_biomass.py::test_biomass_consistency[r_4041]\n",
      "FAILED ../../../../usr/local/lib/python3.6/dist-packages/memote/suite/tests/test_biomass.py::test_biomass_precursors_default_production[r_4041]\n",
      "FAILED ../../../../usr/local/lib/python3.6/dist-packages/memote/suite/tests/test_biomass.py::test_fast_growth_default[r_4041]\n",
      "FAILED ../../../../usr/local/lib/python3.6/dist-packages/memote/suite/tests/test_biomass.py::test_essential_precursors_not_in_biomass[r_4041]\n",
      "FAILED ../../../../usr/local/lib/python3.6/dist-packages/memote/suite/tests/test_consistency.py::test_stoichiometric_consistency\n",
      "FAILED ../../../../usr/local/lib/python3.6/dist-packages/memote/suite/tests/test_consistency.py::test_unconserved_metabolites\n",
      "FAILED ../../../../usr/local/lib/python3.6/dist-packages/memote/suite/tests/test_consistency.py::test_inconsistent_min_stoichiometry\n",
      "FAILED ../../../../usr/local/lib/python3.6/dist-packages/memote/suite/tests/test_consistency.py::test_reaction_mass_balance\n",
      "FAILED ../../../../usr/local/lib/python3.6/dist-packages/memote/suite/tests/test_consistency.py::test_blocked_reactions\n",
      "FAILED ../../../../usr/local/lib/python3.6/dist-packages/memote/suite/tests/test_consistency.py::test_find_stoichiometrically_balanced_cycles\n",
      "FAILED ../../../../usr/local/lib/python3.6/dist-packages/memote/suite/tests/test_consistency.py::test_find_orphans\n",
      "FAILED ../../../../usr/local/lib/python3.6/dist-packages/memote/suite/tests/test_consistency.py::test_find_deadends\n",
      "FAILED ../../../../usr/local/lib/python3.6/dist-packages/memote/suite/tests/test_consistency.py::test_find_metabolites_not_produced_with_open_bounds\n",
      "FAILED ../../../../usr/local/lib/python3.6/dist-packages/memote/suite/tests/test_consistency.py::test_find_metabolites_not_consumed_with_open_bounds\n",
      "FAILED ../../../../usr/local/lib/python3.6/dist-packages/memote/suite/tests/test_consistency.py::test_find_reactions_unbounded_flux_default_condition\n",
      "FAILED ../../../../usr/local/lib/python3.6/dist-packages/memote/suite/tests/test_matrix.py::test_absolute_extreme_coefficient_ratio\n",
      "FAILED ../../../../usr/local/lib/python3.6/dist-packages/memote/suite/tests/test_sbo.py::test_biomass_specific_sbo_presence\n",
      "\u001b[31m====== \u001b[31m\u001b[1m85 failed\u001b[0m, \u001b[32m42 passed\u001b[0m, \u001b[33m20 skipped\u001b[0m, \u001b[33m4 warnings\u001b[0m\u001b[31m in 4682.55s (1:18:02)\u001b[0m\u001b[31m ======\u001b[0m\n",
      "CPU times: user 1min 27s, sys: 14.4 s, total: 1min 42s\n",
      "Wall time: 1h 22min 6s\n"
     ]
    }
   ],
   "source": [
    "%%time\n",
    "!memote report snapshot ecYeastGEM_prot.xml --filename ecYeastGEM_prot.html"
   ]
  },
  {
   "cell_type": "markdown",
   "metadata": {},
   "source": [
    "The file \"ecYeastGEM_prot.html\" is the memote analysis.\n",
    "From this analysis, we can see that the total score is 16%, which is quite low. However, the tests for \"Charge Balance\", \"Metabolite Connectivity\", and a few of the reaction annotations get a score of 100%. This indicates that (Write something clever here.)"
   ]
  },
  {
   "cell_type": "code",
   "execution_count": 27,
   "metadata": {},
   "outputs": [],
   "source": [
    "predictor = pathway_prediction.PathwayPredictor(model)"
   ]
  },
  {
   "cell_type": "code",
   "execution_count": 28,
   "metadata": {},
   "outputs": [],
   "source": [
    "pathways = predictor.run(product=\"vanillin\", max_predictions=4)"
   ]
  },
  {
   "cell_type": "code",
   "execution_count": 31,
   "metadata": {},
   "outputs": [
    {
     "ename": "ValueError",
     "evalue": "Specified product 'ascorbate' could not be found. Try searching pathway_predictor_obj.universal_model.metabolites",
     "output_type": "error",
     "traceback": [
      "\u001b[0;31m---------------------------------------------------------------------------\u001b[0m",
      "\u001b[0;31mValueError\u001b[0m                                Traceback (most recent call last)",
      "\u001b[0;32m<ipython-input-31-6785945caa90>\u001b[0m in \u001b[0;36m<module>\u001b[0;34m\u001b[0m\n\u001b[0;32m----> 1\u001b[0;31m \u001b[0mpathways\u001b[0m \u001b[0;34m=\u001b[0m \u001b[0mpredictor\u001b[0m\u001b[0;34m.\u001b[0m\u001b[0mrun\u001b[0m\u001b[0;34m(\u001b[0m\u001b[0mproduct\u001b[0m\u001b[0;34m=\u001b[0m\u001b[0;34m\"ascorbate\"\u001b[0m\u001b[0;34m,\u001b[0m \u001b[0mmax_predictions\u001b[0m\u001b[0;34m=\u001b[0m\u001b[0;36m2\u001b[0m\u001b[0;34m)\u001b[0m\u001b[0;34m\u001b[0m\u001b[0;34m\u001b[0m\u001b[0m\n\u001b[0m",
      "\u001b[0;32m~/.local/lib/python3.6/site-packages/cameo/strain_design/pathway_prediction/pathway_predictor.py\u001b[0m in \u001b[0;36mrun\u001b[0;34m(self, product, max_predictions, min_production, timeout, callback, silent, allow_native_exchanges)\u001b[0m\n\u001b[1;32m    284\u001b[0m         \"\"\"\n\u001b[1;32m    285\u001b[0m \u001b[0;34m\u001b[0m\u001b[0m\n\u001b[0;32m--> 286\u001b[0;31m         \u001b[0mproduct\u001b[0m \u001b[0;34m=\u001b[0m \u001b[0mself\u001b[0m\u001b[0;34m.\u001b[0m\u001b[0m_find_product\u001b[0m\u001b[0;34m(\u001b[0m\u001b[0mproduct\u001b[0m\u001b[0;34m)\u001b[0m\u001b[0;34m\u001b[0m\u001b[0;34m\u001b[0m\u001b[0m\n\u001b[0m\u001b[1;32m    287\u001b[0m \u001b[0;34m\u001b[0m\u001b[0m\n\u001b[1;32m    288\u001b[0m         \u001b[0mpathways\u001b[0m \u001b[0;34m=\u001b[0m \u001b[0mlist\u001b[0m\u001b[0;34m(\u001b[0m\u001b[0;34m)\u001b[0m\u001b[0;34m\u001b[0m\u001b[0;34m\u001b[0m\u001b[0m\n",
      "\u001b[0;32m~/.local/lib/python3.6/site-packages/cameo/strain_design/pathway_prediction/pathway_predictor.py\u001b[0m in \u001b[0;36m_find_product\u001b[0;34m(self, product)\u001b[0m\n\u001b[1;32m    457\u001b[0m             raise ValueError(\n\u001b[1;32m    458\u001b[0m                 \u001b[0;34m\"Specified product '{product}' could not be found. \"\u001b[0m\u001b[0;34m\u001b[0m\u001b[0;34m\u001b[0m\u001b[0m\n\u001b[0;32m--> 459\u001b[0;31m                 \"Try searching pathway_predictor_obj.universal_model.metabolites\".format(product=product))\n\u001b[0m\u001b[1;32m    460\u001b[0m         \u001b[0;32melif\u001b[0m \u001b[0misinstance\u001b[0m\u001b[0;34m(\u001b[0m\u001b[0mproduct\u001b[0m\u001b[0;34m,\u001b[0m \u001b[0mMetabolite\u001b[0m\u001b[0;34m)\u001b[0m\u001b[0;34m:\u001b[0m\u001b[0;34m\u001b[0m\u001b[0;34m\u001b[0m\u001b[0m\n\u001b[1;32m    461\u001b[0m             \u001b[0;32mtry\u001b[0m\u001b[0;34m:\u001b[0m\u001b[0;34m\u001b[0m\u001b[0;34m\u001b[0m\u001b[0m\n",
      "\u001b[0;31mValueError\u001b[0m: Specified product 'ascorbate' could not be found. Try searching pathway_predictor_obj.universal_model.metabolites"
     ]
    }
   ],
   "source": [
    "pathways = predictor.run(product=\"ascorbate\", max_predictions=2)"
   ]
  },
  {
   "cell_type": "code",
   "execution_count": 29,
   "metadata": {},
   "outputs": [],
   "source": [
    "#pathways = predictor.run(product=\"7-Dehydrocholesterol\", max_predictions=1)"
   ]
  },
  {
   "cell_type": "code",
   "execution_count": 38,
   "metadata": {},
   "outputs": [
    {
     "ename": "NameError",
     "evalue": "name 'pathway_predictor_obj' is not defined",
     "output_type": "error",
     "traceback": [
      "\u001b[0;31m---------------------------------------------------------------------------\u001b[0m",
      "\u001b[0;31mNameError\u001b[0m                                 Traceback (most recent call last)",
      "\u001b[0;32m<ipython-input-38-c8a4832b2c90>\u001b[0m in \u001b[0;36m<module>\u001b[0;34m\u001b[0m\n\u001b[0;32m----> 1\u001b[0;31m \u001b[0mpathway_predictor_obj\u001b[0m\u001b[0;34m.\u001b[0m\u001b[0mmodel\u001b[0m\u001b[0;34m.\u001b[0m\u001b[0mmetabolites\u001b[0m\u001b[0;34m\u001b[0m\u001b[0;34m\u001b[0m\u001b[0m\n\u001b[0m",
      "\u001b[0;31mNameError\u001b[0m: name 'pathway_predictor_obj' is not defined"
     ]
    }
   ],
   "source": [
    "pathway_predictor_obj.model.metabolites"
   ]
  },
  {
   "cell_type": "code",
   "execution_count": 30,
   "metadata": {},
   "outputs": [
    {
     "data": {
      "text/html": [
       "<div>\n",
       "<style scoped>\n",
       "    .dataframe tbody tr th:only-of-type {\n",
       "        vertical-align: middle;\n",
       "    }\n",
       "\n",
       "    .dataframe tbody tr th {\n",
       "        vertical-align: top;\n",
       "    }\n",
       "\n",
       "    .dataframe thead th {\n",
       "        text-align: right;\n",
       "    }\n",
       "</style>\n",
       "<table border=\"1\" class=\"dataframe\">\n",
       "  <thead>\n",
       "    <tr style=\"text-align: right;\">\n",
       "      <th></th>\n",
       "      <th>targets</th>\n",
       "    </tr>\n",
       "  </thead>\n",
       "  <tbody>\n",
       "  </tbody>\n",
       "</table>\n",
       "</div>"
      ],
      "text/plain": [
       "<cameo.strain_design.pathway_prediction.pathway_predictor.PathwayPredictions at 0x7fa3b47564a8>"
      ]
     },
     "execution_count": 30,
     "metadata": {},
     "output_type": "execute_result"
    }
   ],
   "source": [
    "pathways"
   ]
  },
  {
   "cell_type": "code",
   "execution_count": 41,
   "metadata": {},
   "outputs": [],
   "source": [
    "pathways = predictor.run(product=\"ethanol\", max_predictions=1)"
   ]
  },
  {
   "cell_type": "markdown",
   "metadata": {},
   "source": [
    "## 4. Computer-Aided Cell Factory Engineering (<1500 words if Category II project; <500 words for Category I project)"
   ]
  },
  {
   "cell_type": "markdown",
   "metadata": {},
   "source": [
    "## 5. Discussion (<500 words)"
   ]
  },
  {
   "cell_type": "markdown",
   "metadata": {},
   "source": [
    "## 6. Conclusion (<200 words)"
   ]
  },
  {
   "cell_type": "markdown",
   "metadata": {},
   "source": [
    "## References"
   ]
  },
  {
   "cell_type": "code",
   "execution_count": null,
   "metadata": {},
   "outputs": [],
   "source": []
  }
 ],
 "metadata": {
  "kernelspec": {
   "display_name": "python3.6",
   "language": "python",
   "name": "python3.6"
  },
  "language_info": {
   "codemirror_mode": {
    "name": "ipython",
    "version": 3
   },
   "file_extension": ".py",
   "mimetype": "text/x-python",
   "name": "python",
   "nbconvert_exporter": "python",
   "pygments_lexer": "ipython3",
   "version": "3.6.12"
  }
 },
 "nbformat": 4,
 "nbformat_minor": 4
}
