{
 "cells": [
  {
   "cell_type": "markdown",
   "metadata": {},
   "source": [
    "# D-vitamin production through *Saccharomyces cerevisiae*"
   ]
  },
  {
   "cell_type": "markdown",
   "metadata": {},
   "source": [
    "## 1. Introduction"
   ]
  },
  {
   "cell_type": "markdown",
   "metadata": {},
   "source": [
    "### 1.1 Literature review of the compound"
   ]
  },
  {
   "cell_type": "markdown",
   "metadata": {},
   "source": [
    "The product introduced in this project is vitamin D3, most commonly referred to as simply vitamin D. The vitamin is essential to the intestinal absorption of calcium, magnesium and phosphate. It can be produced by the skin through a reaction dependent on UVB light – from sunlight [1], and is also present in egg yolks and fish [2].\n",
    "\n",
    "The most popular use of vitamin D is as a supplement, specially for countries in the Northern hemisphere, with long winter-nights without much sunlight available [10]. More than 10% of Europeans have severe vitamin D deficiency, while the number for non-severe deficiency is <20% for Northern Europeans and 30-60% for the rest of Europe [4]. However, deficiency is also widespread in Asia, specially China. [3]\n",
    "\n",
    "A new usage – while still as supplement – is taking vitamin D as a preventative against infection with COVID-19 (a respiratory infection), which is a pandemic that begun in 2019 and is still ravaging through the world at over one million dead [5]. Some trial studies have found no impact when taking vitamin D [6], while other researchers are still conducting experiments to elucidate the matter further [7]. Nonetheless, it is known that vitamin D can alleviate the risk of respiratory infections in general [8,9].\n",
    "\n",
    "While research is, as of yet, inconclusive with regards to vitamin D and its effect on COVID-19, the market has reacted to this increased interest. For example, Danish news agency DR (Danmarks Radio) recently reported that the consumption of vitamin D has increased up to 50% since September 2020. [10]\n",
    "\n",
    "Furthermore, with the increasing wages in Asia, an increase in vitamin D supplements is noted: The average annual growth rate (CAGR) of vitamin D is around 7% for 2019-2024 [3]. Interestingly, the market is quite competitive, without one dominant player [3]. Instead multiple companies produce and sell vitamin D (Pfizer, GlaxoSmithKline etc) [3]. \n",
    "\n"
   ]
  },
  {
   "cell_type": "markdown",
   "metadata": {},
   "source": [
    "### 1.2 Literature review of the cell factory"
   ]
  },
  {
   "cell_type": "markdown",
   "metadata": {},
   "source": [
    "Budding yeast (*Saccharomyces cerevisiae*) is one of the most used microorganisms in human history [12, 13]. The first evidence of the use of microorganisms is suspected to involve some kind of yeast, plausibly *S. cerevisiae*, and dates back to Ancient Egypt [14]. Today, this organism is used in a wide variety of productions, ranging from ethanol and small organic compounds to cancer medication [15].\n",
    "\n",
    "One important difference between *S. cerevisiae* and all used bacterial microorganisms is that yeasts are eukaryotes, which means they have, among other things, cellular compartments. This makes a large difference in terms of complexity, as transport between different compartments needs to be factored in. Furthermore, it allows for more complex pathways to be split up between  locations where the local environment might be more hospitable. Due to the large usage of the organism, it has been extensively studied and is popular for usage in the industry, making it a good candidate for the production of vitamins and other biochemicals [13].\n",
    "The yeast also has many well-established DNA cassettes, making construction of the heterologous strain more efficient [15].\n",
    "\n",
    "While the organism has many advantages and is widely used, it has some drawbacks as well. Usually, industry and academia has used glucose and disaccharides as substrate and carbon source, however this is neither environmentally sustainable, nor is it necessarily cheap. From these perspectives, it would be more advantageous to use a strain which can naturally use cellulose, lignin or xylose as substrate, which are abundant in nature.\n",
    "Another issue using *S. cerevisiae* can be the unwanted production of ethanol (even under aerobic conditions, dubbed the crabtree effect), since the cell factor will divert the carbon and energy towards production of ethanol rather than the wanted metabolite [13].\n",
    "\n",
    "Vitamin D has been experimentally produced in *Saccharomyces cerevisiae* at a yield of 1.07 g/L in a fed-batch fermentation. [11]\n",
    "Since *S. cerevisiae* naturally produces zymosterol, this can be used as a precursor to produce 5alpha-Cholest-8-en-3beta-ol through a heterologous reaction in the Genome-scale model of *S. cerevisiae*. From there, another reaction can be added to produce lathosterol. Lastly 7-dehydrocholesterol can be produced through a third and final added reaction. The details can be seen and read in 4.1.\n",
    "7-dehydrocholesterol must be purified in down-stream processing. When it is UV-treated, the result is vitamin-D3 [23], which can then be marketed and sold to consumer or business. "
   ]
  },
  {
   "cell_type": "markdown",
   "metadata": {},
   "source": [
    "## 2. Problem definition"
   ]
  },
  {
   "cell_type": "markdown",
   "metadata": {},
   "source": [
    "In this project, there is a main focus on engineering *S. cerevisiae* as a cell factory to produce a D-vitamin precursor. Currently, D vitamin is mainly produced by extracting the precursor from sheepswool [26]. However, with this method the production would be vegan as well as possibly more optimised and less dependent on external factors such as healthy sheep.\n",
    "\n",
    "To produce the vitamin D precursor in *S. cerevisiae*, firstly the relevant genes must be introduced in an already existing GSM model. This must then be optimized in a way that focuses on both biomass production as well as vitamin D precursor production, such that the yield can become industrially feasible or near-feasible. \n"
   ]
  },
  {
   "cell_type": "markdown",
   "metadata": {},
   "source": [
    "## 3. Selection and assessment of existing GSM"
   ]
  },
  {
   "cell_type": "markdown",
   "metadata": {},
   "source": [
    "For this project, a metabolic model of yeast is needed. Four GEMs for the yeast *S. cerevisiae* have been selected. All of these will be evaluated using Memote [16] to determine which to use going forward.\n",
    "\n",
    "The first two models are gathered from BiGG. They are iMM904 [17,18] and iND750 [19,20] , and they are both medium sized models in terms of the number of metabolites and reactions. The next models is Yeast8 [21], which is an exspansive yeast model.  This model was first published in 2019 by Lu et al. and has been updated in an open source manner using GitHub. The last model is ecYeast8 [21], which is an enzyme-constrained variant of Yeast8. This means that it should give more accurate productions with regards to real-life observations\n",
    "\n",
    "The iMM904 model and iND750 model are available from their respective BiGG pages [17,19]. Yeast8 model files can be found on the projects [GitHub repository](https://github.com/SysBioChalmers/yeast-GEM) and in the Lu et al. paper from 2019 [21]. The version of the ecYeast8 model used here is sourced from the GitHub projects [GitHub repository](https://github.com/SysBioChalmers/GECKO/tree/master/models/prot_constrained/ecYeastGEM_prot)\n",
    "\n",
    "### 3.1 First validation of the models\n",
    "First the models must be loaded into the repository. The .xml files have been downloaded from the respective sources and collected in the 'data' folder. \n",
    "\n",
    "As mentioned in the README, the code will be executed in the adjacent file called '[0-Code_Memote](0-Code_Memote.ipynb)'. From the loading of the models, one can assess the number of metabolites, reactions and compartments. This information is collected in Table 1. \n",
    "\n",
    "The models can subsequently be analyzed by Memote to get an evaluation of their quality. The Memote files are gathered in the 'memote' folder and their final scores are also shown in Table 1.\n",
    "\n",
    "\n",
    "**Table 1: Overview of metabolic models**\n",
    "\n",
    "| Model | # Metabolites | # Reactions | # Compartments | Memote analysis |\n",
    "| --- | --- | --- | --- | --- |\n",
    "| iMM904 | 1226 | 1577 | 8 | 85% |\n",
    "| iND750 | 1059 | 1266 | 8 | 86% |\n",
    "| Yeast8 | 2742 | 4058 | 14 | 65% |\n",
    "| ecYeast8 | 4180 | 8144 | 14 | 16% |\n",
    "\n",
    "\n",
    "As seen from the memote analysis, the iND750 has the highest quality with 86% and the ecYeast8 model has the lowest quality with 16%. However, this is not quite logical to compare the ecYeast8 model with the rest, as this model has added enzyme constraints. The addition of enzyme constraints aims to make the model more accurate to experimental data, but it does not fit into the criteria of the Memote analysis, which can explain why it has such a lower score.\n",
    "\n",
    "When deciding which model to use in this project, it is desireable that the model is as accurate to real life as possible, while also being useful and applicable. Therefore, the Yeast8 model has been chosen in this project, as it has a fine quality and also represents a modern GEM with the additions of recent advances in the construction of GEMs.\n",
    "Furthermore, in the addition of the heterologous pathway in the next section, ferricytochrome b5 is needed, which does not exist in either the iMM904 or the iND750 models. "
   ]
  },
  {
   "cell_type": "markdown",
   "metadata": {},
   "source": [
    "## 4. Computer-Aided Cell Factory Engineering\n",
    "In the engineering of the cell factory, the heterologous pathway for the production of 7-dehydrocholesterol must be added. Following this, different strategies for optimization of the cell factory can be explored."
   ]
  },
  {
   "cell_type": "markdown",
   "metadata": {},
   "source": [
    "### 4.1 Addition of a heterologous pathway\n",
    "\n",
    "Based on the KEGG database, one way to produce 7-dehydrocholesterol is through the human biosynthesis pathway [22]. This yeast8 model can natively produce zymosterol, and from this reactions can be added to produce 7-dehydrocholesterol. See figure 1 for pathway.\n",
    "\n",
    "![image info](figures/Biosynthetic_pathway1.png)\n",
    "\n",
    "**Figure 1: Overview of the biosynthetic patway from zymosterol to 7-dehydrocholesterol. Image based on [23]**\n",
    "\n",
    "To get the pathway from zymosterol to 7-dehydrocholesterol, one will need three reactions: [R07498](https://www.genome.jp/dbget-bin/www_bget?R07498), [R03353](https://www.genome.jp/dbget-bin/www_bget?R03353), and [R07215](https://www.genome.jp/dbget-bin/www_bget?R07215).\n",
    "\n",
    "The reactions are as follows: \n",
    "<ol>\n",
    "    <li>R07498: Zymosterol + NADPH + H<sup>+</sup> < = > 5alpha-Cholest-8-en-3beta-ol + NADP<sup>+</sup> </li>\n",
    "    <li>R03353: Lathosterol < = > 5alpha-Cholest-8-en-3beta-ol </li>\n",
    "    <li>R07215: Lathosterol + 2 Ferrocytochrome b5 + Oxygen + 2 H<sup>+</sup> < = > 7-Dehydrocholesterol + 2 Ferricytochrome b5 + 2 H<sub>2</sub>O </li>\n",
    "</ol>\n",
    "To add these reactions to the model, the metabolite names in the model are needed. They are as follows:\n",
    "\n",
    "**Table 2: Metabolites in heterologous pathway**\n",
    "\n",
    "| Metabolite | Model identifier |\n",
    "|---|---|\n",
    "| Zymosterol | s_1569[c] |\n",
    "| NADPH | s_1212[c] |\n",
    "| H<sup>+</sup> | s_0794[c] |\n",
    "| NADP<sup>+</sup> | s_1207[c] |\n",
    "| Ferrocytochrome b5  | s_0710[m] |\n",
    "| Ferricytochrome b5 | s_0803[c] |\n",
    "| Oxygen | s_1275[c] |\n",
    "| H<sub>2</sub>O | s_0709[m] |\n",
    "| 5alpha-Cholest-8-en-3beta-ol | Undefined |\n",
    "| Lathosterol | Undefined |\n",
    "| 7-Dehydrocholesterol | Undefined |\n",
    "\n",
    "\n",
    "these reactions and metabolited will be added to the model in turn, as seen in the code file called '[1-Code_Heterologous-pathway](1-Code_Heterologous-pathway.ipynb)'. "
   ]
  },
  {
   "cell_type": "markdown",
   "metadata": {},
   "source": [
    "From this code document, the model is now capable of producing 7-dehydrocholesterol with a maximal flux through its final reaction of apprximately 0.0412 mmol gDW<sup>-1</sup> h<sup>-1</sup>. This iteration of the model with the added biosynthetic pathway is saved as \"yeastGEM_het.xml\" (for **het**erologous pathway) and can be found by the other model files in the 'data' folder."
   ]
  },
  {
   "cell_type": "markdown",
   "metadata": {},
   "source": [
    "### 4.2 Phenotypic phase plane analysis and knock-outs\n",
    "Now that the model is able to produce 7-dehydrocholesterol, production must be optimized. Currently, there is a trade-off between growth and production of the target compound, as seen on Figure 2 below. This means that the yeast focuses on growth rather on the compound, since production of the compound diminishes growth. \n",
    "To fix this, different optimization strategies can be simulated, starting with select gene knock-outs."
   ]
  },
  {
   "cell_type": "markdown",
   "metadata": {},
   "source": [
    "![image info](figures/initial_ppp.png)\n",
    "\n",
    "**Figure 2: Phenotypic phase plane anlysis of the initial metabolic model**"
   ]
  },
  {
   "cell_type": "markdown",
   "metadata": {},
   "source": [
    "Firstly, attempts with implementing the knock-outs that have been experimentally tested in [24] were conducted. The code for this section can be seen in '[2-Code_PPP](2-Code_PPP.ipynb)'.\n",
    "The genes ERG5, ERG6, and GAL7,1,10 were knocked out in sequence. However, they showed no significant increase in either maximal growth rate or maximal 7-dehydrocholesterol production rate.\n",
    "The phenotypic phase plan analyses of the tried knockouts can be seen in Figure 3."
   ]
  },
  {
   "cell_type": "markdown",
   "metadata": {},
   "source": [
    "![image info](figures/ERG5_knockout.png) \n",
    "![image info](figures/ERG6_knockout.png)\n",
    "\n",
    "![image info](figures/GAL_knockout.png)\n",
    "![image info](figures/GAL_ERG6_knockout.png)\n",
    "\n",
    "**Figure 3: Phenotypic phase planes of knockout strains**"
   ]
  },
  {
   "cell_type": "markdown",
   "metadata": {},
   "source": [
    "### 4.3 Optimization of carbon sources\n",
    "\n",
    "For the optimization of the cell factory, one can also try to optimize which carbon source the cell factory uses. In the '[3-Code_Carbon-sources](3-Code_Carbon-sources.ipynb)' document, different individual carbon sources are analysed, as well as the maximal growth rate and maximal 7-dehydrocholesterol production rate. The resulting scatterplot of the maximal growth rate and production rate can be seen in Figure 4.\n",
    "\n",
    "![image info](figures/carbon_sources.png)\n",
    "\n",
    "**Figure 4: Plot showing the maximal growth rate and maximal 7-dehydrocholesterol production rate for all carbon sources in the model**"
   ]
  },
  {
   "cell_type": "markdown",
   "metadata": {},
   "source": [
    "As mentioned in the code document, sucrose gives double the growth and production as glucose. This is caused by sucrose being a disaccharide that is composed of a glucose and a fructose molecule. \n",
    "Therefore, the same result can be achieved by increasing the glucose available in the medium.\n",
    "However, this model is specificaly glucose limited, and thus it is built around low glucose availability.\n",
    "It is important that the model is kept under glucose limitation, as excess glucose can cause ethanol-production and repress metabolite production. This is part of the so-called crabtree effect [25].\n",
    "\n",
    "Furthermore, glucose is a cheaper substrate than sucrose, which means that that it is favorable in large scale productions.  \n",
    "For these reasons, the carbon source is kept as glucose, at the same availability."
   ]
  },
  {
   "cell_type": "markdown",
   "metadata": {},
   "source": [
    "### 4.4 Automatic strategies\n",
    "Automatic optimization strategies like OptGene [27] and OptKnock [24,28] are  tools that can provide a  starting place for computational engineering of cell factories. However, they can be very time intensive, especially when dealing with a large metabolic model such as the Yeast8 model. \n",
    "\n",
    "OptGene has here been used to optimize the production of 7-dehydrocholesterol in the GEM. The code for this optimization strategy can be found in '[4-Code_Automatic-optimization](4-Code_Automatic-optimization.ipynb)'.\n",
    "\n",
    "So far, this method has not yet given any actionable information with regards to the optimization of the cell factory. This might be caused by the large number of genes, reactions, and metabolites in the model. In a genetic algorithm like OptGene, this makes the time required for each iteration quite large, which minimizes the usefulness of the method for large models like the one used here.\n",
    "\n",
    "optKnock did not yield any useable code either, possibly due to the limitations of the programming environment."
   ]
  },
  {
   "cell_type": "markdown",
   "metadata": {},
   "source": [
    "### 4.5 FSEOF analysis\n",
    "\n",
    "The technique called flux scanning based on enforced objective flux (FSEOF) can be used to identify reactions whose flux are raised or lowered when the cell factory is forced to maintain a certain growth rate, while producing the compound of interest. The code for  FSEOF analysis can be seen in the document '[5-Code_FSEOF](5-Code_FSEOF.ipynb)' (as  well as the proper formatting of Figure 5).\n",
    "\n",
    "This FSEOF analysis illuminated that there was a large negative correlation beteen phosphate H<sup>+</sup> symport and production of 7-dehydrocholesterol, as seen in Figure 5.\n",
    "\n",
    "![image info](figures/FSEOF.png)\n",
    "\n",
    "**Figure 5: Plot showing the changes in fluxes with increased forced production of 7-dehydrocholesterol**\n",
    "\n",
    "Following this, knock-outs of the phosphate transport reaction (Figure 6, left) and just limiting the amount of phosphate in the medium (Figure 6, right) were attempted. A complete knockout did nothing to alter the production pattern, as seen in the phenotypic phase plan analysis. However, in the phosphate-limited environment, one can see a deviation from the phenotypic phase plan results seen previously. In this graph, a dramatic limitation in the production capabilities of 7-dehydrocholesterol is seen, but the topography is clearly distinct from all other phenotypic phase plan analyses produced so far. Due to the low production, the model was not altered after these simulations.\n",
    "\n",
    "![image info](figures/phospate_knockout_ppp.png) ![image info](figures/phosphate_minimization_ppp.png)\n",
    "\n",
    "**Figure 6: Plot showing the PPP of a knockout in the phosphate uptake reaction (left) and a reduction in extracellular phosphate (right).**"
   ]
  },
  {
   "cell_type": "markdown",
   "metadata": {},
   "source": [
    "### 4.6 Co-factor swap\n",
    "\n",
    "The co-factors used in the various reactions of the metabolic model can be swapped to leave more room for the synthesis of the target compound. In this case, sterol synthesis requires reductive power from NADPH, which means that a benefit might be seen by shifting other reactions to using NADH instead.   \n",
    "The code for this section can be seen in the file '[6-Code_Co-factor](6-Code_Co-factor.ipynb)'.\n",
    "\n",
    "An exchange of NADH to NADPH was attempted, leading to a suggested swap for the isocitrate dehydrogenase reaction (r_0659). However, this lead to a -68.76% decrease in 7-dehydrocholesterol production. This may be because the swap has further consequences on other reactions, leading to this unexpected decrease. This strategy was therefore abandoned.\n",
    "\n",
    "![image info](figures/co-factor.png)\n",
    "**Figure 6: Plot showing the PPP of a cofactor swap in the isocitrate dehydrogenase reaction.**"
   ]
  },
  {
   "cell_type": "markdown",
   "metadata": {},
   "source": [
    "## 5. Discussion\n",
    "\n",
    "This project focuses on the the production of 7-dehydrocholesterol in *Saccharomyces cerevisiae*, starting with the addition of the human biosynthetic pathway to the Yeast8 GSM. This iteration of the model was saved as “yeastGEM_het.xml”. This model had a maximal production of 7-dehydrocholesterol at 0.042 mmol gDW<sup>-1</sup> h<sup>-1</sup>.\n",
    "\n",
    "To attempt optimization of this, manual knockouts and alterations to the growth media were simulated. Both methods did not yield any significant improvements to the production of the target compound. On the other hand, the methods illuminated a robustness in the model with regards to knockouts. Thus, a lot of effort is required to significantly alter the phenotypic phase plane with regards to production of 7-dehydrocholesterol. The results also showed that the media has a significant effect on both the growth and the heterologous production, due to the model being glucose-limited. A more thorough optimization of the growth media could be employed to increase the flux for both pathways. \n",
    "\n",
    "Next, automatic optimization strategies were used to improve the production in the cell factory. However, due to the large size of the model, both in terms of genes, reactions and metabolites, the automatic optimization strategies took a very long time to compute. Nonetheless, the optGene optimization did not yield any results which could be fruitful for the increased production of 7-dehydrocholesterol. Furthermore, each computation took between one and three hours, which was infeasible due to the server down-time. Therefore, this approach was abandoned. \n",
    "\n",
    "Following this, FSEOF analysis of our product formation was performed. This indicated that phosphate uptake was downregulated when the target compound flux increased. Therefore, simulations were conducted, with a knockout mutation as well as engineering of the media. Here, it was found that Phenotypic phase plan topology could be altered by changing the phosphate concentration in the media, but that it also greatly decreased the capacity for production of 7-dehydrocholesterol. This approach was therefore dropped, but it could be included in subsequent media optimization projects. \n",
    "\n",
    "Going forward, the problems could be solved in a couple of ways. First, another model could have been chosen as the starting point. However, the two smaller models that were considered did not have the required metabolites ferro- and ferri-cytochrome b5, which means that it would have to be added before the heterologous pathway could function. While possible, it requires a greater understanding of the reduction potential pathways in yeast. Second, one could use a faster server. DTU students have access to the High Performance Computing (HPC) server, but this requires some expertise in optimizing the script for a non-iPython interface, which was too time-consuming. If this is achieved, then it would be interesting to try other optimization algorithms such as optKnock and optGene, to explore the various ways this cell factory can be optimized. \n",
    "\n"
   ]
  },
  {
   "cell_type": "markdown",
   "metadata": {},
   "source": [
    "## 6. Conclusion \n",
    "\n",
    "In this project we tried to optimize the production of vitamin D in the cell factory *Saccharomyces cerevisiae*. We chose to use Yeast8 as the starting model of this work, as it represented a modern and comprehensive GEM.  \n",
    "We added a heterologous pathway for the production of 7-dehydrocholesterol, which is the precursor of vitamin D3. Following this, we applied various optimization strategies to increase the flux of the production pathway. However, none of the attempted optimization strategies have yielded any decisive results yet. We believe that more computing resources could be used to generate meaningful results using automatic optimization strategies, such as OptGene. However, we have so far learned that optimization of the growth media looks very promising with regards to achieving high production flux and growth rates. This, we hope, can serve as the starting point for future optimizations that can achieve high production of vitamin D. \n"
   ]
  },
  {
   "cell_type": "markdown",
   "metadata": {},
   "source": [
    "## References"
   ]
  },
  {
   "cell_type": "markdown",
   "metadata": {},
   "source": [
    "[1] Holick, M., MacLaughlin, J., Clark, M., Holick, S., Potts, J., & Anderson, R. et al. (1980). Photosynthesis of previtamin D3 in human skin and the physiologic consequences. Science, 210(4466), 203-205. doi: 10.1126/science.6251551\n",
    "\n",
    "\n",
    "[2] Brown, A., Dusso, A., & Slatopolsky, E. (1999). Vitamin D. American Journal Of Physiology-Renal Physiology, 277(2), F157-F175. doi: 10.1152/ajprenal.1999.277.2.f157\n",
    "\n",
    "\n",
    "[3] Global Vitamin D Supplements Market | Growth | Trends  | Forecast. (2020). Retrieved 14 November 2020, from https://www.mordorintelligence.com/industry-reports/vitamin-d-supplements-market\n",
    "\n",
    "\n",
    "[4] Lips, P., Cashman, K., Lamberg-Allardt, C., Bischoff-Ferrari, H., Obermayer-Pietsch, B., & Bianchi, M. et al. (2019). Current vitamin D status in European and Middle East countries and strategies to prevent vitamin D deficiency: a position statement of the European Calcified Tissue Society. European Journal Of Endocrinology, 180(4), P23-P54. doi: 10.1530/eje-18-0736\n",
    "\n",
    "\n",
    "[5] COVID-19 pandemic. (2020). Retrieved 28 November 2020, from https://www.ecdc.europa.eu/en/covid-19-pandemic\n",
    "\n",
    "\n",
    "[6] Factors for decision making | COVID-19 rapid evidence summary: vitamin D for COVID-19 | Advice | NICE. (2020). Retrieved 28 November 2020, from https://www.nice.org.uk/advice/es28/chapter/Factors-for-decision-making\n",
    "\n",
    "\n",
    "[7] Quesada-Gomez, J., Entrenas-Castillo, M., & Bouillon, R. (2020). Vitamin D receptor stimulation to reduce acute respiratory distress syndrome (ARDS) in patients with coronavirus SARS-CoV-2 infections. The Journal Of Steroid Biochemistry And Molecular Biology, 202, 105719. doi: 10.1016/j.jsbmb.2020.105719\n",
    "\n",
    "\n",
    "[8] Weir, E., Thenappan, T., Bhargava, M., & Chen, Y. (2020). Does vitamin D deficiency increase the severity of COVID-19?. Clinical Medicine, 20(4), e107-e108. doi: 10.7861/clinmed.2020-0301\n",
    "\n",
    "\n",
    "[9] Martineau, A., Jolliffe, D., Hooper, R., Greenberg, L., Aloia, J., & Bergman, P. et al. (2017). Vitamin D supplementation to prevent acute respiratory tract infections: systematic review and meta-analysis of individual participant data. BMJ, i6583. doi: 10.1136/bmj.i6583\n",
    "\n",
    "\n",
    "[10] Axelsen, S., & Lichscheidt, E. (2020). Salget af D-vitamin er eksploderet – men Giftlinjen og overlæge advarer om overforbrug. Retrieved 27 November 2020, from https://www.dr.dk/nyheder/regionale/oestjylland/salget-af-d-vitamin-er-eksploderet-men-giftlinjen-og-overlaege-advarer\n",
    "\n",
    "\n",
    "[11] Guo, X., Xiao, W., Wang, Y., Yao, M., Zeng, B., & Liu, H. et al. (2018). Metabolic engineering of Saccharomyces cerevisiae for 7-dehydrocholesterol overproduction. Biotechnology For Biofuels, 11(1). doi: 10.1186/s13068-018-1194-9\n",
    "\n",
    "\n",
    "[12] Industrial Microbiology | Boundess Microbiology. (2020). Retrieved 1 December 2020, from https://courses.lumenlearning.com/boundess-microbiology/chapter/industrial-microbiology/\n",
    "\n",
    "\n",
    "[13] Kavšček, M., Stražar, M., Curk, T., Natter, K., & Petrovič, U. (2015). Yeast as a cell factory: current state and perspectives. Microbial Cell Factories, 14(1). doi: 10.1186/s12934-015-0281-x\n",
    "\n",
    "\n",
    "[14] Ltd, N. (2004). h2g2 - The History of Bread Yeast - Edited Entry. Retrieved 1 December 2020, from https://h2g2.com/edited_entry/A2791820\n",
    "\n",
    "\n",
    "[15] Żymańczyk-Duda, E., Brzezińska-Rodak, M., Klimek-Ochab, M., Duda, M., & Zerka, A. (2017). Yeast as a Versatile Tool in Biotechnology. Yeast - Industrial Applications. doi: 10.5772/intechopen.70130\n",
    "\n",
    "[16] Lieven, C., Beber, M. E., Olivier, B. G., Bergmann, F. T., Ataman, M., Babaei, P., … Zhang, C. (2020). MEMOTE for standardized genome-scale metabolic model testing. Nature Biotechnology, 38(3), 272–276. https://doi.org/10.1038/s41587-020-0446-y\n",
    "\n",
    "[17] BiGG Model iMM904. (n.d.). Retrieved December 1, 2020, from http://bigg.ucsd.edu/models/iMM904\n",
    "\n",
    "\n",
    "[18] Mo, M. L., Palsson, B., & Herrgård, M. J. (2009). Connecting extracellular metabolomic measurements to intracellular flux states in yeast. BMC Systems Biology, 3. doi: 10.1186/1752-0509-3-37\n",
    "\n",
    "\n",
    "[19] BiGG Model iND750. (n.d.). Retrieved December 1, 2020, from http://bigg.ucsd.edu/models/iND750\n",
    "\n",
    "\n",
    "[20] Duarte, N. C., Herrgård, M. J., & Palsson, B. (2004). Reconstruction and validation of Saccharomyces cerevisiae iND750, a fully compartmentalized genome-scale metabolic model. Genome Research, 14(7), 1298–1309. doi: 10.1101/gr.2250904\n",
    "\n",
    "\n",
    "[21] Lu, H., Li, F., Sánchez, B., Zhu, Z., Li, G., & Domenzain, I. et al. (2019). A consensus S. cerevisiae metabolic model Yeast8 and its ecosystem for comprehensively probing cellular metabolism. Nature Communications, 10(1). doi: 10.1038/s41467-019-11581-3\n",
    "\n",
    "\n",
    "[22] KEGG MODULE: M00101. (n.d.). Retrieved December 1, 2020, from https://www.genome.jp/kegg-bin/show_module?hsa_M00101+1718\n",
    "\n",
    "\n",
    "[23] KEGG PATHWAY: Steroid biosynthesis - Reference pathway. (n.d.). Retrieved December 1, 2020, from https://www.genome.jp/kegg-bin/show_pathway?map00100+C05443\n",
    "\n",
    "\n",
    "[24] Burgard, A., Pharkya, P., & Maranas, C. (2003). Optknock: A bilevel programming framework for identifying gene knockout strategies for microbial strain optimization. Biotechnology And Bioengineering, 84(6), 647-657. doi: 10.1002/bit.10803\n",
    "\n",
    "\n",
    "[25] Hagman, A., & Piškur, J. (2015). A Study on the Fundamental Mechanism and the Evolutionary Driving Forces behind Aerobic Fermentation in Yeast. PLOS ONE, 10(1), e0116942. doi: 10.1371/journal.pone.0116942\n",
    "\n",
    "[26] SuperNatural D3 - SHIFT™. (2020). Retrieved 1 December 2020, from https://supershift.no/supernatural-d3/\n",
    "\n",
    "[27] Patil, K., Rocha, I., Förster, J., & Nielsen, J. (2005). BMC Bioinformatics, 6(1), 308. doi: 10.1186/1471-2105-6-308\n",
    "\n",
    "\n",
    "[28] Predict gene knockout strategies — cameo 0.13.0 documentation. (2020). Retrieved 1 December 2020, from http://cameo.bio/05-predict-gene-knockout-strategies.html?fbclid=IwAR11kL9sGFiZ9sxZhr40AnDwbsNsidMYmcb4JfJnmxXtpiFN8rYlygXs3f4\n",
    "\n",
    "\n",
    "[29] Su, W., Xiao, W., Wang, Y., Liu, D., Zhou, X., & Yuan, Y. (2015). Alleviating Redox Imbalance Enhances 7-Dehydrocholesterol Production in Engineered Saccharomyces cerevisiae. PLOS ONE, 10(6), e0130840. doi: 10.1371/journal.pone.0130840"
   ]
  }
 ],
 "metadata": {
  "kernelspec": {
   "display_name": "p36workshop",
   "language": "python",
   "name": "p36workshop"
  },
  "language_info": {
   "codemirror_mode": {
    "name": "ipython",
    "version": 3
   },
   "file_extension": ".py",
   "mimetype": "text/x-python",
   "name": "python",
   "nbconvert_exporter": "python",
   "pygments_lexer": "ipython3",
   "version": "3.8.3"
  }
 },
 "nbformat": 4,
 "nbformat_minor": 4
}
