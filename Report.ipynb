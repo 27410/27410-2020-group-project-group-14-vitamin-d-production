{
 "cells": [
  {
   "cell_type": "markdown",
   "metadata": {},
   "source": [
    "# [Title]"
   ]
  },
  {
   "cell_type": "markdown",
   "metadata": {},
   "source": [
    "## 1. Introduction"
   ]
  },
  {
   "cell_type": "markdown",
   "metadata": {},
   "source": [
    "### 1.1 Literature review of the compound (<500 words)"
   ]
  },
  {
   "cell_type": "markdown",
   "metadata": {},
   "source": [
    "The product introduced in this project is the fat-soluble (source) vitamin D3, most commonly referred to as simply vitamin D. The vitamin is essential to the intestinal absorption of calcium, magnesium and phosphate. It can be produced by the skin trhough a reaction dependent on UVB light – from sunlight ((Holick 1980).), and is also present in egg yolks and fish  (Brown #).\n",
    "\n",
    "The most popular use of vitamin D is as a supplement, specially for countries in the Northern hemisphere, with long winter-nights without sunlight available . However, deficiency is also widespread in Asia, specially china . More than 10% of Europeans have severe vitamin D deficiency, while the number is for non-severe deficiency is <20% for Northern Europeans and 30-60% for the rest of Europe.\n",
    "\n",
    "A new usage – while still as supplement – is taking vitamin D as a preventative against infection with COVID-19 (a respiratory infection), which is a pandemic that begun in 2019 and is still ravaging through the world at over one million dead . Some trials have found no impact when taking vitamin D , while other researchers are still conducting experiments to elucidate the matter further . Nonetheless, it is known that vitamin D can alleviate the risk of respiratory infections in general.\n",
    "\n",
    "While research is, as of yet, inconclusive with regards to vitamin D and its effect on COVID-19, the market has reacted to this increased interest. For example, Danish news agency DR (Danmarks Radio) recently put out an article explaining that the consumption of vitamin D has increased up to 50% since September 2020. (Salget af D-vitamin er eksploderet – men Giftlinjen og overlæge advarer om overforbrug)\n",
    "\n",
    "Furthermore, with the increasing wages in Asia, an increase vitamin D supplements is noted, which affects the market increases for vitamin D. the average annual growth rate (CAGR) of vitamin D is around 7% for 2019-2024 . The market is quite competitive, without one dominant player . Instead multiple companies produce and sell vitamin D (Pfizer, GlaxoSmithKline etc) .\n",
    "While the companies do not release exact information on their production methods, patents suggest a purely chemical production rather than biological (patentWO2001072286A1)\n",
    "While the industrial production is chemical, as mentioned vitamin D is also produced in the human body, as well as experimentally in Saccharomyces cerevisieae. \n",
    "\n",
    "Biosynthesis pathway must be added, "
   ]
  },
  {
   "cell_type": "markdown",
   "metadata": {},
   "source": [
    "### 1.2 Literature review of the cell factory (<500 words)"
   ]
  },
  {
   "cell_type": "markdown",
   "metadata": {},
   "source": [
    "\n",
    "Budding yeast (Saccharomyces cerevisiae) is one of the most used microorganisms in human history [X].The first evidence of the use of microorganisms is suspected to involve some kind of yeast, plausibly S. cerevisiae, and dates back to XXXX BCE [X]. Today, this wonderful organism is used in a wide variety of productions, ranging from ethanol [X] to biomass[X], and small organic compounds[X] to cancer medication[X].\n",
    "\n",
    "One important difference between S. cerevisiae and all used bacterial microorganisms is that yeasts are eukaryotes, which means they have, among other things, cellular compartments. This makes a large difference in terms of complexity, as transport between different compartments needs to be factored in, but it also allows for more complex pathways to be split up between  locations where the local environment might be more hospitable. Furthermore, due to the large usage of the organism, it has been extensively studied, and is popular for usage in the industry, making it a good candidate for the production of vitamins and other biochemicals as well as proteins. [10.1186/s12934-015-0281-x]\n",
    "The yeast also has many well-established DNA cassettes, making construction of the strain more efficient[kilde]\n",
    "\n",
    "While the organism has many advantages and is widely used, it has some drawbacks as well. Usually, industry and academia has used glucose and disaccharides as substrate and carbon source, however this is neither environmentally sustainable, nor is it cheap. From these perspectives, it would be more advantageous to use a strain which can naturally use cellulose, lignin or xylose as substrate, which are abundant in nature.\n",
    "Another issue using S. cerevisieae can be the unwanted production of ethanol (even under aerobic conditions, dubbed the crabtree effect), since the cell factor will divert the carbon and energy towards production of EtOH rather than the wanted metabolite. [10.1186/s12934-015-0281-x]\n",
    "\n",
    "There are many reasons why S. cerevisiae is so prevalent in the biotechnological sphere, among them being its fast growth rate, high production capacity, and it relative simplicity for an eukaryote.  [kilde?]\n"
   ]
  },
  {
   "cell_type": "markdown",
   "metadata": {},
   "source": [
    "## 2. Problem definition (<300 words)"
   ]
  },
  {
   "cell_type": "markdown",
   "metadata": {},
   "source": [
    "## 3. *If Project category I:* Reconstruction of a new GSM for your cell factory host of interest (<1500 words)"
   ]
  },
  {
   "cell_type": "markdown",
   "metadata": {},
   "source": [
    "or"
   ]
  },
  {
   "cell_type": "markdown",
   "metadata": {},
   "source": [
    "## 3. *If Project category II:* Selection and assessment of existing GSM (<500 words)"
   ]
  },
  {
   "cell_type": "markdown",
   "metadata": {},
   "source": [
    "## 4. Computer-Aided Cell Factory Engineering (<1500 words if Category II project; <500 words for Category I project)"
   ]
  },
  {
   "cell_type": "markdown",
   "metadata": {},
   "source": [
    "## 5. Discussion (<500 words)"
   ]
  },
  {
   "cell_type": "markdown",
   "metadata": {},
   "source": [
    "## 6. Conclusion (<200 words)"
   ]
  },
  {
   "cell_type": "markdown",
   "metadata": {},
   "source": [
    "## References"
   ]
  },
  {
   "cell_type": "code",
   "execution_count": null,
   "metadata": {},
   "outputs": [],
   "source": []
  }
 ],
 "metadata": {
  "kernelspec": {
   "display_name": "python3.6",
   "language": "python",
   "name": "python3.6"
  },
  "language_info": {
   "codemirror_mode": {
    "name": "ipython",
    "version": 3
   },
   "file_extension": ".py",
   "mimetype": "text/x-python",
   "name": "python",
   "nbconvert_exporter": "python",
   "pygments_lexer": "ipython3",
   "version": "3.6.12"
  }
 },
 "nbformat": 4,
 "nbformat_minor": 4
}
