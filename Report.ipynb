{
 "cells": [
  {
   "cell_type": "markdown",
   "metadata": {},
   "source": [
    "# [Title]"
   ]
  },
  {
   "cell_type": "markdown",
   "metadata": {},
   "source": [
    "## 1. Introduction"
   ]
  },
  {
   "cell_type": "markdown",
   "metadata": {},
   "source": [
    "### 1.1 Literature review of the compound (<500 words)"
   ]
  },
  {
   "cell_type": "markdown",
   "metadata": {},
   "source": [
    "The product introduced in this project is the fat-soluble (source) vitamin D3, most commonly referred to as simply vitamin D. The vitamin is essential to the intestinal absorption of calcium, magnesium and phosphate. It can be produced by the skin trhough a reaction dependent on UVB light – from sunlight ((Holick 1980).), and is also present in egg yolks and fish  (Brown #).\n",
    "\n",
    "The most popular use of vitamin D is as a supplement, specially for countries in the Northern hemisphere, with long winter-nights without sunlight available . However, deficiency is also widespread in Asia, specially China . More than 10% of Europeans have severe vitamin D deficiency, while the number is for non-severe deficiency is <20% for Northern Europeans and 30-60% for the rest of Europe.\n",
    "\n",
    "A new usage – while still as supplement – is taking vitamin D as a preventative against infection with COVID-19 (a respiratory infection), which is a pandemic that begun in 2019 and is still ravaging through the world at over one million dead . Some trials have found no impact when taking vitamin D , while other researchers are still conducting experiments to elucidate the matter further . Nonetheless, it is known that vitamin D can alleviate the risk of respiratory infections in general.\n",
    "\n",
    "While research is, as of yet, inconclusive with regards to vitamin D and its effect on COVID-19, the market has reacted to this increased interest. For example, Danish news agency DR (Danmarks Radio) recently put out an article explaining that the consumption of vitamin D has increased up to 50% since September 2020. (Salget af D-vitamin er eksploderet – men Giftlinjen og overlæge advarer om overforbrug)\n",
    "\n",
    "Furthermore, with the increasing wages in Asia, an increase vitamin D supplements is noted, which affects the market increases for vitamin D. the average annual growth rate (CAGR) of vitamin D is around 7% for 2019-2024 . The market is quite competitive, without one dominant player . Instead multiple companies produce and sell vitamin D (Pfizer, GlaxoSmithKline etc) .\n",
    "While the companies do not release exact information on their production methods, patents suggest a purely chemical production rather than biological (patentWO2001072286A1)\n",
    "While the industrial production is chemical, as mentioned vitamin D is also produced in the human body, as well as experimentally in Saccharomyces cerevisieae. \n"
   ]
  },
  {
   "cell_type": "markdown",
   "metadata": {},
   "source": [
    "### 1.2 Literature review of the cell factory (<500 words)"
   ]
  },
  {
   "cell_type": "markdown",
   "metadata": {},
   "source": [
    "\n",
    "Budding yeast (Saccharomyces cerevisiae) is one of the most used microorganisms in human history [X].The first evidence of the use of microorganisms is suspected to involve some kind of yeast, plausibly S. cerevisiae, and dates back to XXXX BCE [X]. Today, this wonderful organism is used in a wide variety of productions, ranging from ethanol [X] to biomass[X], and small organic compounds[X] to cancer medication[X].\n",
    "\n",
    "One important difference between S. cerevisiae and all used bacterial microorganisms is that yeasts are eukaryotes, which means they have, among other things, cellular compartments. This makes a large difference in terms of complexity, as transport between different compartments needs to be factored in, but it also allows for more complex pathways to be split up between  locations where the local environment might be more hospitable. Furthermore, due to the large usage of the organism, it has been extensively studied, and is popular for usage in the industry, making it a good candidate for the production of vitamins and other biochemicals as well as proteins. [10.1186/s12934-015-0281-x]\n",
    "The yeast also has many well-established DNA cassettes, making construction of the strain more efficient[kilde]\n",
    "\n",
    "While the organism has many advantages and is widely used, it has some drawbacks as well. Usually, industry and academia has used glucose and disaccharides as substrate and carbon source, however this is neither environmentally sustainable, nor is it cheap. From these perspectives, it would be more advantageous to use a strain which can naturally use cellulose, lignin or xylose as substrate, which are abundant in nature.\n",
    "Another issue using S. cerevisieae can be the unwanted production of ethanol (even under aerobic conditions, dubbed the crabtree effect), since the cell factor will divert the carbon and energy towards production of EtOH rather than the wanted metabolite. [10.1186/s12934-015-0281-x]\n",
    "\n",
    "There are many reasons why S. cerevisiae is so prevalent in the biotechnological sphere, among them being its fast growth rate, high production capacity, and it relative simplicity for an eukaryote.  [kilde?]\n",
    "\n",
    "Of course, other sources can be used such as prokaryotic organisms or other yeasts. However, as outlined above, S. cerevisieae allows for higher complexity – specially when working with more complex molecules such as vitamins and hormone(e.g. insulin). Other yeasts could be used, however S. cerevisieae remains the yeast most researched, and is, as mentioned, a model organism. \n",
    "\n",
    "Yeast does not naturally have the biosynthetic pathway for D vitamin precursor. However, other researchers have been able to insert the pathway into yeast, with some amount of success. For example doi.org/10.1186/s13068-018-1194-9 has produced 7-dehydrocholesterol through metabolic engineering, by overexpressing genes in the mevalonate pathway as well as introduce the gene for Δ24-dehydrocholesterol reductase from the organism Gallus gallus, a type of bird. The researchers furthermore deleted some genes and introduced specific promoters, leading to a titer of 1.07 g/L of the D vitamin precursor"
   ]
  },
  {
   "cell_type": "markdown",
   "metadata": {},
   "source": [
    "## 2. Problem definition (<300 words)"
   ]
  },
  {
   "cell_type": "markdown",
   "metadata": {},
   "source": [
    "In this project, there is a main focus on engineering S. cerevisaea as a cell factory to produce a D-vitamin precursor. Currently, D vitamin is mainly produced by extracting the precursor from sheepswool. However, with this method the production would be vegan as well as possibly more optimised and less dependent on external factors such as healthy sheep.\n",
    "\n",
    "To produce D vitamin precursor in S. cereviseae, firstly the relevant genes must be introduced in an already existing GSM model. This must then be optimized in a way that focuses on both biomass production as well as vitamin D precursor production, in such a way that the yield can become industrially feasible or near-feasible. \n"
   ]
  },
  {
   "cell_type": "markdown",
   "metadata": {},
   "source": [
    "## 3. *If Project category II:* Selection and assessment of existing GSM (<500 words)"
   ]
  },
  {
   "cell_type": "markdown",
   "metadata": {},
   "source": [
    "For our project, we need a metabolic model of yeast. Currently, the model Yeast8 seems to be the most comprehensive yeast genome-scale metabolic model (GEM). This model was first published in 2019 by Lu et al. (source) and has been updated in an open source manner using GitHub. \n",
    "Apart from being regularly updated, the Yeast8 framework also contains a lot of additional information about enzyme structures and kinetics, which can be used to create increasingly detailed models for varying purposes.\n",
    "\n",
    "We will be using the ecYeast8 model which is based on the Yeast8 GEM, but with added enzyme constraints based on proteomics data, as performed by GECKO (source). More specifically, we will be using an already spcified version of the GEM as found on the [GECKO GitHub.](https://github.com/SysBioChalmers/GECKO/blob/master/models/prot_constrained/ecYeastGEM_prot/ecYeastGEM_prot.xml)\n",
    "The specific experimental conditions for this model can be found [here.](https://github.com/SysBioChalmers/GECKO/tree/master/Databases)"
   ]
  },
  {
   "cell_type": "markdown",
   "metadata": {},
   "source": [
    "### Loading of the model\n",
    "The first thing we have to do is to acquire the model and load it into our repository. We have used the easy way out and downloaded the .xml file from the GitHub repository, but the whole repository could also have been cloned and the model extracted from there. \n",
    "This method of a simple download was chosen to minimize the size of the project repository."
   ]
  },
  {
   "cell_type": "code",
   "execution_count": 10,
   "metadata": {},
   "outputs": [],
   "source": [
    "from IPython.display import display\n",
    "import re\n",
    "\n",
    "import cplex"
   ]
  },
  {
   "cell_type": "code",
   "execution_count": 11,
   "metadata": {},
   "outputs": [
    {
     "data": {
      "text/html": [
       "\n",
       "        <table>\n",
       "            <tr>\n",
       "                <td><strong>Name</strong></td>\n",
       "                <td>M_ecYeastGEM_prot_v8__46__3__46__4</td>\n",
       "            </tr><tr>\n",
       "                <td><strong>Memory address</strong></td>\n",
       "                <td>0x07f127670e518</td>\n",
       "            </tr><tr>\n",
       "                <td><strong>Number of metabolites</strong></td>\n",
       "                <td>4180</td>\n",
       "            </tr><tr>\n",
       "                <td><strong>Number of reactions</strong></td>\n",
       "                <td>8144</td>\n",
       "            </tr><tr>\n",
       "                <td><strong>Number of groups</strong></td>\n",
       "                <td>0</td>\n",
       "            </tr><tr>\n",
       "                <td><strong>Objective expression</strong></td>\n",
       "                <td>-1.0*prot_pool_exchange + 1.0*prot_pool_exchange_reverse_c813a</td>\n",
       "            </tr><tr>\n",
       "                <td><strong>Compartments</strong></td>\n",
       "                <td>cell envelope, cytoplasm, extracellular, mitochondrion, nucleus, peroxisome, endoplasmic reticulum, Golgi, lipid particle, vacuole, endoplasmic reticulum membrane, vacuolar membrane, Golgi membrane, mitochondrial membrane</td>\n",
       "            </tr>\n",
       "          </table>"
      ],
      "text/plain": [
       "<Model M_ecYeastGEM_prot_v8__46__3__46__4 at 0x7f127670e518>"
      ]
     },
     "execution_count": 11,
     "metadata": {},
     "output_type": "execute_result"
    }
   ],
   "source": [
    "# First, we can import some functions so we can use the model\n",
    "from cobra.io import read_sbml_model\n",
    "from cobra import Reaction, Metabolite\n",
    "from cameo.strain_design import pathway_prediction\n",
    "\n",
    "# Second, we can read the GEM and save it as ‘model’\n",
    "model = read_sbml_model('ecYeastGEM_prot.xml')\n",
    "\n",
    "# Thrid, we can show general information about the loaded model\n",
    "model"
   ]
  },
  {
   "cell_type": "code",
   "execution_count": 12,
   "metadata": {},
   "outputs": [
    {
     "data": {
      "text/html": [
       "\n",
       "        <table>\n",
       "            <tr>\n",
       "                <td><strong>Reaction identifier</strong></td><td>prot_pool_exchange</td>\n",
       "            </tr><tr>\n",
       "                <td><strong>Name</strong></td><td>prot_pool_exchange</td>\n",
       "            </tr><tr>\n",
       "                <td><strong>Memory address</strong></td>\n",
       "                <td>0x07f1271bef080</td>\n",
       "            </tr><tr>\n",
       "                <td><strong>Stoichiometry</strong></td>\n",
       "                <td>\n",
       "                    <p style='text-align:right'> --> prot_pool[c]</p>\n",
       "                    <p style='text-align:right'> --> prot_pool [cytoplasm]</p>\n",
       "                </td>\n",
       "            </tr><tr>\n",
       "                <td><strong>GPR</strong></td><td></td>\n",
       "            </tr><tr>\n",
       "                <td><strong>Lower bound</strong></td><td>0.0</td>\n",
       "            </tr><tr>\n",
       "                <td><strong>Upper bound</strong></td><td>0.0936065695352742</td>\n",
       "            </tr>\n",
       "        </table>\n",
       "        "
      ],
      "text/plain": [
       "<Reaction prot_pool_exchange at 0x7f1271bef080>"
      ]
     },
     "execution_count": 12,
     "metadata": {},
     "output_type": "execute_result"
    }
   ],
   "source": [
    "model.reactions.get_by_id(\"prot_pool_exchange\")"
   ]
  },
  {
   "cell_type": "code",
   "execution_count": 39,
   "metadata": {},
   "outputs": [
    {
     "name": "stdout",
     "output_type": "stream",
     "text": [
      "r_1278\n",
      "r_2106\n",
      "r_2107\n",
      "r_3553\n",
      "r_3720\n",
      "r_1278_REV\n",
      "r_2106_REV\n",
      "r_2107_REV\n",
      "r_3553_REV\n",
      "r_3720_REV\n",
      "r_0130No1\n",
      "r_0135No1\n",
      "r_0235No1\n",
      "r_0236No1\n",
      "r_0237No1\n",
      "r_0241No1\n",
      "r_0130_REVNo1\n",
      "r_0135_REVNo1\n"
     ]
    }
   ],
   "source": [
    "for reaction in model.reactions.query('zymosterol', 'name'):\n",
    "     print(reaction.id)"
   ]
  },
  {
   "cell_type": "code",
   "execution_count": 14,
   "metadata": {},
   "outputs": [
    {
     "data": {
      "text/html": [
       "<strong><em>Optimal</em> solution with objective value -0.054</strong><br><div>\n",
       "<style scoped>\n",
       "    .dataframe tbody tr th:only-of-type {\n",
       "        vertical-align: middle;\n",
       "    }\n",
       "\n",
       "    .dataframe tbody tr th {\n",
       "        vertical-align: top;\n",
       "    }\n",
       "\n",
       "    .dataframe thead th {\n",
       "        text-align: right;\n",
       "    }\n",
       "</style>\n",
       "<table border=\"1\" class=\"dataframe\">\n",
       "  <thead>\n",
       "    <tr style=\"text-align: right;\">\n",
       "      <th></th>\n",
       "      <th>fluxes</th>\n",
       "      <th>reduced_costs</th>\n",
       "    </tr>\n",
       "  </thead>\n",
       "  <tbody>\n",
       "    <tr>\n",
       "      <th>r_0006</th>\n",
       "      <td>0.026995</td>\n",
       "      <td>0.000000e+00</td>\n",
       "    </tr>\n",
       "    <tr>\n",
       "      <th>r_0070</th>\n",
       "      <td>0.000000</td>\n",
       "      <td>-1.355253e-19</td>\n",
       "    </tr>\n",
       "    <tr>\n",
       "      <th>r_0094</th>\n",
       "      <td>0.000000</td>\n",
       "      <td>-1.084202e-19</td>\n",
       "    </tr>\n",
       "    <tr>\n",
       "      <th>r_0099</th>\n",
       "      <td>0.000000</td>\n",
       "      <td>0.000000e+00</td>\n",
       "    </tr>\n",
       "    <tr>\n",
       "      <th>r_0200</th>\n",
       "      <td>0.000000</td>\n",
       "      <td>-4.365330e-04</td>\n",
       "    </tr>\n",
       "    <tr>\n",
       "      <th>...</th>\n",
       "      <td>...</td>\n",
       "      <td>...</td>\n",
       "    </tr>\n",
       "    <tr>\n",
       "      <th>draw_prot_Q3E790</th>\n",
       "      <td>0.000000</td>\n",
       "      <td>0.000000e+00</td>\n",
       "    </tr>\n",
       "    <tr>\n",
       "      <th>draw_prot_Q99190</th>\n",
       "      <td>0.000000</td>\n",
       "      <td>0.000000e+00</td>\n",
       "    </tr>\n",
       "    <tr>\n",
       "      <th>draw_prot_Q99288</th>\n",
       "      <td>0.000000</td>\n",
       "      <td>0.000000e+00</td>\n",
       "    </tr>\n",
       "    <tr>\n",
       "      <th>draw_prot_Q99321</th>\n",
       "      <td>0.000000</td>\n",
       "      <td>0.000000e+00</td>\n",
       "    </tr>\n",
       "    <tr>\n",
       "      <th>prot_pool_exchange</th>\n",
       "      <td>0.053511</td>\n",
       "      <td>0.000000e+00</td>\n",
       "    </tr>\n",
       "  </tbody>\n",
       "</table>\n",
       "<p>8144 rows × 2 columns</p>\n",
       "</div>"
      ],
      "text/plain": [
       "<Solution -0.054 at 0x7f1273ac3668>"
      ]
     },
     "execution_count": 14,
     "metadata": {},
     "output_type": "execute_result"
    }
   ],
   "source": [
    "model.optimize()"
   ]
  },
  {
   "cell_type": "markdown",
   "metadata": {},
   "source": [
    "From this, we can see that the model has 4180 metabolites, 8144 reactions, and 14 compartments.\n",
    "\n",
    "To get a quick overview of the model and its throughness, we can use Memote (source) to analyze the GEM and score how good it currently looks. Hopefully, our changes will improve the model, or at least not make it any worse. "
   ]
  },
  {
   "cell_type": "code",
   "execution_count": 15,
   "metadata": {},
   "outputs": [],
   "source": [
    "## NOTE: This field is commented out as it takes ~1 hour to compute every time\n",
    "\n",
    "# %%time\n",
    "# !memote report snapshot ecYeastGEM_prot.xml --filename ecYeastGEM_prot.html"
   ]
  },
  {
   "cell_type": "markdown",
   "metadata": {},
   "source": [
    "The file \"ecYeastGEM_prot.html\" is the memote analysis.\n",
    "From this analysis, we can see that the total score is 16%, which is quite low. However, the tests for \"Charge Balance\", \"Metabolite Connectivity\", and a few of the reaction annotations get a score of 100%. This indicates that (Write something clever here.)"
   ]
  },
  {
   "cell_type": "code",
   "execution_count": 16,
   "metadata": {},
   "outputs": [],
   "source": [
    "predictor = pathway_prediction.PathwayPredictor(model)"
   ]
  },
  {
   "cell_type": "code",
   "execution_count": 17,
   "metadata": {},
   "outputs": [],
   "source": [
    "pathways = predictor.run(product=\"vanillin\", max_predictions=4)"
   ]
  },
  {
   "cell_type": "code",
   "execution_count": 18,
   "metadata": {},
   "outputs": [
    {
     "ename": "ValueError",
     "evalue": "Specified product 'ascorbate' could not be found. Try searching pathway_predictor_obj.universal_model.metabolites",
     "output_type": "error",
     "traceback": [
      "\u001b[0;31m---------------------------------------------------------------------------\u001b[0m",
      "\u001b[0;31mValueError\u001b[0m                                Traceback (most recent call last)",
      "\u001b[0;32m<ipython-input-18-6785945caa90>\u001b[0m in \u001b[0;36m<module>\u001b[0;34m\u001b[0m\n\u001b[0;32m----> 1\u001b[0;31m \u001b[0mpathways\u001b[0m \u001b[0;34m=\u001b[0m \u001b[0mpredictor\u001b[0m\u001b[0;34m.\u001b[0m\u001b[0mrun\u001b[0m\u001b[0;34m(\u001b[0m\u001b[0mproduct\u001b[0m\u001b[0;34m=\u001b[0m\u001b[0;34m\"ascorbate\"\u001b[0m\u001b[0;34m,\u001b[0m \u001b[0mmax_predictions\u001b[0m\u001b[0;34m=\u001b[0m\u001b[0;36m2\u001b[0m\u001b[0;34m)\u001b[0m\u001b[0;34m\u001b[0m\u001b[0;34m\u001b[0m\u001b[0m\n\u001b[0m",
      "\u001b[0;32m~/.local/lib/python3.6/site-packages/cameo/strain_design/pathway_prediction/pathway_predictor.py\u001b[0m in \u001b[0;36mrun\u001b[0;34m(self, product, max_predictions, min_production, timeout, callback, silent, allow_native_exchanges)\u001b[0m\n\u001b[1;32m    284\u001b[0m         \"\"\"\n\u001b[1;32m    285\u001b[0m \u001b[0;34m\u001b[0m\u001b[0m\n\u001b[0;32m--> 286\u001b[0;31m         \u001b[0mproduct\u001b[0m \u001b[0;34m=\u001b[0m \u001b[0mself\u001b[0m\u001b[0;34m.\u001b[0m\u001b[0m_find_product\u001b[0m\u001b[0;34m(\u001b[0m\u001b[0mproduct\u001b[0m\u001b[0;34m)\u001b[0m\u001b[0;34m\u001b[0m\u001b[0;34m\u001b[0m\u001b[0m\n\u001b[0m\u001b[1;32m    287\u001b[0m \u001b[0;34m\u001b[0m\u001b[0m\n\u001b[1;32m    288\u001b[0m         \u001b[0mpathways\u001b[0m \u001b[0;34m=\u001b[0m \u001b[0mlist\u001b[0m\u001b[0;34m(\u001b[0m\u001b[0;34m)\u001b[0m\u001b[0;34m\u001b[0m\u001b[0;34m\u001b[0m\u001b[0m\n",
      "\u001b[0;32m~/.local/lib/python3.6/site-packages/cameo/strain_design/pathway_prediction/pathway_predictor.py\u001b[0m in \u001b[0;36m_find_product\u001b[0;34m(self, product)\u001b[0m\n\u001b[1;32m    457\u001b[0m             raise ValueError(\n\u001b[1;32m    458\u001b[0m                 \u001b[0;34m\"Specified product '{product}' could not be found. \"\u001b[0m\u001b[0;34m\u001b[0m\u001b[0;34m\u001b[0m\u001b[0m\n\u001b[0;32m--> 459\u001b[0;31m                 \"Try searching pathway_predictor_obj.universal_model.metabolites\".format(product=product))\n\u001b[0m\u001b[1;32m    460\u001b[0m         \u001b[0;32melif\u001b[0m \u001b[0misinstance\u001b[0m\u001b[0;34m(\u001b[0m\u001b[0mproduct\u001b[0m\u001b[0;34m,\u001b[0m \u001b[0mMetabolite\u001b[0m\u001b[0;34m)\u001b[0m\u001b[0;34m:\u001b[0m\u001b[0;34m\u001b[0m\u001b[0;34m\u001b[0m\u001b[0m\n\u001b[1;32m    461\u001b[0m             \u001b[0;32mtry\u001b[0m\u001b[0;34m:\u001b[0m\u001b[0;34m\u001b[0m\u001b[0;34m\u001b[0m\u001b[0m\n",
      "\u001b[0;31mValueError\u001b[0m: Specified product 'ascorbate' could not be found. Try searching pathway_predictor_obj.universal_model.metabolites"
     ]
    }
   ],
   "source": [
    "pathways = predictor.run(product=\"ascorbate\", max_predictions=2)"
   ]
  },
  {
   "cell_type": "code",
   "execution_count": null,
   "metadata": {},
   "outputs": [],
   "source": [
    "#pathways = predictor.run(product=\"7-Dehydrocholesterol\", max_predictions=1)"
   ]
  },
  {
   "cell_type": "code",
   "execution_count": null,
   "metadata": {},
   "outputs": [],
   "source": [
    "pathway_predictor_obj.model.metabolites"
   ]
  },
  {
   "cell_type": "code",
   "execution_count": null,
   "metadata": {},
   "outputs": [],
   "source": [
    "pathways"
   ]
  },
  {
   "cell_type": "code",
   "execution_count": null,
   "metadata": {},
   "outputs": [],
   "source": [
    "pathways = predictor.run(product=\"ethanol\", max_predictions=1)"
   ]
  },
  {
   "cell_type": "code",
   "execution_count": null,
   "metadata": {},
   "outputs": [],
   "source": [
    "for reaction in model.reactions.query('zymosterol', 'name'):\n",
    "     print(reaction.id)"
   ]
  },
  {
   "cell_type": "code",
   "execution_count": null,
   "metadata": {},
   "outputs": [],
   "source": [
    "model.metabolites.get_by_id(\"zymosterol\")"
   ]
  },
  {
   "cell_type": "code",
   "execution_count": null,
   "metadata": {},
   "outputs": [],
   "source": [
    "model.reactions.get_by_id(\"r_2107\")"
   ]
  },
  {
   "cell_type": "code",
   "execution_count": null,
   "metadata": {},
   "outputs": [],
   "source": [
    "model.metabolites.get_by_id(\"s_1569[c]\")"
   ]
  },
  {
   "cell_type": "code",
   "execution_count": null,
   "metadata": {},
   "outputs": [],
   "source": []
  },
  {
   "cell_type": "code",
   "execution_count": null,
   "metadata": {},
   "outputs": [],
   "source": [
    "for metabolite in model.metabolites.query('NADP+', 'name'):\n",
    "     print(metabolite.id)"
   ]
  },
  {
   "cell_type": "code",
   "execution_count": null,
   "metadata": {},
   "outputs": [],
   "source": [
    "model.metabolites.get_by_id(\"s_0794[c]\")"
   ]
  },
  {
   "cell_type": "markdown",
   "metadata": {},
   "source": [
    "Based on the KEGG database, one way to produce 7-dehydrocholesterol is throught the [human biosynthesis pathway](https://www.genome.jp/kegg-bin/show_module?hsa_M00101+1718). Our yeast model can natively produce zymosterol, and from this we can produce 7-dehydrocholesterol.\n",
    "\n",
    "To get the pathway from zymosterol to 7-dehydrocholesterol, we will need three reactions: [R07498](https://www.genome.jp/dbget-bin/www_bget?R07498), [R03353](https://www.genome.jp/dbget-bin/www_bget?R03353), and [R07215](https://www.genome.jp/dbget-bin/www_bget?R07215).\n",
    "We will now add these to the model in turn."
   ]
  },
  {
   "cell_type": "code",
   "execution_count": 19,
   "metadata": {},
   "outputs": [],
   "source": [
    "# First reaction\n",
    "\n",
    "new_reaction1 = Reaction('R0749')  # The first of the three reactions from above\n",
    "\n",
    "# R07498 uses:\n",
    "## Zymosterol + NADPH + H+ <=> 5alpha-Cholest-8-en-3beta-ol + NADP+\n",
    "## We can find these as: (Note: All of these are in the cytoplasm)\n",
    "### Zymosterol = s_1569[c]\n",
    "### NADPH      = s_1212[c]\n",
    "### H+         = s_0794[c]\n",
    "### \n",
    "### 5alpha-Cholest-8-en-3beta-ol = Not yet defined\n",
    "### NADP+                        = s_1207[c]\n",
    "\n",
    "# Since 5alpha-Cholest-8-en-3beta-ol does not exist, we will have to define it.\n",
    "alphaCholest = Metabolite(id='5alpha-Cholest-8-en-3beta-ol_c', name='5alpha-Cholest-8-en-3beta-ol', compartment='c')\n",
    "\n",
    "\n",
    "# We can now define the reaction stoichiometry\n",
    "new_reaction1.add_metabolites({\n",
    "                            model.metabolites.get_by_id(\"s_1569[c]\"): -1,\n",
    "                            model.metabolites.get_by_id(\"s_1212[c]\"): -1,\n",
    "                            model.metabolites.get_by_id(\"s_0794[c]\"): -1,\n",
    "                            alphaCholest: 1, # our newly created metabolites\n",
    "                            model.metabolites.get_by_id(\"s_1207[c]\"): 1\n",
    "                             })\n",
    "\n",
    "model.add_reactions([new_reaction1])\n",
    "\n",
    "## Since the reaction can go both ways, we will set the bounds of the reaction to -1000 and 1000\n",
    "model.reactions.R0749.bounds = -1000, 1000"
   ]
  },
  {
   "cell_type": "code",
   "execution_count": 20,
   "metadata": {},
   "outputs": [],
   "source": [
    "# Second reaction\n",
    "\n",
    "new_reaction2 = Reaction('R03353')  # The second of the three reactions from above\n",
    "\n",
    "# R03353 uses:\n",
    "## Lathosterol <=> 5alpha-Cholest-8-en-3beta-ol\n",
    "## We can find these as: (Note: All of these are in the cytoplasm)\n",
    "### 5alpha-Cholest-8-en-3beta-ol = alphaCholest\n",
    "###\n",
    "### Lathosterol                  = Not yet defined\n",
    "\n",
    "# Since Lathosterol does not exist, we will have to define it.\n",
    "Lathosterol = Metabolite(id='Lathosterol_c', name='Lathosterol', compartment='c')\n",
    "\n",
    "\n",
    "# We can now define the reaction stoichiometry\n",
    "new_reaction2.add_metabolites({\n",
    "                            alphaCholest: -1, # The metabolite from above\n",
    "                            Lathosterol: 1    # our newly created metabolites\n",
    "                             })\n",
    "\n",
    "model.add_reactions([new_reaction2])\n",
    "\n",
    "## Since the reaction can go both ways, we will set the bounds of the reaction to -1000 and 1000\n",
    "model.reactions.R03353.bounds = -1000, 1000"
   ]
  },
  {
   "cell_type": "code",
   "execution_count": 45,
   "metadata": {},
   "outputs": [],
   "source": [
    "# Third reaction\n",
    "\n",
    "new_reaction3 = Reaction('R07215')  # The third of the three reactions from above\n",
    "\n",
    "## R07215 uses:\n",
    "## Lathosterol + 2 Ferrocytochromeb5 + Oxygen + 2 H+ <=> 7-Dehydrocholesterol + 2 Ferricytochrome b5 + 2 H2O\n",
    "## We can find these as: (Note: All of these are in the cytoplasm, except for the cytochromes, which are in the ER)\n",
    "### Lathosterol          = Lathosterol\n",
    "### Ferrocytochrome b5   = s_3825[er]\n",
    "### Oxygen               = s_1275[c]\n",
    "### H+                   = s_0794[c]\n",
    "###\n",
    "### 7-Dehydrocholesterol = Not yet defined\n",
    "### Ferricytochrome b5   = s_3824[er]\n",
    "### H2O                  = s_0803[c]\n",
    "\n",
    "\n",
    "\n",
    "# Since 7-Dehydrocholesterol does not exist, we will have to define it.\n",
    "Dehydrocholesterol = Metabolite(id='7-Dehydrocholesterol_c', name='7-Dehydrocholesterol', compartment='c')\n",
    "\n",
    "\n",
    "new_reaction3.add_metabolites({\n",
    "                            Lathosterol: -1, # The metabolite we created above\n",
    "                            model.metabolites.get_by_id(\"s_3825[er]\"): -2,\n",
    "                            model.metabolites.get_by_id(\"s_1275[c]\"): -1,\n",
    "                            model.metabolites.get_by_id(\"s_0794[c]\"): -2,\n",
    "                            Dehydrocholesterol: 1, # our newly created metabolites\n",
    "                            model.metabolites.get_by_id(\"s_3824[er]\"): 2,\n",
    "                            model.metabolites.get_by_id(\"s_0803[c]\"): 2\n",
    "                             })\n",
    "\n",
    "model.add_reactions([new_reaction3])\n",
    "\n",
    "## Since the reaction can go both ways, we will set the bounds of the reaction to -1000 and 1000\n",
    "model.reactions.R07215.bounds = -1000, 1000"
   ]
  },
  {
   "cell_type": "code",
   "execution_count": 32,
   "metadata": {},
   "outputs": [
    {
     "data": {
      "text/html": [
       "\n",
       "        <table>\n",
       "            <tr>\n",
       "                <td><strong>Metabolite identifier</strong></td><td>7-Dehydrocholesterol_c</td>\n",
       "            </tr><tr>\n",
       "                <td><strong>Name</strong></td><td>7-Dehydrocholesterol</td>\n",
       "            </tr><tr>\n",
       "                <td><strong>Memory address</strong></td>\n",
       "                <td>0x07f124e7fc7b8</td>\n",
       "            </tr><tr>\n",
       "                <td><strong>Formula</strong></td><td>None</td>\n",
       "            </tr><tr>\n",
       "                <td><strong>Compartment</strong></td><td>c</td>\n",
       "            </tr><tr>\n",
       "                <td><strong>In 2 reaction(s)</strong></td><td>\n",
       "                    DM_7-Dehydrocholesterol_c, R07215</td>\n",
       "            </tr>\n",
       "        </table>"
      ],
      "text/plain": [
       "<Metabolite 7-Dehydrocholesterol_c at 0x7f124e7fc7b8>"
      ]
     },
     "execution_count": 32,
     "metadata": {},
     "output_type": "execute_result"
    }
   ],
   "source": [
    "model.metabolites.get_by_id(\"7-Dehydrocholesterol_c\")"
   ]
  },
  {
   "cell_type": "code",
   "execution_count": 34,
   "metadata": {},
   "outputs": [
    {
     "data": {
      "text/html": [
       "\n",
       "        <table>\n",
       "            <tr>\n",
       "                <td><strong>Reaction identifier</strong></td><td>DM_7-Dehydrocholesterol_c</td>\n",
       "            </tr><tr>\n",
       "                <td><strong>Name</strong></td><td>7-Dehydrocholesterol demand</td>\n",
       "            </tr><tr>\n",
       "                <td><strong>Memory address</strong></td>\n",
       "                <td>0x07f1344189780</td>\n",
       "            </tr><tr>\n",
       "                <td><strong>Stoichiometry</strong></td>\n",
       "                <td>\n",
       "                    <p style='text-align:right'>7-Dehydrocholesterol_c --> </p>\n",
       "                    <p style='text-align:right'>7-Dehydrocholesterol --> </p>\n",
       "                </td>\n",
       "            </tr><tr>\n",
       "                <td><strong>GPR</strong></td><td></td>\n",
       "            </tr><tr>\n",
       "                <td><strong>Lower bound</strong></td><td>0</td>\n",
       "            </tr><tr>\n",
       "                <td><strong>Upper bound</strong></td><td>1000.0</td>\n",
       "            </tr>\n",
       "        </table>\n",
       "        "
      ],
      "text/plain": [
       "<Reaction DM_7-Dehydrocholesterol_c at 0x7f1344189780>"
      ]
     },
     "execution_count": 34,
     "metadata": {},
     "output_type": "execute_result"
    }
   ],
   "source": [
    "model.reactions.get_by_id(\"DM_7-Dehydrocholesterol_c\")"
   ]
  },
  {
   "cell_type": "code",
   "execution_count": 28,
   "metadata": {},
   "outputs": [
    {
     "name": "stdout",
     "output_type": "stream",
     "text": [
      "0.0\n"
     ]
    }
   ],
   "source": [
    "\n",
    "r_7DH_export = model.add_boundary(model.metabolites.get_by_id('7-Dehydrocholesterol_c'), type='demand')\n",
    "\n",
    "with model:\n",
    "    model.objective = r_7DH_export\n",
    "    sol = model.optimize()\n",
    "    print(sol.objective_value)"
   ]
  },
  {
   "cell_type": "code",
   "execution_count": 35,
   "metadata": {},
   "outputs": [
    {
     "name": "stdout",
     "output_type": "stream",
     "text": [
      "0.0\n"
     ]
    }
   ],
   "source": [
    "with model:\n",
    "    \n",
    "    model.objective = model.reactions.R07215\n",
    "    sol = model.optimize()\n",
    "    print(sol.objective_value)"
   ]
  },
  {
   "cell_type": "code",
   "execution_count": 36,
   "metadata": {},
   "outputs": [
    {
     "data": {
      "text/html": [
       "<strong><em>Optimal</em> solution with objective value 0.000</strong><br><div>\n",
       "<style scoped>\n",
       "    .dataframe tbody tr th:only-of-type {\n",
       "        vertical-align: middle;\n",
       "    }\n",
       "\n",
       "    .dataframe tbody tr th {\n",
       "        vertical-align: top;\n",
       "    }\n",
       "\n",
       "    .dataframe thead th {\n",
       "        text-align: right;\n",
       "    }\n",
       "</style>\n",
       "<table border=\"1\" class=\"dataframe\">\n",
       "  <thead>\n",
       "    <tr style=\"text-align: right;\">\n",
       "      <th></th>\n",
       "      <th>fluxes</th>\n",
       "      <th>reduced_costs</th>\n",
       "    </tr>\n",
       "  </thead>\n",
       "  <tbody>\n",
       "    <tr>\n",
       "      <th>r_0006</th>\n",
       "      <td>0.026995</td>\n",
       "      <td>0.0</td>\n",
       "    </tr>\n",
       "    <tr>\n",
       "      <th>r_0070</th>\n",
       "      <td>0.000000</td>\n",
       "      <td>0.0</td>\n",
       "    </tr>\n",
       "    <tr>\n",
       "      <th>r_0094</th>\n",
       "      <td>0.000000</td>\n",
       "      <td>0.0</td>\n",
       "    </tr>\n",
       "    <tr>\n",
       "      <th>r_0099</th>\n",
       "      <td>0.000000</td>\n",
       "      <td>0.0</td>\n",
       "    </tr>\n",
       "    <tr>\n",
       "      <th>r_0200</th>\n",
       "      <td>0.000000</td>\n",
       "      <td>0.0</td>\n",
       "    </tr>\n",
       "    <tr>\n",
       "      <th>...</th>\n",
       "      <td>...</td>\n",
       "      <td>...</td>\n",
       "    </tr>\n",
       "    <tr>\n",
       "      <th>prot_pool_exchange</th>\n",
       "      <td>0.093607</td>\n",
       "      <td>0.0</td>\n",
       "    </tr>\n",
       "    <tr>\n",
       "      <th>R0749</th>\n",
       "      <td>0.000000</td>\n",
       "      <td>-0.0</td>\n",
       "    </tr>\n",
       "    <tr>\n",
       "      <th>R03353</th>\n",
       "      <td>0.000000</td>\n",
       "      <td>-0.0</td>\n",
       "    </tr>\n",
       "    <tr>\n",
       "      <th>R07215</th>\n",
       "      <td>0.000000</td>\n",
       "      <td>0.0</td>\n",
       "    </tr>\n",
       "    <tr>\n",
       "      <th>DM_7-Dehydrocholesterol_c</th>\n",
       "      <td>-0.000000</td>\n",
       "      <td>0.0</td>\n",
       "    </tr>\n",
       "  </tbody>\n",
       "</table>\n",
       "<p>8148 rows × 2 columns</p>\n",
       "</div>"
      ],
      "text/plain": [
       "<Solution 0.000 at 0x7f124e7fc588>"
      ]
     },
     "execution_count": 36,
     "metadata": {},
     "output_type": "execute_result"
    }
   ],
   "source": [
    "sol"
   ]
  },
  {
   "cell_type": "code",
   "execution_count": 41,
   "metadata": {},
   "outputs": [
    {
     "data": {
      "text/html": [
       "\n",
       "        <table>\n",
       "            <tr>\n",
       "                <td><strong>Reaction identifier</strong></td><td>r_0237No1</td>\n",
       "            </tr><tr>\n",
       "                <td><strong>Name</strong></td><td>C-3 sterol keto reductase (zymosterol) (No1)</td>\n",
       "            </tr><tr>\n",
       "                <td><strong>Memory address</strong></td>\n",
       "                <td>0x07f1273869d30</td>\n",
       "            </tr><tr>\n",
       "                <td><strong>Stoichiometry</strong></td>\n",
       "                <td>\n",
       "                    <p style='text-align:right'>0.00038052 prot_Q12452[c] + s_0794[c] + s_1212[c] + s_1579[c] --> s_1207[c] + s_1569[c]</p>\n",
       "                    <p style='text-align:right'>0.00038052 prot_Q12452 [cytoplasm] + H+ [cytoplasm] + NADPH [cytoplasm] + zymosterol intermediate 2 [cytoplasm] --> NADP(+) [cytoplasm] + zymosterol [cytoplasm]</p>\n",
       "                </td>\n",
       "            </tr><tr>\n",
       "                <td><strong>GPR</strong></td><td>YLR100W</td>\n",
       "            </tr><tr>\n",
       "                <td><strong>Lower bound</strong></td><td>0.0</td>\n",
       "            </tr><tr>\n",
       "                <td><strong>Upper bound</strong></td><td>inf</td>\n",
       "            </tr>\n",
       "        </table>\n",
       "        "
      ],
      "text/plain": [
       "<Reaction r_0237No1 at 0x7f1273869d30>"
      ]
     },
     "execution_count": 41,
     "metadata": {},
     "output_type": "execute_result"
    }
   ],
   "source": [
    "model.reactions.r_0237No1"
   ]
  },
  {
   "cell_type": "code",
   "execution_count": 43,
   "metadata": {},
   "outputs": [
    {
     "name": "stdout",
     "output_type": "stream",
     "text": [
      "0.003980492411860787\n"
     ]
    }
   ],
   "source": [
    "with model:\n",
    "    model.objective = model.reactions.r_0237No1\n",
    "    sol = model.optimize()\n",
    "    print(sol.objective_value)"
   ]
  },
  {
   "cell_type": "code",
   "execution_count": 44,
   "metadata": {},
   "outputs": [
    {
     "data": {
      "text/html": [
       "<strong><em>Optimal</em> solution with objective value 0.004</strong><br><div>\n",
       "<style scoped>\n",
       "    .dataframe tbody tr th:only-of-type {\n",
       "        vertical-align: middle;\n",
       "    }\n",
       "\n",
       "    .dataframe tbody tr th {\n",
       "        vertical-align: top;\n",
       "    }\n",
       "\n",
       "    .dataframe thead th {\n",
       "        text-align: right;\n",
       "    }\n",
       "</style>\n",
       "<table border=\"1\" class=\"dataframe\">\n",
       "  <thead>\n",
       "    <tr style=\"text-align: right;\">\n",
       "      <th></th>\n",
       "      <th>fluxes</th>\n",
       "      <th>reduced_costs</th>\n",
       "    </tr>\n",
       "  </thead>\n",
       "  <tbody>\n",
       "    <tr>\n",
       "      <th>r_0006</th>\n",
       "      <td>0.026995</td>\n",
       "      <td>0.0</td>\n",
       "    </tr>\n",
       "    <tr>\n",
       "      <th>r_0070</th>\n",
       "      <td>0.000000</td>\n",
       "      <td>0.0</td>\n",
       "    </tr>\n",
       "    <tr>\n",
       "      <th>r_0094</th>\n",
       "      <td>0.000000</td>\n",
       "      <td>0.0</td>\n",
       "    </tr>\n",
       "    <tr>\n",
       "      <th>r_0099</th>\n",
       "      <td>0.000000</td>\n",
       "      <td>0.0</td>\n",
       "    </tr>\n",
       "    <tr>\n",
       "      <th>r_0200</th>\n",
       "      <td>0.000000</td>\n",
       "      <td>0.0</td>\n",
       "    </tr>\n",
       "    <tr>\n",
       "      <th>...</th>\n",
       "      <td>...</td>\n",
       "      <td>...</td>\n",
       "    </tr>\n",
       "    <tr>\n",
       "      <th>prot_pool_exchange</th>\n",
       "      <td>0.093607</td>\n",
       "      <td>0.0</td>\n",
       "    </tr>\n",
       "    <tr>\n",
       "      <th>R0749</th>\n",
       "      <td>0.000000</td>\n",
       "      <td>-0.0</td>\n",
       "    </tr>\n",
       "    <tr>\n",
       "      <th>R03353</th>\n",
       "      <td>0.000000</td>\n",
       "      <td>-0.0</td>\n",
       "    </tr>\n",
       "    <tr>\n",
       "      <th>R07215</th>\n",
       "      <td>0.000000</td>\n",
       "      <td>-0.0</td>\n",
       "    </tr>\n",
       "    <tr>\n",
       "      <th>DM_7-Dehydrocholesterol_c</th>\n",
       "      <td>-0.000000</td>\n",
       "      <td>0.0</td>\n",
       "    </tr>\n",
       "  </tbody>\n",
       "</table>\n",
       "<p>8148 rows × 2 columns</p>\n",
       "</div>"
      ],
      "text/plain": [
       "<Solution 0.004 at 0x7f124e179080>"
      ]
     },
     "execution_count": 44,
     "metadata": {},
     "output_type": "execute_result"
    }
   ],
   "source": [
    "sol"
   ]
  },
  {
   "cell_type": "code",
   "execution_count": 27,
   "metadata": {},
   "outputs": [
    {
     "name": "stdout",
     "output_type": "stream",
     "text": [
      "0.09998999999999818\n"
     ]
    }
   ],
   "source": [
    "with model:\n",
    "    model.objective = model.reactions.r_2111\n",
    "    sol = model.optimize()\n",
    "    print(sol.objective_value)"
   ]
  },
  {
   "cell_type": "code",
   "execution_count": 63,
   "metadata": {},
   "outputs": [
    {
     "data": {
      "text/html": [
       "<strong><em>Optimal</em> solution with objective value -0.054</strong><br><div>\n",
       "<style scoped>\n",
       "    .dataframe tbody tr th:only-of-type {\n",
       "        vertical-align: middle;\n",
       "    }\n",
       "\n",
       "    .dataframe tbody tr th {\n",
       "        vertical-align: top;\n",
       "    }\n",
       "\n",
       "    .dataframe thead th {\n",
       "        text-align: right;\n",
       "    }\n",
       "</style>\n",
       "<table border=\"1\" class=\"dataframe\">\n",
       "  <thead>\n",
       "    <tr style=\"text-align: right;\">\n",
       "      <th></th>\n",
       "      <th>fluxes</th>\n",
       "      <th>reduced_costs</th>\n",
       "    </tr>\n",
       "  </thead>\n",
       "  <tbody>\n",
       "    <tr>\n",
       "      <th>r_0006</th>\n",
       "      <td>0.026995</td>\n",
       "      <td>0.000000e+00</td>\n",
       "    </tr>\n",
       "    <tr>\n",
       "      <th>r_0070</th>\n",
       "      <td>0.000000</td>\n",
       "      <td>-3.388132e-20</td>\n",
       "    </tr>\n",
       "    <tr>\n",
       "      <th>r_0094</th>\n",
       "      <td>0.000000</td>\n",
       "      <td>-2.523658e-03</td>\n",
       "    </tr>\n",
       "    <tr>\n",
       "      <th>r_0099</th>\n",
       "      <td>0.000000</td>\n",
       "      <td>0.000000e+00</td>\n",
       "    </tr>\n",
       "    <tr>\n",
       "      <th>r_0200</th>\n",
       "      <td>0.000000</td>\n",
       "      <td>-4.365330e-04</td>\n",
       "    </tr>\n",
       "    <tr>\n",
       "      <th>...</th>\n",
       "      <td>...</td>\n",
       "      <td>...</td>\n",
       "    </tr>\n",
       "    <tr>\n",
       "      <th>draw_prot_Q99321</th>\n",
       "      <td>0.000000</td>\n",
       "      <td>0.000000e+00</td>\n",
       "    </tr>\n",
       "    <tr>\n",
       "      <th>prot_pool_exchange</th>\n",
       "      <td>0.053511</td>\n",
       "      <td>0.000000e+00</td>\n",
       "    </tr>\n",
       "    <tr>\n",
       "      <th>R0749</th>\n",
       "      <td>0.000000</td>\n",
       "      <td>0.000000e+00</td>\n",
       "    </tr>\n",
       "    <tr>\n",
       "      <th>R03353</th>\n",
       "      <td>0.000000</td>\n",
       "      <td>0.000000e+00</td>\n",
       "    </tr>\n",
       "    <tr>\n",
       "      <th>R07215</th>\n",
       "      <td>0.000000</td>\n",
       "      <td>0.000000e+00</td>\n",
       "    </tr>\n",
       "  </tbody>\n",
       "</table>\n",
       "<p>8147 rows × 2 columns</p>\n",
       "</div>"
      ],
      "text/plain": [
       "<Solution -0.054 at 0x7f934e61c550>"
      ]
     },
     "execution_count": 63,
     "metadata": {},
     "output_type": "execute_result"
    }
   ],
   "source": [
    "model.optimize()"
   ]
  },
  {
   "cell_type": "code",
   "execution_count": null,
   "metadata": {},
   "outputs": [],
   "source": []
  },
  {
   "cell_type": "code",
   "execution_count": null,
   "metadata": {},
   "outputs": [],
   "source": []
  },
  {
   "cell_type": "code",
   "execution_count": null,
   "metadata": {},
   "outputs": [],
   "source": []
  },
  {
   "cell_type": "code",
   "execution_count": null,
   "metadata": {},
   "outputs": [],
   "source": []
  },
  {
   "cell_type": "code",
   "execution_count": null,
   "metadata": {},
   "outputs": [],
   "source": []
  },
  {
   "cell_type": "markdown",
   "metadata": {},
   "source": [
    "## 4. Computer-Aided Cell Factory Engineering (<1500 words if Category II project; <500 words for Category I project)"
   ]
  },
  {
   "cell_type": "markdown",
   "metadata": {},
   "source": [
    "## 5. Discussion (<500 words)"
   ]
  },
  {
   "cell_type": "markdown",
   "metadata": {},
   "source": [
    "## 6. Conclusion (<200 words)"
   ]
  },
  {
   "cell_type": "markdown",
   "metadata": {},
   "source": [
    "## References"
   ]
  },
  {
   "cell_type": "code",
   "execution_count": null,
   "metadata": {},
   "outputs": [],
   "source": []
  }
 ],
 "metadata": {
  "kernelspec": {
   "display_name": "python3.6",
   "language": "python",
   "name": "python3.6"
  },
  "language_info": {
   "codemirror_mode": {
    "name": "ipython",
    "version": 3
   },
   "file_extension": ".py",
   "mimetype": "text/x-python",
   "name": "python",
   "nbconvert_exporter": "python",
   "pygments_lexer": "ipython3",
   "version": "3.6.12"
  }
 },
 "nbformat": 4,
 "nbformat_minor": 4
}
