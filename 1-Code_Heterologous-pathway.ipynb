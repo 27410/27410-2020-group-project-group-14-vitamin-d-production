{
 "cells": [
  {
   "cell_type": "markdown",
   "metadata": {},
   "source": [
    "## Implemetation of the heterologous pathway\n",
    "\n",
    "As mentioned in the report, we need three reactions to allow for the production of 7-dehydrocholesterol in *S. cerevisiae*. In this file, we are adding the heterologous pathway to the model and saving that as a new file for subsequent use. "
   ]
  },
  {
   "cell_type": "code",
   "execution_count": 1,
   "metadata": {},
   "outputs": [
    {
     "data": {
      "text/html": [
       "\n",
       "        <table>\n",
       "            <tr>\n",
       "                <td><strong>Name</strong></td>\n",
       "                <td>M_yeastGEM_v8__46__4__46__2</td>\n",
       "            </tr><tr>\n",
       "                <td><strong>Memory address</strong></td>\n",
       "                <td>0x07fb9eceb9a20</td>\n",
       "            </tr><tr>\n",
       "                <td><strong>Number of metabolites</strong></td>\n",
       "                <td>2742</td>\n",
       "            </tr><tr>\n",
       "                <td><strong>Number of reactions</strong></td>\n",
       "                <td>4058</td>\n",
       "            </tr><tr>\n",
       "                <td><strong>Number of groups</strong></td>\n",
       "                <td>90</td>\n",
       "            </tr><tr>\n",
       "                <td><strong>Objective expression</strong></td>\n",
       "                <td>1.0*r_2111 - 1.0*r_2111_reverse_58b69</td>\n",
       "            </tr><tr>\n",
       "                <td><strong>Compartments</strong></td>\n",
       "                <td>cell envelope, cytoplasm, extracellular, mitochondrion, nucleus, peroxisome, endoplasmic reticulum, Golgi, lipid particle, vacuole, endoplasmic reticulum membrane, vacuolar membrane, Golgi membrane, mitochondrial membrane</td>\n",
       "            </tr>\n",
       "          </table>"
      ],
      "text/plain": [
       "<Model M_yeastGEM_v8__46__4__46__2 at 0x7fb9eceb9a20>"
      ]
     },
     "execution_count": 1,
     "metadata": {},
     "output_type": "execute_result"
    }
   ],
   "source": [
    "#KERNEL 3.6!\n",
    "\n",
    "# First, we can import some functions so we can use the model\n",
    "from cobra.io import read_sbml_model, write_sbml_model\n",
    "from cobra import Reaction, Metabolite\n",
    "from cameo.strain_design import pathway_prediction\n",
    "\n",
    "# Second, we can read the GEM and save it as ‘model’\n",
    "model = read_sbml_model('data/yeastGEM.xml')\n",
    "\n",
    "# Third, we can show general information about the loaded model\n",
    "model"
   ]
  },
  {
   "cell_type": "markdown",
   "metadata": {},
   "source": [
    "First we can check if any pathways for lathosterol (a precursor) are available:"
   ]
  },
  {
   "cell_type": "code",
   "execution_count": 2,
   "metadata": {},
   "outputs": [],
   "source": [
    "import cplex"
   ]
  },
  {
   "cell_type": "code",
   "execution_count": 3,
   "metadata": {},
   "outputs": [
    {
     "ename": "ValueError",
     "evalue": "Specified product '7-dehydrocholesterol' could not be found. Try searching pathway_predictor_obj.universal_model.metabolites",
     "output_type": "error",
     "traceback": [
      "\u001b[0;31m---------------------------------------------------------------------------\u001b[0m",
      "\u001b[0;31mValueError\u001b[0m                                Traceback (most recent call last)",
      "\u001b[0;32m<ipython-input-3-9fbf776346be>\u001b[0m in \u001b[0;36m<module>\u001b[0;34m\u001b[0m\n\u001b[1;32m      2\u001b[0m \u001b[0;32mfrom\u001b[0m \u001b[0mcameo\u001b[0m\u001b[0;34m.\u001b[0m\u001b[0mstrain_design\u001b[0m \u001b[0;32mimport\u001b[0m \u001b[0mpathway_prediction\u001b[0m\u001b[0;34m\u001b[0m\u001b[0;34m\u001b[0m\u001b[0m\n\u001b[1;32m      3\u001b[0m \u001b[0mpredictor\u001b[0m \u001b[0;34m=\u001b[0m \u001b[0mpathway_prediction\u001b[0m\u001b[0;34m.\u001b[0m\u001b[0mPathwayPredictor\u001b[0m\u001b[0;34m(\u001b[0m\u001b[0mmodel\u001b[0m\u001b[0;34m)\u001b[0m\u001b[0;34m\u001b[0m\u001b[0;34m\u001b[0m\u001b[0m\n\u001b[0;32m----> 4\u001b[0;31m \u001b[0mpathways\u001b[0m \u001b[0;34m=\u001b[0m \u001b[0mpredictor\u001b[0m\u001b[0;34m.\u001b[0m\u001b[0mrun\u001b[0m\u001b[0;34m(\u001b[0m\u001b[0mproduct\u001b[0m\u001b[0;34m=\u001b[0m\u001b[0;34m\"7-dehydrocholesterol\"\u001b[0m\u001b[0;34m,\u001b[0m \u001b[0mmax_predictions\u001b[0m\u001b[0;34m=\u001b[0m\u001b[0;36m4\u001b[0m\u001b[0;34m)\u001b[0m\u001b[0;34m\u001b[0m\u001b[0;34m\u001b[0m\u001b[0m\n\u001b[0m",
      "\u001b[0;32m~/.local/lib/python3.6/site-packages/cameo/strain_design/pathway_prediction/pathway_predictor.py\u001b[0m in \u001b[0;36mrun\u001b[0;34m(self, product, max_predictions, min_production, timeout, callback, silent, allow_native_exchanges)\u001b[0m\n\u001b[1;32m    284\u001b[0m         \"\"\"\n\u001b[1;32m    285\u001b[0m \u001b[0;34m\u001b[0m\u001b[0m\n\u001b[0;32m--> 286\u001b[0;31m         \u001b[0mproduct\u001b[0m \u001b[0;34m=\u001b[0m \u001b[0mself\u001b[0m\u001b[0;34m.\u001b[0m\u001b[0m_find_product\u001b[0m\u001b[0;34m(\u001b[0m\u001b[0mproduct\u001b[0m\u001b[0;34m)\u001b[0m\u001b[0;34m\u001b[0m\u001b[0;34m\u001b[0m\u001b[0m\n\u001b[0m\u001b[1;32m    287\u001b[0m \u001b[0;34m\u001b[0m\u001b[0m\n\u001b[1;32m    288\u001b[0m         \u001b[0mpathways\u001b[0m \u001b[0;34m=\u001b[0m \u001b[0mlist\u001b[0m\u001b[0;34m(\u001b[0m\u001b[0;34m)\u001b[0m\u001b[0;34m\u001b[0m\u001b[0;34m\u001b[0m\u001b[0m\n",
      "\u001b[0;32m~/.local/lib/python3.6/site-packages/cameo/strain_design/pathway_prediction/pathway_predictor.py\u001b[0m in \u001b[0;36m_find_product\u001b[0;34m(self, product)\u001b[0m\n\u001b[1;32m    457\u001b[0m             raise ValueError(\n\u001b[1;32m    458\u001b[0m                 \u001b[0;34m\"Specified product '{product}' could not be found. \"\u001b[0m\u001b[0;34m\u001b[0m\u001b[0;34m\u001b[0m\u001b[0m\n\u001b[0;32m--> 459\u001b[0;31m                 \"Try searching pathway_predictor_obj.universal_model.metabolites\".format(product=product))\n\u001b[0m\u001b[1;32m    460\u001b[0m         \u001b[0;32melif\u001b[0m \u001b[0misinstance\u001b[0m\u001b[0;34m(\u001b[0m\u001b[0mproduct\u001b[0m\u001b[0;34m,\u001b[0m \u001b[0mMetabolite\u001b[0m\u001b[0;34m)\u001b[0m\u001b[0;34m:\u001b[0m\u001b[0;34m\u001b[0m\u001b[0;34m\u001b[0m\u001b[0m\n\u001b[1;32m    461\u001b[0m             \u001b[0;32mtry\u001b[0m\u001b[0;34m:\u001b[0m\u001b[0;34m\u001b[0m\u001b[0;34m\u001b[0m\u001b[0m\n",
      "\u001b[0;31mValueError\u001b[0m: Specified product '7-dehydrocholesterol' could not be found. Try searching pathway_predictor_obj.universal_model.metabolites"
     ]
    }
   ],
   "source": [
    "\n",
    "import re\n",
    "from cameo.strain_design import pathway_prediction\n",
    "predictor = pathway_prediction.PathwayPredictor(model)\n",
    "pathways = predictor.run(product=\"7-dehydrocholesterol\", max_predictions=4)"
   ]
  },
  {
   "cell_type": "markdown",
   "metadata": {},
   "source": [
    "Since there are none, we must add the reactions manually."
   ]
  },
  {
   "cell_type": "code",
   "execution_count": 4,
   "metadata": {},
   "outputs": [],
   "source": [
    "# First reaction\n",
    "\n",
    "new_reaction1 = Reaction('R07498')  # The first of the three reactions from above\n",
    "\n",
    "# R07498 uses:\n",
    "## Zymosterol + NADPH + H+ <=> 5alpha-Cholest-8-en-3beta-ol + NADP+\n",
    "## We can find these as: (Note: All of these are in the cytoplasm)\n",
    "### Zymosterol = s_1569[c]\n",
    "### NADPH      = s_1212[c]\n",
    "### H+         = s_0794[c]\n",
    "### \n",
    "### 5alpha-Cholest-8-en-3beta-ol = Not yet defined\n",
    "### NADP+                        = s_1207[c]\n",
    "\n",
    "# Since 5alpha-Cholest-8-en-3beta-ol does not exist in the model, we will have to define it.\n",
    "alphaCholest = Metabolite(id='5alpha-Cholest-8-en-3beta-ol_c', name='5alpha-Cholest-8-en-3beta-ol', compartment='c')\n",
    "\n",
    "\n",
    "# We can now define the reaction stoichiometry\n",
    "new_reaction1.add_metabolites({\n",
    "                            model.metabolites.get_by_id(\"s_1569[c]\"): -1,\n",
    "                            model.metabolites.get_by_id(\"s_1212[c]\"): -1,\n",
    "                            model.metabolites.get_by_id(\"s_0794[c]\"): -1,\n",
    "                            alphaCholest: 1, # our newly created metabolites\n",
    "                            model.metabolites.get_by_id(\"s_1207[c]\"): 1\n",
    "                             })\n",
    "\n",
    "model.add_reactions([new_reaction1])\n",
    "\n",
    "## Since the reaction can go both ways, we will set the bounds of the reaction to -1000 and 1000\n",
    "#model.reactions.R07498.bounds = -1000, 1000"
   ]
  },
  {
   "cell_type": "code",
   "execution_count": 5,
   "metadata": {},
   "outputs": [
    {
     "name": "stdout",
     "output_type": "stream",
     "text": [
      "0.04122405543594532\n"
     ]
    }
   ],
   "source": [
    "# Here, we are testing if the intermediate compound can be produced\n",
    "\n",
    "with model:\n",
    "    r_5a_exp = model.add_boundary(model.metabolites.get_by_id('5alpha-Cholest-8-en-3beta-ol_c'), type='demand')\n",
    "    model.objective = r_5a_exp\n",
    "    sol = model.optimize()\n",
    "    print(sol.objective_value)"
   ]
  },
  {
   "cell_type": "code",
   "execution_count": 6,
   "metadata": {},
   "outputs": [],
   "source": [
    "# Second reaction\n",
    "\n",
    "new_reaction2 = Reaction('R03353')  # The second of the three reactions from above\n",
    "\n",
    "# R03353 uses:\n",
    "## Lathosterol <=> 5alpha-Cholest-8-en-3beta-ol\n",
    "## We can find these as: (Note: All of these are in the cytoplasm)\n",
    "### 5alpha-Cholest-8-en-3beta-ol = alphaCholest\n",
    "###\n",
    "### Lathosterol                  = Not yet defined\n",
    "\n",
    "# Since Lathosterol does not exist, we will have to define it.\n",
    "Lathosterol = Metabolite(id='Lathosterol_c', name='Lathosterol', compartment='c')\n",
    "\n",
    "\n",
    "# We can now define the reaction stoichiometry\n",
    "new_reaction2.add_metabolites({\n",
    "                            alphaCholest: -1, # The metabolite from above\n",
    "                            Lathosterol: 1    # our newly created metabolites\n",
    "                             })\n",
    "\n",
    "model.add_reactions([new_reaction2])\n",
    "\n",
    "## Since the reaction can go both ways, we will set the bounds of the reaction to -1000 and 1000\n",
    "#model.reactions.R03353.bounds = -1000, 1000"
   ]
  },
  {
   "cell_type": "code",
   "execution_count": 7,
   "metadata": {},
   "outputs": [
    {
     "name": "stdout",
     "output_type": "stream",
     "text": [
      "0.04122405543594526\n"
     ]
    }
   ],
   "source": [
    "# Here, we are testing if the intermediate compound can be produced\n",
    "\n",
    "with model:\n",
    "    r_la_exp = model.add_boundary(model.metabolites.get_by_id('Lathosterol_c'), type='demand')\n",
    "    model.objective = r_la_exp\n",
    "    sol = model.optimize()\n",
    "    print(sol.objective_value)"
   ]
  },
  {
   "cell_type": "code",
   "execution_count": 8,
   "metadata": {},
   "outputs": [],
   "source": [
    "# Third reaction\n",
    "\n",
    "new_reaction3 = Reaction('R07215')  # The third of the three reactions from above\n",
    "\n",
    "## R07215 uses:\n",
    "## Lathosterol + 2 Ferrocytochromeb5 + Oxygen + 2 H+ <=> 7-Dehydrocholesterol + 2 Ferricytochrome b5 + 2 H2O\n",
    "## We can find these as: (Note: All of these are in the cytoplasm, except for the cytochromes, which are in the mitochondria)\n",
    "### Lathosterol          = Lathosterol\n",
    "### Ferrocytochrome b5   = s_0710[m]\n",
    "### Oxygen               = s_1275[c]\n",
    "### H+                   = s_0794[c]\n",
    "###\n",
    "### 7-Dehydrocholesterol = Not yet defined\n",
    "### Ferricytochrome b5   = s_0709[m]\n",
    "### H2O                  = s_0803[c]\n",
    "\n",
    "\n",
    "\n",
    "# Since 7-Dehydrocholesterol does not exist, we will have to define it.\n",
    "Dehydrocholesterol = Metabolite(id='7-Dehydrocholesterol_c', name='7-Dehydrocholesterol', compartment='c')\n",
    "\n",
    "\n",
    "new_reaction3.add_metabolites({\n",
    "                            Lathosterol: -1, # The metabolite we created above\n",
    "                            model.metabolites.get_by_id(\"s_0710[m]\"): -2,\n",
    "                            model.metabolites.get_by_id(\"s_1275[c]\"): -1,\n",
    "                            model.metabolites.get_by_id(\"s_0794[c]\"): -2,\n",
    "                            Dehydrocholesterol: 1, # our newly created metabolites\n",
    "                            model.metabolites.get_by_id(\"s_0709[m]\"): 2,\n",
    "                            model.metabolites.get_by_id(\"s_0803[c]\"): 2\n",
    "                             })\n",
    "\n",
    "model.add_reactions([new_reaction3])\n",
    "\n",
    "## Since the reaction can go both ways, we will set the bounds of the reaction to -1000 and 1000\n",
    "#model.reactions.R07215.bounds = -1000, 1000"
   ]
  },
  {
   "cell_type": "code",
   "execution_count": 9,
   "metadata": {},
   "outputs": [
    {
     "name": "stdout",
     "output_type": "stream",
     "text": [
      "0.0411734248480485\n"
     ]
    }
   ],
   "source": [
    "r_7DH_export = model.add_boundary(model.metabolites.get_by_id('7-Dehydrocholesterol_c'), type='demand')\n",
    "\n",
    "with model:\n",
    "    model.objective = r_7DH_export\n",
    "    sol = model.optimize()\n",
    "    print(sol.objective_value)"
   ]
  },
  {
   "cell_type": "markdown",
   "metadata": {},
   "source": [
    "From this, we can see that we are now able to produce 7-dehydrocholesterol in our cell factory!\n",
    "\n",
    "The current state of the model is saved as \"yeastGEM_het.xml\" in the data folder."
   ]
  },
  {
   "cell_type": "code",
   "execution_count": 10,
   "metadata": {},
   "outputs": [],
   "source": [
    "write_sbml_model(model, \"data/yeastGEM_het.xml\")"
   ]
  },
  {
   "cell_type": "code",
   "execution_count": 11,
   "metadata": {},
   "outputs": [],
   "source": [
    "model = read_sbml_model('data/yeastGEM_het.xml')"
   ]
  },
  {
   "cell_type": "code",
   "execution_count": 12,
   "metadata": {},
   "outputs": [
    {
     "name": "stdout",
     "output_type": "stream",
     "text": [
      "Max. 7-Dehydrocholesterol production [mmol gDW^-1 h^-1]: 0.04117342484804852\n",
      "Theoretical max. yield [mmol-DH / mmol-glucose]: 0.04117342484804852\n"
     ]
    }
   ],
   "source": [
    "with model:\n",
    "    model.objective = model.reactions.R07215\n",
    "    DH_production = model.optimize().objective_value\n",
    "    print(\"Max. 7-Dehydrocholesterol production [mmol gDW^-1 h^-1]:\", DH_production)\n",
    "    print(\"Theoretical max. yield [mmol-DH / mmol-glucose]:\", DH_production / (-1*model.reactions.r_1714.flux))\n",
    "    max_yield_mmol=DH_production / (-1*model.reactions.r_1714.flux)\n",
    "    \n"
   ]
  },
  {
   "cell_type": "code",
   "execution_count": null,
   "metadata": {},
   "outputs": [],
   "source": []
  }
 ],
 "metadata": {
  "kernelspec": {
   "display_name": "python3.6",
   "language": "python",
   "name": "python3.6"
  },
  "language_info": {
   "codemirror_mode": {
    "name": "ipython",
    "version": 3
   },
   "file_extension": ".py",
   "mimetype": "text/x-python",
   "name": "python",
   "nbconvert_exporter": "python",
   "pygments_lexer": "ipython3",
   "version": "3.6.12"
  }
 },
 "nbformat": 4,
 "nbformat_minor": 4
}
