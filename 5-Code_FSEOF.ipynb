{
 "cells": [
  {
   "cell_type": "markdown",
   "metadata": {},
   "source": [
    "### FSEOF analysis\n",
    "\n",
    "FSEOF analysis stands for flux scanning based on enforced objective flux. This type of analysis can indicate which reactions can be changed in flux to increase the production of the compound of interest. This is done by enforcing an increasing flux of the objective, here the 7-dehydrocholesterol reaction."
   ]
  },
  {
   "cell_type": "code",
   "execution_count": 8,
   "metadata": {},
   "outputs": [],
   "source": [
    "from cobra.io import read_sbml_model, write_sbml_model\n",
    "from cobra import Reaction, Metabolite\n",
    "from cameo.strain_design.deterministic.flux_variability_based import FSEOF"
   ]
  },
  {
   "cell_type": "code",
   "execution_count": 9,
   "metadata": {},
   "outputs": [],
   "source": [
    "model = read_sbml_model('data/yeastGEM_het.xml')"
   ]
  },
  {
   "cell_type": "code",
   "execution_count": 10,
   "metadata": {},
   "outputs": [],
   "source": [
    "fseof = FSEOF(model)"
   ]
  },
  {
   "cell_type": "code",
   "execution_count": 11,
   "metadata": {},
   "outputs": [],
   "source": [
    "fseofresult=fseof.run(target=model.reactions.R07215)"
   ]
  },
  {
   "cell_type": "code",
   "execution_count": 12,
   "metadata": {},
   "outputs": [
    {
     "data": {
      "text/html": [
       "\n",
       "<strong>Model:</strong> M_yeastGEM_v8__46__4__46__2</br>\n",
       "<strong>Enforced objective:</strong> R07215</br>\n",
       "<strong>Primary objective:</strong> Maximize\n",
       "1.0*r_2111 - 1.0*r_2111_reverse_58b69</br>\n",
       "<br>\n",
       "<strong>Reaction fluxes</strong><br><br>\n",
       "<div>\n",
       "<style scoped>\n",
       "    .dataframe tbody tr th:only-of-type {\n",
       "        vertical-align: middle;\n",
       "    }\n",
       "\n",
       "    .dataframe tbody tr th {\n",
       "        vertical-align: top;\n",
       "    }\n",
       "\n",
       "    .dataframe thead th {\n",
       "        text-align: right;\n",
       "    }\n",
       "</style>\n",
       "<table border=\"1\" class=\"dataframe\">\n",
       "  <thead>\n",
       "    <tr style=\"text-align: right;\">\n",
       "      <th></th>\n",
       "      <th>1</th>\n",
       "      <th>2</th>\n",
       "      <th>3</th>\n",
       "      <th>4</th>\n",
       "      <th>5</th>\n",
       "      <th>6</th>\n",
       "      <th>7</th>\n",
       "      <th>8</th>\n",
       "      <th>9</th>\n",
       "      <th>10</th>\n",
       "    </tr>\n",
       "  </thead>\n",
       "  <tbody>\n",
       "    <tr>\n",
       "      <th>r_0020</th>\n",
       "      <td>0.043157</td>\n",
       "      <td>0.051107</td>\n",
       "      <td>0.059055</td>\n",
       "      <td>0.067003</td>\n",
       "      <td>0.074950</td>\n",
       "      <td>0.082898</td>\n",
       "      <td>0.090846</td>\n",
       "      <td>0.098793</td>\n",
       "      <td>0.106741</td>\n",
       "      <td>0.114689</td>\n",
       "    </tr>\n",
       "    <tr>\n",
       "      <th>r_0039</th>\n",
       "      <td>0.043157</td>\n",
       "      <td>0.051107</td>\n",
       "      <td>0.059055</td>\n",
       "      <td>0.067003</td>\n",
       "      <td>0.074950</td>\n",
       "      <td>0.082898</td>\n",
       "      <td>0.090846</td>\n",
       "      <td>0.098793</td>\n",
       "      <td>0.106741</td>\n",
       "      <td>0.114689</td>\n",
       "    </tr>\n",
       "    <tr>\n",
       "      <th>r_0040</th>\n",
       "      <td>0.043157</td>\n",
       "      <td>0.051107</td>\n",
       "      <td>0.059055</td>\n",
       "      <td>0.067003</td>\n",
       "      <td>0.074950</td>\n",
       "      <td>0.082898</td>\n",
       "      <td>0.090846</td>\n",
       "      <td>0.098793</td>\n",
       "      <td>0.106741</td>\n",
       "      <td>0.114689</td>\n",
       "    </tr>\n",
       "    <tr>\n",
       "      <th>r_0045</th>\n",
       "      <td>0.020012</td>\n",
       "      <td>0.030249</td>\n",
       "      <td>0.040486</td>\n",
       "      <td>0.050723</td>\n",
       "      <td>0.060960</td>\n",
       "      <td>0.071197</td>\n",
       "      <td>0.081434</td>\n",
       "      <td>0.091671</td>\n",
       "      <td>0.101908</td>\n",
       "      <td>0.112145</td>\n",
       "    </tr>\n",
       "    <tr>\n",
       "      <th>r_0058</th>\n",
       "      <td>0.020012</td>\n",
       "      <td>0.030249</td>\n",
       "      <td>0.040486</td>\n",
       "      <td>0.050723</td>\n",
       "      <td>0.060960</td>\n",
       "      <td>0.071197</td>\n",
       "      <td>0.081434</td>\n",
       "      <td>0.091671</td>\n",
       "      <td>0.101908</td>\n",
       "      <td>0.112145</td>\n",
       "    </tr>\n",
       "    <tr>\n",
       "      <th>...</th>\n",
       "      <td>...</td>\n",
       "      <td>...</td>\n",
       "      <td>...</td>\n",
       "      <td>...</td>\n",
       "      <td>...</td>\n",
       "      <td>...</td>\n",
       "      <td>...</td>\n",
       "      <td>...</td>\n",
       "      <td>...</td>\n",
       "      <td>...</td>\n",
       "    </tr>\n",
       "    <tr>\n",
       "      <th>r_4264</th>\n",
       "      <td>0.983103</td>\n",
       "      <td>0.970929</td>\n",
       "      <td>0.981237</td>\n",
       "      <td>0.998792</td>\n",
       "      <td>1.016346</td>\n",
       "      <td>1.033900</td>\n",
       "      <td>1.051454</td>\n",
       "      <td>1.069009</td>\n",
       "      <td>1.086563</td>\n",
       "      <td>1.104117</td>\n",
       "    </tr>\n",
       "    <tr>\n",
       "      <th>r_4460</th>\n",
       "      <td>-0.292889</td>\n",
       "      <td>-0.334249</td>\n",
       "      <td>-0.375589</td>\n",
       "      <td>-0.416928</td>\n",
       "      <td>-0.458267</td>\n",
       "      <td>-0.499606</td>\n",
       "      <td>-0.540946</td>\n",
       "      <td>-0.582285</td>\n",
       "      <td>-0.623624</td>\n",
       "      <td>-0.664963</td>\n",
       "    </tr>\n",
       "    <tr>\n",
       "      <th>R07498</th>\n",
       "      <td>0.003706</td>\n",
       "      <td>0.007411</td>\n",
       "      <td>0.011117</td>\n",
       "      <td>0.014822</td>\n",
       "      <td>0.018528</td>\n",
       "      <td>0.022233</td>\n",
       "      <td>0.025939</td>\n",
       "      <td>0.029645</td>\n",
       "      <td>0.033350</td>\n",
       "      <td>0.037056</td>\n",
       "    </tr>\n",
       "    <tr>\n",
       "      <th>R03353</th>\n",
       "      <td>0.003706</td>\n",
       "      <td>0.007411</td>\n",
       "      <td>0.011117</td>\n",
       "      <td>0.014822</td>\n",
       "      <td>0.018528</td>\n",
       "      <td>0.022233</td>\n",
       "      <td>0.025939</td>\n",
       "      <td>0.029645</td>\n",
       "      <td>0.033350</td>\n",
       "      <td>0.037056</td>\n",
       "    </tr>\n",
       "    <tr>\n",
       "      <th>R07215</th>\n",
       "      <td>0.003706</td>\n",
       "      <td>0.007411</td>\n",
       "      <td>0.011117</td>\n",
       "      <td>0.014822</td>\n",
       "      <td>0.018528</td>\n",
       "      <td>0.022233</td>\n",
       "      <td>0.025939</td>\n",
       "      <td>0.029645</td>\n",
       "      <td>0.033350</td>\n",
       "      <td>0.037056</td>\n",
       "    </tr>\n",
       "  </tbody>\n",
       "</table>\n",
       "<p>158 rows × 10 columns</p>\n",
       "</div>\n"
      ],
      "text/plain": [
       "<cameo.strain_design.deterministic.flux_variability_based.FSEOFResult at 0x143ada940d0>"
      ]
     },
     "execution_count": 12,
     "metadata": {},
     "output_type": "execute_result"
    }
   ],
   "source": [
    "fseofresult"
   ]
  },
  {
   "cell_type": "code",
   "execution_count": 18,
   "metadata": {},
   "outputs": [
    {
     "data": {
      "image/png": "[encoded data removed]",
      "text/plain": [
       "<Figure size 432x288 with 1 Axes>"
      ]
     },
     "metadata": {
      "needs_background": "light"
     },
     "output_type": "display_data"
    }
   ],
   "source": [
    "from matplotlib import pyplot as plt\n",
    "fseofresult.data_frame[148:].T.plot()\n",
    "plt.legend(loc='center left', bbox_to_anchor=(1, 0.5))\n",
    "plt.savefig(\"figures/FSEOF.png\")\n",
    "plt.show()"
   ]
  },
  {
   "cell_type": "markdown",
   "metadata": {},
   "source": [
    "From the FSEOF analysis, we can see that reaction r_4460 is negative. This suggests that a decrease in this reaction is correlated with an increase in production of 7-dehydrocholesterol. The r_4460 reaction is the phosphate transport via proton symport, which suggests that phosphate limitation might be productive for the optimization of our cell factory. \n",
    "\n",
    "We can therefore try to knock out this reaction and see if it changes anything, but we can also try to remove some of the phosphate from the environment."
   ]
  },
  {
   "cell_type": "code",
   "execution_count": 7,
   "metadata": {},
   "outputs": [],
   "source": [
    "from cobra.flux_analysis.phenotype_phase_plane import production_envelope, add_envelope\n",
    "import pandas as pd\n",
    "import matplotlib\n",
    "import matplotlib.pyplot as plt "
   ]
  },
  {
   "cell_type": "code",
   "execution_count": 8,
   "metadata": {},
   "outputs": [
    {
     "name": "stdout",
     "output_type": "stream",
     "text": [
      "Normal growth conditions\n",
      "Maximal growth rate:\n",
      "0.08374778664999796\n",
      "Maximal 7-dehydrocholesterol production rate\n",
      "0.04117342484804859\n",
      "\n",
      "Without phosphate\n",
      "Maximal growth rate:\n",
      "0.08305465383482832\n",
      "Maximal 7-dehydrocholesterol production rate\n",
      "0.040224600029629916\n"
     ]
    },
    {
     "data": {
      "image/png": "[encoded data removed]",
      "text/plain": [
       "<Figure size 432x288 with 1 Axes>"
      ]
     },
     "metadata": {
      "needs_background": "light"
     },
     "output_type": "display_data"
    }
   ],
   "source": [
    "# Phosphate transport knockout\n",
    "with model:    \n",
    "    print(\"Normal growth conditions\")\n",
    "    print(\"Maximal growth rate:\")\n",
    "    print(model.slim_optimize())\n",
    "    model.objective = model.reactions.R07215\n",
    "    print(\"Maximal 7-dehydrocholesterol production rate\")\n",
    "    print(model.slim_optimize())\n",
    "\n",
    "with model:\n",
    "    model.reactions.r_4460.knock_out()\n",
    "    print(\"\\nWithout phosphate\")\n",
    "    print(\"Maximal growth rate:\")\n",
    "    print(model.slim_optimize())\n",
    "    model.objective = model.reactions.R07215\n",
    "    print(\"Maximal 7-dehydrocholesterol production rate\")\n",
    "    print(model.slim_optimize())\n",
    "    ppp_7DH = production_envelope(model,\n",
    "                    reactions=[model.reactions.R07215],\n",
    "                    objective=model.reactions.r_2111)\n",
    "    pppp = ppp_7DH.plot(x='R07215', y='flux_maximum')\n",
    "    fig = pppp.get_figure()\n",
    "    plt.title(label=\"Phosphate knockout\")\n",
    "    fig.savefig(\"figures/phospate_knockout_ppp\")"
   ]
  },
  {
   "cell_type": "code",
   "execution_count": 9,
   "metadata": {},
   "outputs": [
    {
     "name": "stdout",
     "output_type": "stream",
     "text": [
      "Normal growth conditions\n",
      "Maximal growth rate:\n",
      "0.08374778664999818\n",
      "Maximal 7-dehydrocholesterol production rate\n",
      "0.0411734248480483\n",
      "\n",
      "Without phosphate\n",
      "Maximal growth rate:\n",
      "0.0831351110413374\n",
      "Maximal 7-dehydrocholesterol production rate\n",
      "0.016666666666666382\n"
     ]
    },
    {
     "data": {
      "image/png": "[encoded data removed]",
      "text/plain": [
       "<Figure size 432x288 with 1 Axes>"
      ]
     },
     "metadata": {
      "needs_background": "light"
     },
     "output_type": "display_data"
    }
   ],
   "source": [
    "# Phosphate limitation in the media\n",
    "\n",
    "with model:    \n",
    "    print(\"Normal growth conditions\")\n",
    "    print(\"Maximal growth rate:\")\n",
    "    print(model.slim_optimize())\n",
    "    model.objective = model.reactions.R07215\n",
    "    print(\"Maximal 7-dehydrocholesterol production rate\")\n",
    "    print(model.slim_optimize())\n",
    "\n",
    "with model:\n",
    "    medium = model.medium\n",
    "    medium['r_2005'] = 0.1    \n",
    "    model.medium = medium\n",
    "    \n",
    "    \n",
    "    print(\"\\nWithout phosphate\")\n",
    "    print(\"Maximal growth rate:\")\n",
    "    print(model.slim_optimize())\n",
    "    model.objective = model.reactions.R07215\n",
    "    print(\"Maximal 7-dehydrocholesterol production rate\")\n",
    "    print(model.slim_optimize())\n",
    "    \n",
    "    ppp_7DH = production_envelope(model,\n",
    "                    reactions=[model.reactions.R07215],\n",
    "                    objective=model.reactions.r_2111)\n",
    "    pppp = ppp_7DH.plot(x='R07215', y='flux_maximum')\n",
    "    fig = pppp.get_figure()\n",
    "    plt.title(label=\"Phosphate minimization\")\n",
    "    fig.savefig(\"figures/phosphate_minimization_ppp\")"
   ]
  },
  {
   "cell_type": "markdown",
   "metadata": {},
   "source": [
    "From this PPP, we can see our first deviation from the straight line that signals the trade-off between growth and production. We have now a better chance of finding an optimization route. To analyse this further, OptGene can be run under phosphate limitation:"
   ]
  },
  {
   "cell_type": "code",
   "execution_count": 4,
   "metadata": {},
   "outputs": [
    {
     "name": "stdout",
     "output_type": "stream",
     "text": [
      "Starting optimization at Sun, 29 Nov 2020 21:18:22\n"
     ]
    },
    {
     "data": {
      "application/vnd.jupyter.widget-view+json": {
       "model_id": "d9e395e68c8c4120b9411e61f9d6be42",
       "version_major": 2,
       "version_minor": 0
      },
      "text/plain": [
       "HBox()"
      ]
     },
     "metadata": {},
     "output_type": "display_data"
    },
    {
     "name": "stdout",
     "output_type": "stream",
     "text": [
      "Finished after 01:09:23\n"
     ]
    }
   ],
   "source": [
    "from cameo.strain_design import OptGene\n",
    "\n",
    "with model:\n",
    "    medium = model.medium\n",
    "    medium['r_2005'] =1    \n",
    "    model.medium = medium\n",
    "    with model:\n",
    "        optgene = OptGene(model)\n",
    "        result_phoslim1 = optgene.run(target=model.reactions.R07215,biomass=model.reactions.r_2111,substrate=model.reactions.r_1714,max_evaluations=2000,plot=False)"
   ]
  },
  {
   "cell_type": "code",
   "execution_count": 5,
   "metadata": {},
   "outputs": [
    {
     "data": {
      "text/html": [
       "\n",
       "        <h3>OptGene Result</h3>\n",
       "        <ul>\n",
       "            <li>Simulation: fba<br/></li>\n",
       "            <li>Objective Function: $$bpcy = \\frac{(r\\_2111 * R07215)}{r\\_1714}$$<br/></li>\n",
       "        </ul>\n",
       "        <div>\n",
       "<style scoped>\n",
       "    .dataframe tbody tr th:only-of-type {\n",
       "        vertical-align: middle;\n",
       "    }\n",
       "\n",
       "    .dataframe tbody tr th {\n",
       "        vertical-align: top;\n",
       "    }\n",
       "\n",
       "    .dataframe thead th {\n",
       "        text-align: right;\n",
       "    }\n",
       "</style>\n",
       "<table border=\"1\" class=\"dataframe\">\n",
       "  <thead>\n",
       "    <tr style=\"text-align: right;\">\n",
       "      <th></th>\n",
       "      <th>reactions</th>\n",
       "      <th>genes</th>\n",
       "      <th>size</th>\n",
       "      <th>fva_min</th>\n",
       "      <th>fva_max</th>\n",
       "      <th>target_flux</th>\n",
       "      <th>biomass_flux</th>\n",
       "      <th>yield</th>\n",
       "      <th>fitness</th>\n",
       "    </tr>\n",
       "  </thead>\n",
       "  <tbody>\n",
       "  </tbody>\n",
       "</table>\n",
       "</div>\n",
       "        "
      ],
      "text/plain": [
       "<cameo.strain_design.heuristic.evolutionary_based.OptGeneResult at 0x7fecfbbfa668>"
      ]
     },
     "execution_count": 5,
     "metadata": {},
     "output_type": "execute_result"
    }
   ],
   "source": [
    "result_phoslim1"
   ]
  },
  {
   "cell_type": "markdown",
   "metadata": {},
   "source": [
    "This OptGene analysis did not yield any fruitful results.\n",
    "\n",
    "Due to the low production under phosphate limitation, this is not further utilised in the project."
   ]
  }
 ],
 "metadata": {
  "kernelspec": {
   "display_name": "p36workshop",
   "language": "python",
   "name": "p36workshop"
  },
  "language_info": {
   "codemirror_mode": {
    "name": "ipython",
    "version": 3
   },
   "file_extension": ".py",
   "mimetype": "text/x-python",
   "name": "python",
   "nbconvert_exporter": "python",
   "pygments_lexer": "ipython3",
   "version": "3.8.3"
  }
 },
 "nbformat": 4,
 "nbformat_minor": 4
}
