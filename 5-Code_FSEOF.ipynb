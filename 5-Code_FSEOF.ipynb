{
 "cells": [
  {
   "cell_type": "markdown",
   "metadata": {},
   "source": [
    "### FSEOF analysis\n"
   ]
  },
  {
   "cell_type": "code",
   "execution_count": 1,
   "metadata": {},
   "outputs": [],
   "source": [
    "from cobra.io import read_sbml_model, write_sbml_model\n",
    "from cobra import Reaction, Metabolite\n",
    "from cameo.strain_design.deterministic.flux_variability_based import FSEOF"
   ]
  },
  {
   "cell_type": "code",
   "execution_count": 3,
   "metadata": {},
   "outputs": [],
   "source": [
    "model = read_sbml_model('data/yeastGEM_het.xml')"
   ]
  },
  {
   "cell_type": "code",
   "execution_count": null,
   "metadata": {},
   "outputs": [],
   "source": [
    "fseof = FSEOF(model)"
   ]
  },
  {
   "cell_type": "code",
   "execution_count": null,
   "metadata": {},
   "outputs": [],
   "source": [
    "fseofresult=fseof.run(target=model.reactions.R07215)"
   ]
  },
  {
   "cell_type": "code",
   "execution_count": null,
   "metadata": {},
   "outputs": [],
   "source": [
    "fseofresult"
   ]
  },
  {
   "cell_type": "code",
   "execution_count": null,
   "metadata": {},
   "outputs": [],
   "source": [
    "from matplotlib import pyplot as plt\n",
    "fseofresult.data_frame[140:].T.plot()\n",
    "plt.legend(loc='center left', bbox_to_anchor=(1, 0.5))\n",
    "plt.show()"
   ]
  },
  {
   "cell_type": "markdown",
   "metadata": {},
   "source": [
    "From the FSEOF analysis, we can see that reaction r_4460 is negative. This suggests that a decrease in this reaction is correlated with an increase in production of 7-dehydrocholersterol. This reaction is the phosphate transport in via proton symport, which suggests that phosphate limitation might be productive for the optimization of our cell factory. \n",
    "\n",
    "We can therefore try to knock out this reaction and see if it changes anything, but we can also try to remove some of the phosphate from the environment."
   ]
  },
  {
   "cell_type": "code",
   "execution_count": null,
   "metadata": {},
   "outputs": [],
   "source": [
    "from cobra.flux_analysis.phenotype_phase_plane import production_envelope, add_envelope\n",
    "import pandas as pd\n",
    "import matplotlib\n",
    "import matplotlib.pyplot as plt "
   ]
  },
  {
   "cell_type": "code",
   "execution_count": null,
   "metadata": {},
   "outputs": [],
   "source": [
    "# Phosphate transport knockout\n",
    "with model:    \n",
    "    print(\"Normal growth conditions\")\n",
    "    print(\"Maximal growth rate:\")\n",
    "    print(model.slim_optimize())\n",
    "    model.objective = model.reactions.R07215\n",
    "    print(\"Maximal 7-dehydrocholrsterol production rate\")\n",
    "    print(model.slim_optimize())\n",
    "\n",
    "with model:\n",
    "    model.reactions.r_4460.knock_out()\n",
    "    \n",
    "    \n",
    "    print(\"\\nWithout phosphate\")\n",
    "    print(\"Maximal growth rate:\")\n",
    "    print(model.slim_optimize())\n",
    "    model.objective = model.reactions.R07215\n",
    "    print(\"Maximal 7-dehydrocholrsterol production rate\")\n",
    "    print(model.slim_optimize())\n",
    "    \n",
    "    ppp_7DH = production_envelope(model,\n",
    "                    reactions=[model.reactions.R07215],\n",
    "                    objective=model.reactions.r_2111)\n",
    "    pppp = ppp_7DH.plot(x='R07215', y='flux_maximum')\n",
    "    fig = pppp.get_figure()\n",
    "    plt.title(label=\"Phosphate knockout\")"
   ]
  },
  {
   "cell_type": "code",
   "execution_count": null,
   "metadata": {},
   "outputs": [],
   "source": [
    "# Phosphate limitation in the media\n",
    "\n",
    "with model:    \n",
    "    print(\"Normal growth conditions\")\n",
    "    print(\"Maximal growth rate:\")\n",
    "    print(model.slim_optimize())\n",
    "    model.objective = model.reactions.R07215\n",
    "    print(\"Maximal 7-dehydrocholrsterol production rate\")\n",
    "    print(model.slim_optimize())\n",
    "\n",
    "with model:\n",
    "    medium = model.medium\n",
    "    medium['r_2005'] = 0.1    \n",
    "    model.medium = medium\n",
    "    \n",
    "    \n",
    "    print(\"\\nWithout phosphate\")\n",
    "    print(\"Maximal growth rate:\")\n",
    "    print(model.slim_optimize())\n",
    "    model.objective = model.reactions.R07215\n",
    "    print(\"Maximal 7-dehydrocholrsterol production rate\")\n",
    "    print(model.slim_optimize())\n",
    "    \n",
    "    ppp_7DH = production_envelope(model,\n",
    "                    reactions=[model.reactions.R07215],\n",
    "                    objective=model.reactions.r_2111)\n",
    "    pppp = ppp_7DH.plot(x='R07215', y='flux_maximum')\n",
    "    fig = pppp.get_figure()\n",
    "    plt.title(label=\"Phosphate minimization\")"
   ]
  },
  {
   "cell_type": "markdown",
   "metadata": {},
   "source": [
    "From this PPP, we can see our first deviation from the straight line that signals the trade-off between growth and production. We have now a better chance of finding an optimization route"
   ]
  },
  {
   "cell_type": "code",
   "execution_count": 4,
   "metadata": {},
   "outputs": [
    {
     "name": "stdout",
     "output_type": "stream",
     "text": [
      "Starting optimization at Sun, 29 Nov 2020 21:18:22\n"
     ]
    },
    {
     "data": {
      "application/vnd.jupyter.widget-view+json": {
       "model_id": "d9e395e68c8c4120b9411e61f9d6be42",
       "version_major": 2,
       "version_minor": 0
      },
      "text/plain": [
       "HBox()"
      ]
     },
     "metadata": {},
     "output_type": "display_data"
    },
    {
     "name": "stdout",
     "output_type": "stream",
     "text": [
      "Finished after 01:09:23\n"
     ]
    }
   ],
   "source": [
    "from cameo.strain_design import OptGene\n",
    "\n",
    "with model:\n",
    "    medium = model.medium\n",
    "    medium['r_2005'] =1    \n",
    "    model.medium = medium\n",
    "    with model:\n",
    "        optgene = OptGene(model)\n",
    "        result_phoslim1 = optgene.run(target=model.reactions.R07215,biomass=model.reactions.r_2111,substrate=model.reactions.r_1714,max_evaluations=2000,plot=False)"
   ]
  },
  {
   "cell_type": "code",
   "execution_count": 5,
   "metadata": {},
   "outputs": [
    {
     "data": {
      "text/html": [
       "\n",
       "        <h3>OptGene Result</h3>\n",
       "        <ul>\n",
       "            <li>Simulation: fba<br/></li>\n",
       "            <li>Objective Function: $$bpcy = \\frac{(r\\_2111 * R07215)}{r\\_1714}$$<br/></li>\n",
       "        </ul>\n",
       "        <div>\n",
       "<style scoped>\n",
       "    .dataframe tbody tr th:only-of-type {\n",
       "        vertical-align: middle;\n",
       "    }\n",
       "\n",
       "    .dataframe tbody tr th {\n",
       "        vertical-align: top;\n",
       "    }\n",
       "\n",
       "    .dataframe thead th {\n",
       "        text-align: right;\n",
       "    }\n",
       "</style>\n",
       "<table border=\"1\" class=\"dataframe\">\n",
       "  <thead>\n",
       "    <tr style=\"text-align: right;\">\n",
       "      <th></th>\n",
       "      <th>reactions</th>\n",
       "      <th>genes</th>\n",
       "      <th>size</th>\n",
       "      <th>fva_min</th>\n",
       "      <th>fva_max</th>\n",
       "      <th>target_flux</th>\n",
       "      <th>biomass_flux</th>\n",
       "      <th>yield</th>\n",
       "      <th>fitness</th>\n",
       "    </tr>\n",
       "  </thead>\n",
       "  <tbody>\n",
       "  </tbody>\n",
       "</table>\n",
       "</div>\n",
       "        "
      ],
      "text/plain": [
       "<cameo.strain_design.heuristic.evolutionary_based.OptGeneResult at 0x7fecfbbfa668>"
      ]
     },
     "execution_count": 5,
     "metadata": {},
     "output_type": "execute_result"
    }
   ],
   "source": [
    "result_phoslim1"
   ]
  }
 ],
 "metadata": {
  "kernelspec": {
   "display_name": "python3.6",
   "language": "python",
   "name": "python3.6"
  },
  "language_info": {
   "codemirror_mode": {
    "name": "ipython",
    "version": 3
   },
   "file_extension": ".py",
   "mimetype": "text/x-python",
   "name": "python",
   "nbconvert_exporter": "python",
   "pygments_lexer": "ipython3",
   "version": "3.6.12"
  }
 },
 "nbformat": 4,
 "nbformat_minor": 4
}
