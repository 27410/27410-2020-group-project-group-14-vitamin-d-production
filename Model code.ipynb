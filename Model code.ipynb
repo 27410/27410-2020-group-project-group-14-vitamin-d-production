{
 "cells": [
  {
   "cell_type": "code",
   "execution_count": null,
   "metadata": {},
   "outputs": [],
   "source": []
  },
  {
   "cell_type": "code",
   "execution_count": 3,
   "metadata": {},
   "outputs": [],
   "source": [
    "from IPython.display import display\n",
    "import re\n",
    "\n",
    "import cplex"
   ]
  },
  {
   "cell_type": "code",
   "execution_count": 4,
   "metadata": {},
   "outputs": [
    {
     "data": {
      "text/html": [
       "\n",
       "        <table>\n",
       "            <tr>\n",
       "                <td><strong>Name</strong></td>\n",
       "                <td>M_ecYeastGEM_prot_v8__46__3__46__4</td>\n",
       "            </tr><tr>\n",
       "                <td><strong>Memory address</strong></td>\n",
       "                <td>0x07f06e14a0470</td>\n",
       "            </tr><tr>\n",
       "                <td><strong>Number of metabolites</strong></td>\n",
       "                <td>4180</td>\n",
       "            </tr><tr>\n",
       "                <td><strong>Number of reactions</strong></td>\n",
       "                <td>8144</td>\n",
       "            </tr><tr>\n",
       "                <td><strong>Number of groups</strong></td>\n",
       "                <td>0</td>\n",
       "            </tr><tr>\n",
       "                <td><strong>Objective expression</strong></td>\n",
       "                <td>-1.0*prot_pool_exchange + 1.0*prot_pool_exchange_reverse_c813a</td>\n",
       "            </tr><tr>\n",
       "                <td><strong>Compartments</strong></td>\n",
       "                <td>cell envelope, cytoplasm, extracellular, mitochondrion, nucleus, peroxisome, endoplasmic reticulum, Golgi, lipid particle, vacuole, endoplasmic reticulum membrane, vacuolar membrane, Golgi membrane, mitochondrial membrane</td>\n",
       "            </tr>\n",
       "          </table>"
      ],
      "text/plain": [
       "<Model M_ecYeastGEM_prot_v8__46__3__46__4 at 0x7f06e14a0470>"
      ]
     },
     "execution_count": 4,
     "metadata": {},
     "output_type": "execute_result"
    }
   ],
   "source": [
    "# First, we can import some functions so we can use the model\n",
    "from cobra.io import read_sbml_model\n",
    "from cobra import Reaction, Metabolite\n",
    "from cameo.strain_design import pathway_prediction\n",
    "\n",
    "# Second, we can read the GEM and save it as ‘model’\n",
    "model = read_sbml_model('ecYeastGEM_prot.xml')\n",
    "\n",
    "# Thrid, we can show general information about the loaded model\n",
    "model"
   ]
  },
  {
   "cell_type": "code",
   "execution_count": 12,
   "metadata": {},
   "outputs": [
    {
     "data": {
      "text/html": [
       "\n",
       "        <table>\n",
       "            <tr>\n",
       "                <td><strong>Reaction identifier</strong></td><td>prot_pool_exchange</td>\n",
       "            </tr><tr>\n",
       "                <td><strong>Name</strong></td><td>prot_pool_exchange</td>\n",
       "            </tr><tr>\n",
       "                <td><strong>Memory address</strong></td>\n",
       "                <td>0x07f1271bef080</td>\n",
       "            </tr><tr>\n",
       "                <td><strong>Stoichiometry</strong></td>\n",
       "                <td>\n",
       "                    <p style='text-align:right'> --> prot_pool[c]</p>\n",
       "                    <p style='text-align:right'> --> prot_pool [cytoplasm]</p>\n",
       "                </td>\n",
       "            </tr><tr>\n",
       "                <td><strong>GPR</strong></td><td></td>\n",
       "            </tr><tr>\n",
       "                <td><strong>Lower bound</strong></td><td>0.0</td>\n",
       "            </tr><tr>\n",
       "                <td><strong>Upper bound</strong></td><td>0.0936065695352742</td>\n",
       "            </tr>\n",
       "        </table>\n",
       "        "
      ],
      "text/plain": [
       "<Reaction prot_pool_exchange at 0x7f1271bef080>"
      ]
     },
     "execution_count": 12,
     "metadata": {},
     "output_type": "execute_result"
    }
   ],
   "source": [
    "model.reactions.get_by_id(\"prot_pool_exchange\")"
   ]
  },
  {
   "cell_type": "code",
   "execution_count": 39,
   "metadata": {},
   "outputs": [
    {
     "name": "stdout",
     "output_type": "stream",
     "text": [
      "r_1278\n",
      "r_2106\n",
      "r_2107\n",
      "r_3553\n",
      "r_3720\n",
      "r_1278_REV\n",
      "r_2106_REV\n",
      "r_2107_REV\n",
      "r_3553_REV\n",
      "r_3720_REV\n",
      "r_0130No1\n",
      "r_0135No1\n",
      "r_0235No1\n",
      "r_0236No1\n",
      "r_0237No1\n",
      "r_0241No1\n",
      "r_0130_REVNo1\n",
      "r_0135_REVNo1\n"
     ]
    }
   ],
   "source": [
    "for reaction in model.reactions.query('zymosterol', 'name'):\n",
    "     print(reaction.id)"
   ]
  },
  {
   "cell_type": "code",
   "execution_count": 14,
   "metadata": {},
   "outputs": [
    {
     "data": {
      "text/html": [
       "<strong><em>Optimal</em> solution with objective value -0.054</strong><br><div>\n",
       "<style scoped>\n",
       "    .dataframe tbody tr th:only-of-type {\n",
       "        vertical-align: middle;\n",
       "    }\n",
       "\n",
       "    .dataframe tbody tr th {\n",
       "        vertical-align: top;\n",
       "    }\n",
       "\n",
       "    .dataframe thead th {\n",
       "        text-align: right;\n",
       "    }\n",
       "</style>\n",
       "<table border=\"1\" class=\"dataframe\">\n",
       "  <thead>\n",
       "    <tr style=\"text-align: right;\">\n",
       "      <th></th>\n",
       "      <th>fluxes</th>\n",
       "      <th>reduced_costs</th>\n",
       "    </tr>\n",
       "  </thead>\n",
       "  <tbody>\n",
       "    <tr>\n",
       "      <th>r_0006</th>\n",
       "      <td>0.026995</td>\n",
       "      <td>0.000000e+00</td>\n",
       "    </tr>\n",
       "    <tr>\n",
       "      <th>r_0070</th>\n",
       "      <td>0.000000</td>\n",
       "      <td>-1.355253e-19</td>\n",
       "    </tr>\n",
       "    <tr>\n",
       "      <th>r_0094</th>\n",
       "      <td>0.000000</td>\n",
       "      <td>-1.084202e-19</td>\n",
       "    </tr>\n",
       "    <tr>\n",
       "      <th>r_0099</th>\n",
       "      <td>0.000000</td>\n",
       "      <td>0.000000e+00</td>\n",
       "    </tr>\n",
       "    <tr>\n",
       "      <th>r_0200</th>\n",
       "      <td>0.000000</td>\n",
       "      <td>-4.365330e-04</td>\n",
       "    </tr>\n",
       "    <tr>\n",
       "      <th>...</th>\n",
       "      <td>...</td>\n",
       "      <td>...</td>\n",
       "    </tr>\n",
       "    <tr>\n",
       "      <th>draw_prot_Q3E790</th>\n",
       "      <td>0.000000</td>\n",
       "      <td>0.000000e+00</td>\n",
       "    </tr>\n",
       "    <tr>\n",
       "      <th>draw_prot_Q99190</th>\n",
       "      <td>0.000000</td>\n",
       "      <td>0.000000e+00</td>\n",
       "    </tr>\n",
       "    <tr>\n",
       "      <th>draw_prot_Q99288</th>\n",
       "      <td>0.000000</td>\n",
       "      <td>0.000000e+00</td>\n",
       "    </tr>\n",
       "    <tr>\n",
       "      <th>draw_prot_Q99321</th>\n",
       "      <td>0.000000</td>\n",
       "      <td>0.000000e+00</td>\n",
       "    </tr>\n",
       "    <tr>\n",
       "      <th>prot_pool_exchange</th>\n",
       "      <td>0.053511</td>\n",
       "      <td>0.000000e+00</td>\n",
       "    </tr>\n",
       "  </tbody>\n",
       "</table>\n",
       "<p>8144 rows × 2 columns</p>\n",
       "</div>"
      ],
      "text/plain": [
       "<Solution -0.054 at 0x7f1273ac3668>"
      ]
     },
     "execution_count": 14,
     "metadata": {},
     "output_type": "execute_result"
    }
   ],
   "source": [
    "model.optimize()"
   ]
  },
  {
   "cell_type": "markdown",
   "metadata": {},
   "source": [
    "From this, we can see that the model has 4180 metabolites, 8144 reactions, and 14 compartments.\n",
    "\n",
    "To get a quick overview of the model and its throughness, we can use Memote (source) to analyze the GEM and score how good it currently looks. Hopefully, our changes will improve the model, or at least not make it any worse. "
   ]
  },
  {
   "cell_type": "code",
   "execution_count": 15,
   "metadata": {},
   "outputs": [],
   "source": [
    "## NOTE: This field is commented out as it takes ~1 hour to compute every time\n",
    "\n",
    "# %%time\n",
    "# !memote report snapshot ecYeastGEM_prot.xml --filename ecYeastGEM_prot.html"
   ]
  },
  {
   "cell_type": "markdown",
   "metadata": {},
   "source": [
    "The file \"ecYeastGEM_prot.html\" is the memote analysis.\n",
    "From this analysis, we can see that the total score is 16%, which is quite low. However, the tests for \"Charge Balance\", \"Metabolite Connectivity\", and a few of the reaction annotations get a score of 100%. This indicates that (Write something clever here.)"
   ]
  },
  {
   "cell_type": "markdown",
   "metadata": {},
   "source": [
    "Based on the KEGG database, one way to produce 7-dehydrocholesterol is throught the [human biosynthesis pathway](https://www.genome.jp/kegg-bin/show_module?hsa_M00101+1718). Our yeast model can natively produce zymosterol, and from this we can produce 7-dehydrocholesterol.\n",
    "\n",
    "To get the pathway from zymosterol to 7-dehydrocholesterol, we will need three reactions: [R07498](https://www.genome.jp/dbget-bin/www_bget?R07498), [R03353](https://www.genome.jp/dbget-bin/www_bget?R03353), and [R07215](https://www.genome.jp/dbget-bin/www_bget?R07215).\n",
    "We will now add these to the model in turn."
   ]
  },
  {
   "cell_type": "code",
   "execution_count": 5,
   "metadata": {},
   "outputs": [],
   "source": [
    "# First reaction\n",
    "\n",
    "new_reaction1 = Reaction('R07498')  # The first of the three reactions from above\n",
    "\n",
    "# R07498 uses:\n",
    "## Zymosterol + NADPH + H+ <=> 5alpha-Cholest-8-en-3beta-ol + NADP+\n",
    "## We can find these as: (Note: All of these are in the cytoplasm)\n",
    "### Zymosterol = s_1569[c]\n",
    "### NADPH      = s_1212[c]\n",
    "### H+         = s_0794[c]\n",
    "### \n",
    "### 5alpha-Cholest-8-en-3beta-ol = Not yet defined\n",
    "### NADP+                        = s_1207[c]\n",
    "\n",
    "# Since 5alpha-Cholest-8-en-3beta-ol does not exist, we will have to define it.\n",
    "alphaCholest = Metabolite(id='5alpha-Cholest-8-en-3beta-ol_c', name='5alpha-Cholest-8-en-3beta-ol', compartment='c')\n",
    "\n",
    "\n",
    "# We can now define the reaction stoichiometry\n",
    "new_reaction1.add_metabolites({\n",
    "                            model.metabolites.get_by_id(\"s_1569[c]\"): -1,\n",
    "                            model.metabolites.get_by_id(\"s_1212[c]\"): -1,\n",
    "                            model.metabolites.get_by_id(\"s_0794[c]\"): -1,\n",
    "                            alphaCholest: 1, # our newly created metabolites\n",
    "                            model.metabolites.get_by_id(\"s_1207[c]\"): 1\n",
    "                             })\n",
    "\n",
    "model.add_reactions([new_reaction1])\n",
    "\n",
    "## Since the reaction can go both ways, we will set the bounds of the reaction to -1000 and 1000\n",
    "#model.reactions.R07498.bounds = -1000, 1000"
   ]
  },
  {
   "cell_type": "code",
   "execution_count": 6,
   "metadata": {},
   "outputs": [
    {
     "name": "stdout",
     "output_type": "stream",
     "text": [
      "3.0861404508308876e-09\n"
     ]
    }
   ],
   "source": [
    "\n",
    "r_5a_exp = model.add_boundary(model.metabolites.get_by_id('5alpha-Cholest-8-en-3beta-ol_c'), type='demand')\n",
    "\n",
    "with model:\n",
    "    model.objective = r_5a_exp\n",
    "    sol = model.optimize()\n",
    "    print(sol.objective_value)"
   ]
  },
  {
   "cell_type": "code",
   "execution_count": 7,
   "metadata": {},
   "outputs": [
    {
     "data": {
      "text/html": [
       "<strong><em>Optimal</em> solution with objective value 0.000</strong><br><div>\n",
       "<style scoped>\n",
       "    .dataframe tbody tr th:only-of-type {\n",
       "        vertical-align: middle;\n",
       "    }\n",
       "\n",
       "    .dataframe tbody tr th {\n",
       "        vertical-align: top;\n",
       "    }\n",
       "\n",
       "    .dataframe thead th {\n",
       "        text-align: right;\n",
       "    }\n",
       "</style>\n",
       "<table border=\"1\" class=\"dataframe\">\n",
       "  <thead>\n",
       "    <tr style=\"text-align: right;\">\n",
       "      <th></th>\n",
       "      <th>fluxes</th>\n",
       "      <th>reduced_costs</th>\n",
       "    </tr>\n",
       "  </thead>\n",
       "  <tbody>\n",
       "    <tr>\n",
       "      <th>r_0006</th>\n",
       "      <td>2.699450e-02</td>\n",
       "      <td>0.0</td>\n",
       "    </tr>\n",
       "    <tr>\n",
       "      <th>r_0070</th>\n",
       "      <td>0.000000e+00</td>\n",
       "      <td>0.0</td>\n",
       "    </tr>\n",
       "    <tr>\n",
       "      <th>r_0094</th>\n",
       "      <td>0.000000e+00</td>\n",
       "      <td>0.0</td>\n",
       "    </tr>\n",
       "    <tr>\n",
       "      <th>r_0099</th>\n",
       "      <td>0.000000e+00</td>\n",
       "      <td>0.0</td>\n",
       "    </tr>\n",
       "    <tr>\n",
       "      <th>r_0200</th>\n",
       "      <td>0.000000e+00</td>\n",
       "      <td>0.0</td>\n",
       "    </tr>\n",
       "    <tr>\n",
       "      <th>...</th>\n",
       "      <td>...</td>\n",
       "      <td>...</td>\n",
       "    </tr>\n",
       "    <tr>\n",
       "      <th>draw_prot_Q99288</th>\n",
       "      <td>0.000000e+00</td>\n",
       "      <td>0.0</td>\n",
       "    </tr>\n",
       "    <tr>\n",
       "      <th>draw_prot_Q99321</th>\n",
       "      <td>0.000000e+00</td>\n",
       "      <td>0.0</td>\n",
       "    </tr>\n",
       "    <tr>\n",
       "      <th>prot_pool_exchange</th>\n",
       "      <td>8.499896e-02</td>\n",
       "      <td>0.0</td>\n",
       "    </tr>\n",
       "    <tr>\n",
       "      <th>R07498</th>\n",
       "      <td>3.086140e-09</td>\n",
       "      <td>0.0</td>\n",
       "    </tr>\n",
       "    <tr>\n",
       "      <th>DM_5alpha-Cholest-8-en-3beta-ol_c</th>\n",
       "      <td>3.086140e-09</td>\n",
       "      <td>0.0</td>\n",
       "    </tr>\n",
       "  </tbody>\n",
       "</table>\n",
       "<p>8146 rows × 2 columns</p>\n",
       "</div>"
      ],
      "text/plain": [
       "<Solution 0.000 at 0x7f06dcddbdd8>"
      ]
     },
     "execution_count": 7,
     "metadata": {},
     "output_type": "execute_result"
    }
   ],
   "source": [
    "sol"
   ]
  },
  {
   "cell_type": "code",
   "execution_count": 21,
   "metadata": {},
   "outputs": [
    {
     "name": "stdout",
     "output_type": "stream",
     "text": [
      "0.003980492411860787\n"
     ]
    }
   ],
   "source": [
    "\n",
    "with model:\n",
    "    model.objective = model.reactions.get_by_id(\"r_0237No1\")\n",
    "    sol = model.optimize()\n",
    "    print(sol.objective_value)"
   ]
  },
  {
   "cell_type": "code",
   "execution_count": 19,
   "metadata": {},
   "outputs": [
    {
     "data": {
      "text/html": [
       "\n",
       "        <table>\n",
       "            <tr>\n",
       "                <td><strong>Reaction identifier</strong></td><td>DM_s_1569[c]</td>\n",
       "            </tr><tr>\n",
       "                <td><strong>Name</strong></td><td>zymosterol [cytoplasm] demand</td>\n",
       "            </tr><tr>\n",
       "                <td><strong>Memory address</strong></td>\n",
       "                <td>0x07f06dcd53668</td>\n",
       "            </tr><tr>\n",
       "                <td><strong>Stoichiometry</strong></td>\n",
       "                <td>\n",
       "                    <p style='text-align:right'>s_1569[c] --> </p>\n",
       "                    <p style='text-align:right'>zymosterol [cytoplasm] --> </p>\n",
       "                </td>\n",
       "            </tr><tr>\n",
       "                <td><strong>GPR</strong></td><td></td>\n",
       "            </tr><tr>\n",
       "                <td><strong>Lower bound</strong></td><td>0</td>\n",
       "            </tr><tr>\n",
       "                <td><strong>Upper bound</strong></td><td>1000.0</td>\n",
       "            </tr>\n",
       "        </table>\n",
       "        "
      ],
      "text/plain": [
       "<Reaction DM_s_1569[c] at 0x7f06dcd53668>"
      ]
     },
     "execution_count": 19,
     "metadata": {},
     "output_type": "execute_result"
    }
   ],
   "source": [
    "model.reactions.get_by_id(\"DM_s_1569[c]\")"
   ]
  },
  {
   "cell_type": "code",
   "execution_count": 8,
   "metadata": {},
   "outputs": [
    {
     "data": {
      "text/plain": [
       "r_0006                               2.699450e-02\n",
       "r_2114                               6.069393e-04\n",
       "r_1099                               3.021348e-02\n",
       "r_1110                               6.861314e+00\n",
       "r_1115                               5.929479e-01\n",
       "                                         ...     \n",
       "draw_prot_Q12362                     2.805519e-07\n",
       "draw_prot_Q12676                     1.450320e-07\n",
       "prot_pool_exchange                   8.499896e-02\n",
       "R07498                               3.086140e-09\n",
       "DM_5alpha-Cholest-8-en-3beta-ol_c    3.086140e-09\n",
       "Name: fluxes, Length: 906, dtype: float64"
      ]
     },
     "execution_count": 8,
     "metadata": {},
     "output_type": "execute_result"
    }
   ],
   "source": [
    "sol.fluxes[sol.fluxes != 0.]"
   ]
  },
  {
   "cell_type": "code",
   "execution_count": 9,
   "metadata": {},
   "outputs": [
    {
     "data": {
      "text/plain": [
       "'arm_r_0438'"
      ]
     },
     "execution_count": 9,
     "metadata": {},
     "output_type": "execute_result"
    }
   ],
   "source": [
    "sol.fluxes.index[sol.fluxes.argmax()]"
   ]
  },
  {
   "cell_type": "code",
   "execution_count": 10,
   "metadata": {},
   "outputs": [
    {
     "data": {
      "text/html": [
       "\n",
       "        <table>\n",
       "            <tr>\n",
       "                <td><strong>Metabolite identifier</strong></td><td>s_1569[c]</td>\n",
       "            </tr><tr>\n",
       "                <td><strong>Name</strong></td><td>zymosterol [cytoplasm]</td>\n",
       "            </tr><tr>\n",
       "                <td><strong>Memory address</strong></td>\n",
       "                <td>0x07f06e07d02b0</td>\n",
       "            </tr><tr>\n",
       "                <td><strong>Formula</strong></td><td>C27H44O</td>\n",
       "            </tr><tr>\n",
       "                <td><strong>Compartment</strong></td><td>c</td>\n",
       "            </tr><tr>\n",
       "                <td><strong>In 8 reaction(s)</strong></td><td>\n",
       "                    R07498, r_1682, r_0237No1, r_2107, r_0986No1, r_3553, r_3553_REV, r_2107_REV</td>\n",
       "            </tr>\n",
       "        </table>"
      ],
      "text/plain": [
       "<Metabolite s_1569[c] at 0x7f06e07d02b0>"
      ]
     },
     "execution_count": 10,
     "metadata": {},
     "output_type": "execute_result"
    }
   ],
   "source": [
    "model.metabolites.get_by_id(\"s_1569[c]\")"
   ]
  },
  {
   "cell_type": "code",
   "execution_count": 16,
   "metadata": {},
   "outputs": [
    {
     "data": {
      "text/html": [
       "\n",
       "        <table>\n",
       "            <tr>\n",
       "                <td><strong>Reaction identifier</strong></td><td>r_3553</td>\n",
       "            </tr><tr>\n",
       "                <td><strong>Name</strong></td><td>zymosterol transport, cytoplasm-ER membrane</td>\n",
       "            </tr><tr>\n",
       "                <td><strong>Memory address</strong></td>\n",
       "                <td>0x07f06dd5b8748</td>\n",
       "            </tr><tr>\n",
       "                <td><strong>Stoichiometry</strong></td>\n",
       "                <td>\n",
       "                    <p style='text-align:right'>s_1569[c] --> s_3444[erm]</p>\n",
       "                    <p style='text-align:right'>zymosterol [cytoplasm] --> zymosterol [endoplasmic reticulum membrane]</p>\n",
       "                </td>\n",
       "            </tr><tr>\n",
       "                <td><strong>GPR</strong></td><td></td>\n",
       "            </tr><tr>\n",
       "                <td><strong>Lower bound</strong></td><td>0.0</td>\n",
       "            </tr><tr>\n",
       "                <td><strong>Upper bound</strong></td><td>inf</td>\n",
       "            </tr>\n",
       "        </table>\n",
       "        "
      ],
      "text/plain": [
       "<Reaction r_3553 at 0x7f06dd5b8748>"
      ]
     },
     "execution_count": 16,
     "metadata": {},
     "output_type": "execute_result"
    }
   ],
   "source": [
    "model.reactions.get_by_id(\"r_3553\")"
   ]
  },
  {
   "cell_type": "code",
   "execution_count": 31,
   "metadata": {},
   "outputs": [],
   "source": [
    "model2 = read_sbml_model('yeastGEM.xml')"
   ]
  },
  {
   "cell_type": "code",
   "execution_count": 25,
   "metadata": {},
   "outputs": [
    {
     "data": {
      "text/html": [
       "\n",
       "        <table>\n",
       "            <tr>\n",
       "                <td><strong>Metabolite identifier</strong></td><td>s_1569[c]</td>\n",
       "            </tr><tr>\n",
       "                <td><strong>Name</strong></td><td>zymosterol [cytoplasm]</td>\n",
       "            </tr><tr>\n",
       "                <td><strong>Memory address</strong></td>\n",
       "                <td>0x07f06d5b77550</td>\n",
       "            </tr><tr>\n",
       "                <td><strong>Formula</strong></td><td>C27H44O</td>\n",
       "            </tr><tr>\n",
       "                <td><strong>Compartment</strong></td><td>c</td>\n",
       "            </tr><tr>\n",
       "                <td><strong>In 5 reaction(s)</strong></td><td>\n",
       "                    r_3553, r_0986, r_0237, r_2107, r_1682</td>\n",
       "            </tr>\n",
       "        </table>"
      ],
      "text/plain": [
       "<Metabolite s_1569[c] at 0x7f06d5b77550>"
      ]
     },
     "execution_count": 25,
     "metadata": {},
     "output_type": "execute_result"
    }
   ],
   "source": [
    "model2.metabolites.get_by_id(\"s_1569[c]\")"
   ]
  },
  {
   "cell_type": "code",
   "execution_count": 32,
   "metadata": {},
   "outputs": [],
   "source": [
    "# First reaction\n",
    "\n",
    "new_reaction1 = Reaction('R07498')  # The first of the three reactions from above\n",
    "\n",
    "# R07498 uses:\n",
    "## Zymosterol + NADPH + H+ <=> 5alpha-Cholest-8-en-3beta-ol + NADP+\n",
    "## We can find these as: (Note: All of these are in the cytoplasm)\n",
    "### Zymosterol = s_1569[c]\n",
    "### NADPH      = s_1212[c]\n",
    "### H+         = s_0794[c]\n",
    "### \n",
    "### 5alpha-Cholest-8-en-3beta-ol = Not yet defined\n",
    "### NADP+                        = s_1207[c]\n",
    "\n",
    "# Since 5alpha-Cholest-8-en-3beta-ol does not exist, we will have to define it.\n",
    "alphaCholest = Metabolite(id='5alpha-Cholest-8-en-3beta-ol_c', name='5alpha-Cholest-8-en-3beta-ol', compartment='c')\n",
    "\n",
    "\n",
    "# We can now define the reaction stoichiometry\n",
    "new_reaction1.add_metabolites({\n",
    "                            model.metabolites.get_by_id(\"s_1569[c]\"): -1,\n",
    "                            model.metabolites.get_by_id(\"s_1212[c]\"): -1,\n",
    "                            model.metabolites.get_by_id(\"s_0794[c]\"): -1,\n",
    "                            alphaCholest: 1, # our newly created metabolites\n",
    "                            model.metabolites.get_by_id(\"s_1207[c]\"): 1\n",
    "                             })\n",
    "\n",
    "model2.add_reactions([new_reaction1])\n",
    "\n",
    "## Since the reaction can go both ways, we will set the bounds of the reaction to -1000 and 1000\n",
    "#model.reactions.R07498.bounds = -1000, 1000"
   ]
  },
  {
   "cell_type": "code",
   "execution_count": 27,
   "metadata": {},
   "outputs": [
    {
     "name": "stdout",
     "output_type": "stream",
     "text": [
      "0.04122405543594532\n"
     ]
    }
   ],
   "source": [
    "\n",
    "r_5a_exp = model2.add_boundary(model.metabolites.get_by_id('5alpha-Cholest-8-en-3beta-ol_c'), type='demand')\n",
    "\n",
    "with model2:\n",
    "    model2.objective = r_5a_exp\n",
    "    sol = model2.optimize()\n",
    "    print(sol.objective_value)"
   ]
  },
  {
   "cell_type": "code",
   "execution_count": null,
   "metadata": {},
   "outputs": [],
   "source": []
  },
  {
   "cell_type": "code",
   "execution_count": null,
   "metadata": {},
   "outputs": [],
   "source": []
  },
  {
   "cell_type": "code",
   "execution_count": null,
   "metadata": {},
   "outputs": [],
   "source": []
  },
  {
   "cell_type": "code",
   "execution_count": null,
   "metadata": {},
   "outputs": [],
   "source": []
  },
  {
   "cell_type": "code",
   "execution_count": null,
   "metadata": {},
   "outputs": [],
   "source": []
  },
  {
   "cell_type": "code",
   "execution_count": null,
   "metadata": {},
   "outputs": [],
   "source": []
  },
  {
   "cell_type": "code",
   "execution_count": 33,
   "metadata": {},
   "outputs": [],
   "source": [
    "# Second reaction\n",
    "\n",
    "new_reaction2 = Reaction('R03353')  # The second of the three reactions from above\n",
    "\n",
    "# R03353 uses:\n",
    "## Lathosterol <=> 5alpha-Cholest-8-en-3beta-ol\n",
    "## We can find these as: (Note: All of these are in the cytoplasm)\n",
    "### 5alpha-Cholest-8-en-3beta-ol = alphaCholest\n",
    "###\n",
    "### Lathosterol                  = Not yet defined\n",
    "\n",
    "# Since Lathosterol does not exist, we will have to define it.\n",
    "Lathosterol = Metabolite(id='Lathosterol_c', name='Lathosterol', compartment='c')\n",
    "\n",
    "\n",
    "# We can now define the reaction stoichiometry\n",
    "new_reaction2.add_metabolites({\n",
    "                            alphaCholest: -1, # The metabolite from above\n",
    "                            Lathosterol: 1    # our newly created metabolites\n",
    "                             })\n",
    "\n",
    "model2.add_reactions([new_reaction2])\n",
    "\n",
    "## Since the reaction can go both ways, we will set the bounds of the reaction to -1000 and 1000\n",
    "#model.reactions.R03353.bounds = -1000, 1000"
   ]
  },
  {
   "cell_type": "code",
   "execution_count": 34,
   "metadata": {},
   "outputs": [
    {
     "ename": "KeyError",
     "evalue": "'Lathosterol_c'",
     "output_type": "error",
     "traceback": [
      "\u001b[0;31m---------------------------------------------------------------------------\u001b[0m",
      "\u001b[0;31mKeyError\u001b[0m                                  Traceback (most recent call last)",
      "\u001b[0;32m<ipython-input-34-426159081e84>\u001b[0m in \u001b[0;36m<module>\u001b[0;34m\u001b[0m\n\u001b[0;32m----> 1\u001b[0;31m \u001b[0mr_la_exp\u001b[0m \u001b[0;34m=\u001b[0m \u001b[0mmodel2\u001b[0m\u001b[0;34m.\u001b[0m\u001b[0madd_boundary\u001b[0m\u001b[0;34m(\u001b[0m\u001b[0mmodel\u001b[0m\u001b[0;34m.\u001b[0m\u001b[0mmetabolites\u001b[0m\u001b[0;34m.\u001b[0m\u001b[0mget_by_id\u001b[0m\u001b[0;34m(\u001b[0m\u001b[0;34m'Lathosterol_c'\u001b[0m\u001b[0;34m)\u001b[0m\u001b[0;34m,\u001b[0m \u001b[0mtype\u001b[0m\u001b[0;34m=\u001b[0m\u001b[0;34m'demand'\u001b[0m\u001b[0;34m)\u001b[0m\u001b[0;34m\u001b[0m\u001b[0;34m\u001b[0m\u001b[0m\n\u001b[0m\u001b[1;32m      2\u001b[0m \u001b[0;34m\u001b[0m\u001b[0m\n\u001b[1;32m      3\u001b[0m \u001b[0;32mwith\u001b[0m \u001b[0mmodel2\u001b[0m\u001b[0;34m:\u001b[0m\u001b[0;34m\u001b[0m\u001b[0;34m\u001b[0m\u001b[0m\n\u001b[1;32m      4\u001b[0m     \u001b[0mmodel2\u001b[0m\u001b[0;34m.\u001b[0m\u001b[0mobjective\u001b[0m \u001b[0;34m=\u001b[0m \u001b[0mr_la_exp\u001b[0m\u001b[0;34m\u001b[0m\u001b[0;34m\u001b[0m\u001b[0m\n\u001b[1;32m      5\u001b[0m     \u001b[0msol\u001b[0m \u001b[0;34m=\u001b[0m \u001b[0mmodel2\u001b[0m\u001b[0;34m.\u001b[0m\u001b[0moptimize\u001b[0m\u001b[0;34m(\u001b[0m\u001b[0;34m)\u001b[0m\u001b[0;34m\u001b[0m\u001b[0;34m\u001b[0m\u001b[0m\n",
      "\u001b[0;32m/usr/local/lib/python3.6/dist-packages/cobra/core/dictlist.py\u001b[0m in \u001b[0;36mget_by_id\u001b[0;34m(self, id)\u001b[0m\n\u001b[1;32m     56\u001b[0m     \u001b[0;32mdef\u001b[0m \u001b[0mget_by_id\u001b[0m\u001b[0;34m(\u001b[0m\u001b[0mself\u001b[0m\u001b[0;34m,\u001b[0m \u001b[0mid\u001b[0m\u001b[0;34m)\u001b[0m\u001b[0;34m:\u001b[0m\u001b[0;34m\u001b[0m\u001b[0;34m\u001b[0m\u001b[0m\n\u001b[1;32m     57\u001b[0m         \u001b[0;34m\"\"\"return the element with a matching id\"\"\"\u001b[0m\u001b[0;34m\u001b[0m\u001b[0;34m\u001b[0m\u001b[0m\n\u001b[0;32m---> 58\u001b[0;31m         \u001b[0;32mreturn\u001b[0m \u001b[0mlist\u001b[0m\u001b[0;34m.\u001b[0m\u001b[0m__getitem__\u001b[0m\u001b[0;34m(\u001b[0m\u001b[0mself\u001b[0m\u001b[0;34m,\u001b[0m \u001b[0mself\u001b[0m\u001b[0;34m.\u001b[0m\u001b[0m_dict\u001b[0m\u001b[0;34m[\u001b[0m\u001b[0mid\u001b[0m\u001b[0;34m]\u001b[0m\u001b[0;34m)\u001b[0m\u001b[0;34m\u001b[0m\u001b[0;34m\u001b[0m\u001b[0m\n\u001b[0m\u001b[1;32m     59\u001b[0m \u001b[0;34m\u001b[0m\u001b[0m\n\u001b[1;32m     60\u001b[0m     \u001b[0;32mdef\u001b[0m \u001b[0mlist_attr\u001b[0m\u001b[0;34m(\u001b[0m\u001b[0mself\u001b[0m\u001b[0;34m,\u001b[0m \u001b[0mattribute\u001b[0m\u001b[0;34m)\u001b[0m\u001b[0;34m:\u001b[0m\u001b[0;34m\u001b[0m\u001b[0;34m\u001b[0m\u001b[0m\n",
      "\u001b[0;31mKeyError\u001b[0m: 'Lathosterol_c'"
     ]
    }
   ],
   "source": [
    "\n",
    "r_la_exp = model2.add_boundary(model.metabolites.get_by_id('Lathosterol_c'), type='demand')\n",
    "\n",
    "with model2:\n",
    "    model2.objective = r_la_exp\n",
    "    sol = model2.optimize()\n",
    "    print(sol.objective_value)"
   ]
  },
  {
   "cell_type": "code",
   "execution_count": null,
   "metadata": {},
   "outputs": [],
   "source": []
  },
  {
   "cell_type": "code",
   "execution_count": null,
   "metadata": {},
   "outputs": [],
   "source": []
  },
  {
   "cell_type": "code",
   "execution_count": 29,
   "metadata": {},
   "outputs": [],
   "source": [
    "# Third reaction\n",
    "\n",
    "new_reaction3 = Reaction('R07215')  # The third of the three reactions from above\n",
    "\n",
    "## R07215 uses:\n",
    "## Lathosterol + 2 Ferrocytochromeb5 + Oxygen + 2 H+ <=> 7-Dehydrocholesterol + 2 Ferricytochrome b5 + 2 H2O\n",
    "## We can find these as: (Note: All of these are in the cytoplasm, except for the cytochromes, which are in the ER)\n",
    "### Lathosterol          = Lathosterol\n",
    "### Ferrocytochrome b5   = s_3825[er]\n",
    "### Oxygen               = s_1275[c]\n",
    "### H+                   = s_0794[c]\n",
    "###\n",
    "### 7-Dehydrocholesterol = Not yet defined\n",
    "### Ferricytochrome b5   = s_3824[er]\n",
    "### H2O                  = s_0803[c]\n",
    "\n",
    "\n",
    "\n",
    "# Since 7-Dehydrocholesterol does not exist, we will have to define it.\n",
    "Dehydrocholesterol = Metabolite(id='7-Dehydrocholesterol_c', name='7-Dehydrocholesterol', compartment='c')\n",
    "\n",
    "\n",
    "new_reaction3.add_metabolites({\n",
    "                            Lathosterol: -1, # The metabolite we created above\n",
    "                            model.metabolites.get_by_id(\"s_3825[er]\"): -2,\n",
    "                            model.metabolites.get_by_id(\"s_1275[c]\"): -1,\n",
    "                            model.metabolites.get_by_id(\"s_0794[c]\"): -2,\n",
    "                            Dehydrocholesterol: 1, # our newly created metabolites\n",
    "                            model.metabolites.get_by_id(\"s_3824[er]\"): 2,\n",
    "                            model.metabolites.get_by_id(\"s_0803[c]\"): 2\n",
    "                             })\n",
    "\n",
    "model2.add_reactions([new_reaction3])\n",
    "\n",
    "## Since the reaction can go both ways, we will set the bounds of the reaction to -1000 and 1000\n",
    "#model.reactions.R07215.bounds = -1000, 1000"
   ]
  },
  {
   "cell_type": "code",
   "execution_count": 32,
   "metadata": {},
   "outputs": [
    {
     "data": {
      "text/html": [
       "\n",
       "        <table>\n",
       "            <tr>\n",
       "                <td><strong>Metabolite identifier</strong></td><td>7-Dehydrocholesterol_c</td>\n",
       "            </tr><tr>\n",
       "                <td><strong>Name</strong></td><td>7-Dehydrocholesterol</td>\n",
       "            </tr><tr>\n",
       "                <td><strong>Memory address</strong></td>\n",
       "                <td>0x07f124e7fc7b8</td>\n",
       "            </tr><tr>\n",
       "                <td><strong>Formula</strong></td><td>None</td>\n",
       "            </tr><tr>\n",
       "                <td><strong>Compartment</strong></td><td>c</td>\n",
       "            </tr><tr>\n",
       "                <td><strong>In 2 reaction(s)</strong></td><td>\n",
       "                    DM_7-Dehydrocholesterol_c, R07215</td>\n",
       "            </tr>\n",
       "        </table>"
      ],
      "text/plain": [
       "<Metabolite 7-Dehydrocholesterol_c at 0x7f124e7fc7b8>"
      ]
     },
     "execution_count": 32,
     "metadata": {},
     "output_type": "execute_result"
    }
   ],
   "source": [
    "model.metabolites.get_by_id(\"7-Dehydrocholesterol_c\")"
   ]
  },
  {
   "cell_type": "code",
   "execution_count": 34,
   "metadata": {},
   "outputs": [
    {
     "data": {
      "text/html": [
       "\n",
       "        <table>\n",
       "            <tr>\n",
       "                <td><strong>Reaction identifier</strong></td><td>DM_7-Dehydrocholesterol_c</td>\n",
       "            </tr><tr>\n",
       "                <td><strong>Name</strong></td><td>7-Dehydrocholesterol demand</td>\n",
       "            </tr><tr>\n",
       "                <td><strong>Memory address</strong></td>\n",
       "                <td>0x07f1344189780</td>\n",
       "            </tr><tr>\n",
       "                <td><strong>Stoichiometry</strong></td>\n",
       "                <td>\n",
       "                    <p style='text-align:right'>7-Dehydrocholesterol_c --> </p>\n",
       "                    <p style='text-align:right'>7-Dehydrocholesterol --> </p>\n",
       "                </td>\n",
       "            </tr><tr>\n",
       "                <td><strong>GPR</strong></td><td></td>\n",
       "            </tr><tr>\n",
       "                <td><strong>Lower bound</strong></td><td>0</td>\n",
       "            </tr><tr>\n",
       "                <td><strong>Upper bound</strong></td><td>1000.0</td>\n",
       "            </tr>\n",
       "        </table>\n",
       "        "
      ],
      "text/plain": [
       "<Reaction DM_7-Dehydrocholesterol_c at 0x7f1344189780>"
      ]
     },
     "execution_count": 34,
     "metadata": {},
     "output_type": "execute_result"
    }
   ],
   "source": [
    "model.reactions.get_by_id(\"DM_7-Dehydrocholesterol_c\")"
   ]
  },
  {
   "cell_type": "code",
   "execution_count": 4,
   "metadata": {},
   "outputs": [
    {
     "data": {
      "text/html": [
       "\n",
       "        <table>\n",
       "            <tr>\n",
       "                <td><strong>Reaction identifier</strong></td><td>R07498</td>\n",
       "            </tr><tr>\n",
       "                <td><strong>Name</strong></td><td></td>\n",
       "            </tr><tr>\n",
       "                <td><strong>Memory address</strong></td>\n",
       "                <td>0x07f2104fa4c50</td>\n",
       "            </tr><tr>\n",
       "                <td><strong>Stoichiometry</strong></td>\n",
       "                <td>\n",
       "                    <p style='text-align:right'>s_0794[c] + s_1212[c] + s_1569[c] --> 5alpha-Cholest-8-en-3beta-ol_c + s_1207[c]</p>\n",
       "                    <p style='text-align:right'>H+ [cytoplasm] + NADPH [cytoplasm] + zymosterol [cytoplasm] --> 5alpha-Cholest-8-en-3beta-ol + NADP(+) [cytoplasm]</p>\n",
       "                </td>\n",
       "            </tr><tr>\n",
       "                <td><strong>GPR</strong></td><td></td>\n",
       "            </tr><tr>\n",
       "                <td><strong>Lower bound</strong></td><td>0.0</td>\n",
       "            </tr><tr>\n",
       "                <td><strong>Upper bound</strong></td><td>1000.0</td>\n",
       "            </tr>\n",
       "        </table>\n",
       "        "
      ],
      "text/plain": [
       "<Reaction R07498 at 0x7f2104fa4c50>"
      ]
     },
     "execution_count": 4,
     "metadata": {},
     "output_type": "execute_result"
    }
   ],
   "source": [
    "model.reactions.R07498"
   ]
  },
  {
   "cell_type": "code",
   "execution_count": 9,
   "metadata": {},
   "outputs": [
    {
     "data": {
      "text/html": [
       "\n",
       "        <table>\n",
       "            <tr>\n",
       "                <td><strong>Metabolite identifier</strong></td><td>7-Dehydrocholesterol_c</td>\n",
       "            </tr><tr>\n",
       "                <td><strong>Name</strong></td><td>7-Dehydrocholesterol</td>\n",
       "            </tr><tr>\n",
       "                <td><strong>Memory address</strong></td>\n",
       "                <td>0x07f2104fb1588</td>\n",
       "            </tr><tr>\n",
       "                <td><strong>Formula</strong></td><td>None</td>\n",
       "            </tr><tr>\n",
       "                <td><strong>Compartment</strong></td><td>c</td>\n",
       "            </tr><tr>\n",
       "                <td><strong>In 2 reaction(s)</strong></td><td>\n",
       "                    DM_7-Dehydrocholesterol_c, R07215</td>\n",
       "            </tr>\n",
       "        </table>"
      ],
      "text/plain": [
       "<Metabolite 7-Dehydrocholesterol_c at 0x7f2104fb1588>"
      ]
     },
     "execution_count": 9,
     "metadata": {},
     "output_type": "execute_result"
    }
   ],
   "source": [
    "model.metabolites.get_by_id(\"7-Dehydrocholesterol_c\")"
   ]
  },
  {
   "cell_type": "code",
   "execution_count": 10,
   "metadata": {},
   "outputs": [
    {
     "data": {
      "text/html": [
       "\n",
       "        <table>\n",
       "            <tr>\n",
       "                <td><strong>Reaction identifier</strong></td><td>R07215</td>\n",
       "            </tr><tr>\n",
       "                <td><strong>Name</strong></td><td></td>\n",
       "            </tr><tr>\n",
       "                <td><strong>Memory address</strong></td>\n",
       "                <td>0x07f2104fb1518</td>\n",
       "            </tr><tr>\n",
       "                <td><strong>Stoichiometry</strong></td>\n",
       "                <td>\n",
       "                    <p style='text-align:right'>Lathosterol_c + 2 s_0794[c] + s_1275[c] + 2 s_3825[er] --> 7-Dehydrocholesterol_c + 2 s_0803[c] + 2 s_3824[er]</p>\n",
       "                    <p style='text-align:right'>Lathosterol + 2 H+ [cytoplasm] + oxygen [cytoplasm] + 2 Ferrocytochrome b5 [endoplasmic reticulum] --> 7-Dehydrocholesterol + 2 H2O [cytoplasm] + 2 Ferricytochrome b5 [endoplasmic reticulum]</p>\n",
       "                </td>\n",
       "            </tr><tr>\n",
       "                <td><strong>GPR</strong></td><td></td>\n",
       "            </tr><tr>\n",
       "                <td><strong>Lower bound</strong></td><td>0.0</td>\n",
       "            </tr><tr>\n",
       "                <td><strong>Upper bound</strong></td><td>1000.0</td>\n",
       "            </tr>\n",
       "        </table>\n",
       "        "
      ],
      "text/plain": [
       "<Reaction R07215 at 0x7f2104fb1518>"
      ]
     },
     "execution_count": 10,
     "metadata": {},
     "output_type": "execute_result"
    }
   ],
   "source": [
    "model.reactions.R07215"
   ]
  },
  {
   "cell_type": "code",
   "execution_count": null,
   "metadata": {},
   "outputs": [],
   "source": [
    "model.metabolites."
   ]
  },
  {
   "cell_type": "code",
   "execution_count": null,
   "metadata": {},
   "outputs": [],
   "source": []
  },
  {
   "cell_type": "code",
   "execution_count": null,
   "metadata": {},
   "outputs": [],
   "source": []
  },
  {
   "cell_type": "code",
   "execution_count": null,
   "metadata": {},
   "outputs": [],
   "source": []
  },
  {
   "cell_type": "code",
   "execution_count": 30,
   "metadata": {},
   "outputs": [
    {
     "name": "stdout",
     "output_type": "stream",
     "text": [
      "0.0\n"
     ]
    }
   ],
   "source": [
    "\n",
    "r_7DH_export = model2.add_boundary(model2.metabolites.get_by_id('7-Dehydrocholesterol_c'), type='demand')\n",
    "\n",
    "with model2:\n",
    "    r_5a_exp.bounds = 0,0\n",
    "    model2.objective = r_7DH_export\n",
    "    sol = model2.optimize()\n",
    "    print(sol.objective_value)"
   ]
  },
  {
   "cell_type": "code",
   "execution_count": null,
   "metadata": {},
   "outputs": [],
   "source": []
  },
  {
   "cell_type": "code",
   "execution_count": null,
   "metadata": {},
   "outputs": [],
   "source": []
  },
  {
   "cell_type": "code",
   "execution_count": 8,
   "metadata": {},
   "outputs": [
    {
     "name": "stdout",
     "output_type": "stream",
     "text": [
      "0.0\n"
     ]
    }
   ],
   "source": [
    "\n",
    "r_7DH_export = model.add_boundary(model.metabolites.get_by_id('7-Dehydrocholesterol_c'), type='demand')\n",
    "\n",
    "with model:\n",
    "    model.objective = r_7DH_export\n",
    "    sol = model.optimize()\n",
    "    print(sol.objective_value)"
   ]
  },
  {
   "cell_type": "code",
   "execution_count": 5,
   "metadata": {},
   "outputs": [
    {
     "name": "stdout",
     "output_type": "stream",
     "text": [
      "0.0\n"
     ]
    }
   ],
   "source": [
    "with model:\n",
    "    \n",
    "    model.objective = model.reactions.R07498\n",
    "    sol = model.optimize()\n",
    "    print(sol.objective_value)"
   ]
  },
  {
   "cell_type": "code",
   "execution_count": 51,
   "metadata": {},
   "outputs": [
    {
     "data": {
      "text/html": [
       "<strong><em>Optimal</em> solution with objective value 0.000</strong><br><div>\n",
       "<style scoped>\n",
       "    .dataframe tbody tr th:only-of-type {\n",
       "        vertical-align: middle;\n",
       "    }\n",
       "\n",
       "    .dataframe tbody tr th {\n",
       "        vertical-align: top;\n",
       "    }\n",
       "\n",
       "    .dataframe thead th {\n",
       "        text-align: right;\n",
       "    }\n",
       "</style>\n",
       "<table border=\"1\" class=\"dataframe\">\n",
       "  <thead>\n",
       "    <tr style=\"text-align: right;\">\n",
       "      <th></th>\n",
       "      <th>fluxes</th>\n",
       "      <th>reduced_costs</th>\n",
       "    </tr>\n",
       "  </thead>\n",
       "  <tbody>\n",
       "    <tr>\n",
       "      <th>r_0006</th>\n",
       "      <td>0.026995</td>\n",
       "      <td>0.0</td>\n",
       "    </tr>\n",
       "    <tr>\n",
       "      <th>r_0070</th>\n",
       "      <td>0.000000</td>\n",
       "      <td>0.0</td>\n",
       "    </tr>\n",
       "    <tr>\n",
       "      <th>r_0094</th>\n",
       "      <td>0.000000</td>\n",
       "      <td>0.0</td>\n",
       "    </tr>\n",
       "    <tr>\n",
       "      <th>r_0099</th>\n",
       "      <td>0.000000</td>\n",
       "      <td>0.0</td>\n",
       "    </tr>\n",
       "    <tr>\n",
       "      <th>r_0200</th>\n",
       "      <td>0.000000</td>\n",
       "      <td>0.0</td>\n",
       "    </tr>\n",
       "    <tr>\n",
       "      <th>...</th>\n",
       "      <td>...</td>\n",
       "      <td>...</td>\n",
       "    </tr>\n",
       "    <tr>\n",
       "      <th>prot_pool_exchange</th>\n",
       "      <td>0.093607</td>\n",
       "      <td>0.0</td>\n",
       "    </tr>\n",
       "    <tr>\n",
       "      <th>R0749</th>\n",
       "      <td>0.000000</td>\n",
       "      <td>0.0</td>\n",
       "    </tr>\n",
       "    <tr>\n",
       "      <th>R03353</th>\n",
       "      <td>0.000000</td>\n",
       "      <td>0.0</td>\n",
       "    </tr>\n",
       "    <tr>\n",
       "      <th>R07215</th>\n",
       "      <td>0.000000</td>\n",
       "      <td>0.0</td>\n",
       "    </tr>\n",
       "    <tr>\n",
       "      <th>DM_7-Dehydrocholesterol_c</th>\n",
       "      <td>-0.000000</td>\n",
       "      <td>0.0</td>\n",
       "    </tr>\n",
       "  </tbody>\n",
       "</table>\n",
       "<p>8148 rows × 2 columns</p>\n",
       "</div>"
      ],
      "text/plain": [
       "<Solution 0.000 at 0x7f124e179668>"
      ]
     },
     "execution_count": 51,
     "metadata": {},
     "output_type": "execute_result"
    }
   ],
   "source": [
    "sol"
   ]
  },
  {
   "cell_type": "code",
   "execution_count": 57,
   "metadata": {},
   "outputs": [
    {
     "data": {
      "text/plain": [
       "'arm_r_0438'"
      ]
     },
     "execution_count": 57,
     "metadata": {},
     "output_type": "execute_result"
    }
   ],
   "source": [
    "sol.fluxes.index[sol.fluxes.argmax()]"
   ]
  },
  {
   "cell_type": "code",
   "execution_count": 58,
   "metadata": {},
   "outputs": [
    {
     "data": {
      "text/html": [
       "\n",
       "        <table>\n",
       "            <tr>\n",
       "                <td><strong>Reaction identifier</strong></td><td>arm_r_0438</td>\n",
       "            </tr><tr>\n",
       "                <td><strong>Name</strong></td><td>ferrocytochrome-c:oxygen oxidoreductase (arm)</td>\n",
       "            </tr><tr>\n",
       "                <td><strong>Memory address</strong></td>\n",
       "                <td>0x07f1273801f28</td>\n",
       "            </tr><tr>\n",
       "                <td><strong>Stoichiometry</strong></td>\n",
       "                <td>\n",
       "                    <p style='text-align:right'>s_0710[m] + 1.266 s_0799[m] + 0.25 s_1278[m] --> pmet_r_0438[m]</p>\n",
       "                    <p style='text-align:right'>ferrocytochrome c [mitochondrion] + 1.266 H+ [mitochondrion] + 0.25 oxygen [mitochondrion] --> pmet_r_0438 [mitochondrion]</p>\n",
       "                </td>\n",
       "            </tr><tr>\n",
       "                <td><strong>GPR</strong></td><td>( Q0045 and Q0250 and Q0275 and YDL067C and YEL039C and YGL187C and YGL191W and YHR051W and YIL11...</td>\n",
       "            </tr><tr>\n",
       "                <td><strong>Lower bound</strong></td><td>0.0</td>\n",
       "            </tr><tr>\n",
       "                <td><strong>Upper bound</strong></td><td>inf</td>\n",
       "            </tr>\n",
       "        </table>\n",
       "        "
      ],
      "text/plain": [
       "<Reaction arm_r_0438 at 0x7f1273801f28>"
      ]
     },
     "execution_count": 58,
     "metadata": {},
     "output_type": "execute_result"
    }
   ],
   "source": [
    "model.reactions.arm_r_0438"
   ]
  },
  {
   "cell_type": "code",
   "execution_count": 53,
   "metadata": {},
   "outputs": [
    {
     "data": {
      "text/html": [
       "\n",
       "        <table>\n",
       "            <tr>\n",
       "                <td><strong>Reaction identifier</strong></td><td>r_0237No1</td>\n",
       "            </tr><tr>\n",
       "                <td><strong>Name</strong></td><td>C-3 sterol keto reductase (zymosterol) (No1)</td>\n",
       "            </tr><tr>\n",
       "                <td><strong>Memory address</strong></td>\n",
       "                <td>0x07f1273869d30</td>\n",
       "            </tr><tr>\n",
       "                <td><strong>Stoichiometry</strong></td>\n",
       "                <td>\n",
       "                    <p style='text-align:right'>0.00038052 prot_Q12452[c] + s_0794[c] + s_1212[c] + s_1579[c] --> s_1207[c] + s_1569[c]</p>\n",
       "                    <p style='text-align:right'>0.00038052 prot_Q12452 [cytoplasm] + H+ [cytoplasm] + NADPH [cytoplasm] + zymosterol intermediate 2 [cytoplasm] --> NADP(+) [cytoplasm] + zymosterol [cytoplasm]</p>\n",
       "                </td>\n",
       "            </tr><tr>\n",
       "                <td><strong>GPR</strong></td><td>YLR100W</td>\n",
       "            </tr><tr>\n",
       "                <td><strong>Lower bound</strong></td><td>0.0</td>\n",
       "            </tr><tr>\n",
       "                <td><strong>Upper bound</strong></td><td>inf</td>\n",
       "            </tr>\n",
       "        </table>\n",
       "        "
      ],
      "text/plain": [
       "<Reaction r_0237No1 at 0x7f1273869d30>"
      ]
     },
     "execution_count": 53,
     "metadata": {},
     "output_type": "execute_result"
    }
   ],
   "source": [
    "model.reactions.r_0237No1"
   ]
  },
  {
   "cell_type": "code",
   "execution_count": 43,
   "metadata": {},
   "outputs": [
    {
     "name": "stdout",
     "output_type": "stream",
     "text": [
      "0.003980492411860787\n"
     ]
    }
   ],
   "source": [
    "with model:\n",
    "    model.objective = model.reactions.r_0237No1\n",
    "    sol = model.optimize()\n",
    "    print(sol.objective_value)"
   ]
  },
  {
   "cell_type": "code",
   "execution_count": 44,
   "metadata": {},
   "outputs": [
    {
     "data": {
      "text/html": [
       "<strong><em>Optimal</em> solution with objective value 0.004</strong><br><div>\n",
       "<style scoped>\n",
       "    .dataframe tbody tr th:only-of-type {\n",
       "        vertical-align: middle;\n",
       "    }\n",
       "\n",
       "    .dataframe tbody tr th {\n",
       "        vertical-align: top;\n",
       "    }\n",
       "\n",
       "    .dataframe thead th {\n",
       "        text-align: right;\n",
       "    }\n",
       "</style>\n",
       "<table border=\"1\" class=\"dataframe\">\n",
       "  <thead>\n",
       "    <tr style=\"text-align: right;\">\n",
       "      <th></th>\n",
       "      <th>fluxes</th>\n",
       "      <th>reduced_costs</th>\n",
       "    </tr>\n",
       "  </thead>\n",
       "  <tbody>\n",
       "    <tr>\n",
       "      <th>r_0006</th>\n",
       "      <td>0.026995</td>\n",
       "      <td>0.0</td>\n",
       "    </tr>\n",
       "    <tr>\n",
       "      <th>r_0070</th>\n",
       "      <td>0.000000</td>\n",
       "      <td>0.0</td>\n",
       "    </tr>\n",
       "    <tr>\n",
       "      <th>r_0094</th>\n",
       "      <td>0.000000</td>\n",
       "      <td>0.0</td>\n",
       "    </tr>\n",
       "    <tr>\n",
       "      <th>r_0099</th>\n",
       "      <td>0.000000</td>\n",
       "      <td>0.0</td>\n",
       "    </tr>\n",
       "    <tr>\n",
       "      <th>r_0200</th>\n",
       "      <td>0.000000</td>\n",
       "      <td>0.0</td>\n",
       "    </tr>\n",
       "    <tr>\n",
       "      <th>...</th>\n",
       "      <td>...</td>\n",
       "      <td>...</td>\n",
       "    </tr>\n",
       "    <tr>\n",
       "      <th>prot_pool_exchange</th>\n",
       "      <td>0.093607</td>\n",
       "      <td>0.0</td>\n",
       "    </tr>\n",
       "    <tr>\n",
       "      <th>R0749</th>\n",
       "      <td>0.000000</td>\n",
       "      <td>-0.0</td>\n",
       "    </tr>\n",
       "    <tr>\n",
       "      <th>R03353</th>\n",
       "      <td>0.000000</td>\n",
       "      <td>-0.0</td>\n",
       "    </tr>\n",
       "    <tr>\n",
       "      <th>R07215</th>\n",
       "      <td>0.000000</td>\n",
       "      <td>-0.0</td>\n",
       "    </tr>\n",
       "    <tr>\n",
       "      <th>DM_7-Dehydrocholesterol_c</th>\n",
       "      <td>-0.000000</td>\n",
       "      <td>0.0</td>\n",
       "    </tr>\n",
       "  </tbody>\n",
       "</table>\n",
       "<p>8148 rows × 2 columns</p>\n",
       "</div>"
      ],
      "text/plain": [
       "<Solution 0.004 at 0x7f124e179080>"
      ]
     },
     "execution_count": 44,
     "metadata": {},
     "output_type": "execute_result"
    }
   ],
   "source": [
    "sol"
   ]
  },
  {
   "cell_type": "code",
   "execution_count": 27,
   "metadata": {},
   "outputs": [
    {
     "name": "stdout",
     "output_type": "stream",
     "text": [
      "0.09998999999999818\n"
     ]
    }
   ],
   "source": [
    "with model:\n",
    "    model.objective = model.reactions.r_2111\n",
    "    sol = model.optimize()\n",
    "    print(sol.objective_value)"
   ]
  },
  {
   "cell_type": "code",
   "execution_count": 63,
   "metadata": {},
   "outputs": [
    {
     "data": {
      "text/html": [
       "<strong><em>Optimal</em> solution with objective value -0.054</strong><br><div>\n",
       "<style scoped>\n",
       "    .dataframe tbody tr th:only-of-type {\n",
       "        vertical-align: middle;\n",
       "    }\n",
       "\n",
       "    .dataframe tbody tr th {\n",
       "        vertical-align: top;\n",
       "    }\n",
       "\n",
       "    .dataframe thead th {\n",
       "        text-align: right;\n",
       "    }\n",
       "</style>\n",
       "<table border=\"1\" class=\"dataframe\">\n",
       "  <thead>\n",
       "    <tr style=\"text-align: right;\">\n",
       "      <th></th>\n",
       "      <th>fluxes</th>\n",
       "      <th>reduced_costs</th>\n",
       "    </tr>\n",
       "  </thead>\n",
       "  <tbody>\n",
       "    <tr>\n",
       "      <th>r_0006</th>\n",
       "      <td>0.026995</td>\n",
       "      <td>0.000000e+00</td>\n",
       "    </tr>\n",
       "    <tr>\n",
       "      <th>r_0070</th>\n",
       "      <td>0.000000</td>\n",
       "      <td>-3.388132e-20</td>\n",
       "    </tr>\n",
       "    <tr>\n",
       "      <th>r_0094</th>\n",
       "      <td>0.000000</td>\n",
       "      <td>-2.523658e-03</td>\n",
       "    </tr>\n",
       "    <tr>\n",
       "      <th>r_0099</th>\n",
       "      <td>0.000000</td>\n",
       "      <td>0.000000e+00</td>\n",
       "    </tr>\n",
       "    <tr>\n",
       "      <th>r_0200</th>\n",
       "      <td>0.000000</td>\n",
       "      <td>-4.365330e-04</td>\n",
       "    </tr>\n",
       "    <tr>\n",
       "      <th>...</th>\n",
       "      <td>...</td>\n",
       "      <td>...</td>\n",
       "    </tr>\n",
       "    <tr>\n",
       "      <th>draw_prot_Q99321</th>\n",
       "      <td>0.000000</td>\n",
       "      <td>0.000000e+00</td>\n",
       "    </tr>\n",
       "    <tr>\n",
       "      <th>prot_pool_exchange</th>\n",
       "      <td>0.053511</td>\n",
       "      <td>0.000000e+00</td>\n",
       "    </tr>\n",
       "    <tr>\n",
       "      <th>R0749</th>\n",
       "      <td>0.000000</td>\n",
       "      <td>0.000000e+00</td>\n",
       "    </tr>\n",
       "    <tr>\n",
       "      <th>R03353</th>\n",
       "      <td>0.000000</td>\n",
       "      <td>0.000000e+00</td>\n",
       "    </tr>\n",
       "    <tr>\n",
       "      <th>R07215</th>\n",
       "      <td>0.000000</td>\n",
       "      <td>0.000000e+00</td>\n",
       "    </tr>\n",
       "  </tbody>\n",
       "</table>\n",
       "<p>8147 rows × 2 columns</p>\n",
       "</div>"
      ],
      "text/plain": [
       "<Solution -0.054 at 0x7f934e61c550>"
      ]
     },
     "execution_count": 63,
     "metadata": {},
     "output_type": "execute_result"
    }
   ],
   "source": [
    "model.optimize()"
   ]
  },
  {
   "cell_type": "code",
   "execution_count": null,
   "metadata": {},
   "outputs": [],
   "source": []
  },
  {
   "cell_type": "code",
   "execution_count": null,
   "metadata": {},
   "outputs": [],
   "source": []
  },
  {
   "cell_type": "code",
   "execution_count": null,
   "metadata": {},
   "outputs": [],
   "source": []
  },
  {
   "cell_type": "code",
   "execution_count": null,
   "metadata": {},
   "outputs": [],
   "source": []
  },
  {
   "cell_type": "code",
   "execution_count": null,
   "metadata": {},
   "outputs": [],
   "source": []
  },
  {
   "cell_type": "markdown",
   "metadata": {},
   "source": [
    "## 4. Computer-Aided Cell Factory Engineering (<1500 words if Category II project; <500 words for Category I project)"
   ]
  }
 ],
 "metadata": {
  "kernelspec": {
   "display_name": "Python 3",
   "language": "python",
   "name": "python3"
  },
  "language_info": {
   "codemirror_mode": {
    "name": "ipython",
    "version": 3
   },
   "file_extension": ".py",
   "mimetype": "text/x-python",
   "name": "python",
   "nbconvert_exporter": "python",
   "pygments_lexer": "ipython3",
   "version": "3.8.3"
  }
 },
 "nbformat": 4,
 "nbformat_minor": 4
}
