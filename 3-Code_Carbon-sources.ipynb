{
 "cells": [
  {
   "cell_type": "markdown",
   "metadata": {},
   "source": [
    "## Carbon sources\n",
    "An option at optimization of production of 7-dehydrocholesterol is analysing different carbon sources for the fermentations."
   ]
  },
  {
   "cell_type": "code",
   "execution_count": 1,
   "metadata": {},
   "outputs": [],
   "source": [
    "from cobra.io import read_sbml_model, write_sbml_model\n",
    "from cobra import Reaction, Metabolite"
   ]
  },
  {
   "cell_type": "code",
   "execution_count": 2,
   "metadata": {},
   "outputs": [],
   "source": [
    "model = read_sbml_model('data/yeastGEM_het.xml')"
   ]
  },
  {
   "cell_type": "code",
   "execution_count": null,
   "metadata": {},
   "outputs": [],
   "source": [
    "import numpy as np\n",
    "import matplotlib.pyplot as plt\n",
    "import pandas as pd\n",
    "\n",
    "#First we can find all carbon exchange reactions:\n",
    "carbon = []\n",
    "carbon_names = []\n",
    "\n",
    "for reaction in model.exchanges:\n",
    "    for metabolite in reaction.reactants:\n",
    "        if \"C\" in metabolite.elements:\n",
    "            carbon.append(reaction.id)\n",
    "            carbon_names.append(reaction.name) \n",
    "            \n",
    "# Second, we can establish the baseline case for later reference\n",
    "with model:\n",
    "    max_base_growth = model.slim_optimize()\n",
    "    model.objective = model.reactions.R07215\n",
    "    max_base_production = model.slim_optimize()\n",
    "\n",
    "    \n",
    "# Now, we will loop through every carbon source in the model and see how good it produces 7-dehydrocholesterol.     \n",
    "# We define the lists we are going to be using\n",
    "max_growth = []\n",
    "max_production = []\n",
    "medium=model.medium\n",
    "\n",
    "with model:\n",
    "    for reaction in carbon:\n",
    "        medium['r_1714'] = 0\n",
    "        medium[reaction]=1\n",
    "        model.medium = medium\n",
    "        with model:\n",
    "            max_growth.append(model.slim_optimize(error_value=0.))\n",
    "            model.objective = model.reactions.R07215\n",
    "            max_production.append(model.slim_optimize(error_value=0.))  # Determining max production\n",
    "        medium[reaction]=0        \n",
    "\n",
    "# We can now collect all of the data in a dataframe\n",
    "production = {'Carbon': carbon_names,\n",
    "             'Growth': max_growth,\n",
    "             'Production': max_production}\n",
    "df = pd.DataFrame(production, columns = ['Carbon', 'Growth', 'Production'])\n",
    "print(df)\n"
   ]
  },
  {
   "cell_type": "code",
   "execution_count": null,
   "metadata": {},
   "outputs": [],
   "source": [
    "#We remove all the carbon exchanges where growth becomes equal to 0\n",
    "df= df[df['Growth'] != 0]\n",
    "print(df)\n",
    "# And we can create a scatterplot of the production over growth to view the distribution\n",
    "plt.scatter(df.get('Growth'), df.get('Production'))\n",
    "plt.xlabel('Max growth rate')\n",
    "plt.ylabel('Max production')\n",
    "plt.xlim(0, 0.3)\n",
    "plt.ylim(0, 0.15)\n",
    "plt.title('Maximal Growth rate and production')\n",
    "plt.savefig(\"figures/carbon_sources\")\n",
    "plt.show()"
   ]
  },
  {
   "cell_type": "code",
   "execution_count": null,
   "metadata": {},
   "outputs": [],
   "source": [
    "#The original growth and production of 7-dehydrocholesterol using glucose:\n",
    "print(max_base_growth,max_base_production)"
   ]
  },
  {
   "cell_type": "code",
   "execution_count": null,
   "metadata": {},
   "outputs": [],
   "source": [
    "#top 15 highest growth\n",
    "df.sort_values(by='Growth', ascending=False).head(15)\n"
   ]
  },
  {
   "cell_type": "code",
   "execution_count": null,
   "metadata": {},
   "outputs": [],
   "source": [
    "#Sucrose looks promising:\n",
    "for reaction in model.reactions.query('sucrose exchange', 'name'):\n",
    "    print(reaction.name)"
   ]
  },
  {
   "cell_type": "code",
   "execution_count": null,
   "metadata": {},
   "outputs": [],
   "source": [
    "#Changing the carbon source to sucrose rather than glucose:\n",
    "medium=model.medium\n",
    "medium['r_1714'] = 0\n",
    "medium[\"r_2058\"]=1\n",
    "model.medium = medium\n",
    "write_sbml_model(model, \"data/yeastGEM_het_suc.xml\")\n",
    "model_sucrose = read_sbml_model('data/yeastGEM_het_suc.xml')\n",
    "print(model_sucrose.medium)"
   ]
  },
  {
   "cell_type": "code",
   "execution_count": null,
   "metadata": {},
   "outputs": [],
   "source": [
    "model_sucrose.medium"
   ]
  },
  {
   "cell_type": "code",
   "execution_count": null,
   "metadata": {},
   "outputs": [],
   "source": [
    "#general information:\n",
    "with model_sucrose:\n",
    "    model_sucrose.objective = model_sucrose.reactions.R07215\n",
    "    with model_sucrose:\n",
    "        model_sucrose.objective = model_sucrose.reactions.R07215\n",
    "        DH_production = model.optimize().objective_value\n",
    "        print(\"Max. 7-DH production [mmol gDW^-1 h^-1]:\", DH_production)\n",
    "        print(\"Theoretical max. yield [mmol-7-DH / mmol-sucrose]:\", DH_production / (-1*model_sucrose.reactions.r_2058.flux))"
   ]
  },
  {
   "cell_type": "markdown",
   "metadata": {},
   "source": [
    "These values are approximate doubles of the same values for glucose. This is due to the fact that sucrose is composed of one glucose and one fructose molecule. This is further discussed in [Report.ipynb](the report document)\n",
    "\n",
    "Thus, it is decided that the carbon source stays as glucose, at the same availability."
   ]
  }
 ],
 "metadata": {
  "kernelspec": {
   "display_name": "p36workshop",
   "language": "python",
   "name": "p36workshop"
  },
  "language_info": {
   "codemirror_mode": {
    "name": "ipython",
    "version": 3
   },
   "file_extension": ".py",
   "mimetype": "text/x-python",
   "name": "python",
   "nbconvert_exporter": "python",
   "pygments_lexer": "ipython3",
   "version": "3.8.3"
  }
 },
 "nbformat": 4,
 "nbformat_minor": 4
}
