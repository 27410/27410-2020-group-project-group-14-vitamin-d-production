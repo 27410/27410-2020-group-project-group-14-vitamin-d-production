{
 "cells": [
  {
   "cell_type": "markdown",
   "metadata": {},
   "source": [
    "## Carbon sources\n",
    "A normal thing to do is to change the carbon sources in the medium and seeing what happens. Let's try!"
   ]
  },
  {
   "cell_type": "code",
   "execution_count": 1,
   "metadata": {},
   "outputs": [],
   "source": [
    "from cobra.io import read_sbml_model, write_sbml_model\n",
    "from cobra import Reaction, Metabolite"
   ]
  },
  {
   "cell_type": "code",
   "execution_count": 2,
   "metadata": {},
   "outputs": [],
   "source": [
    "model = read_sbml_model('data/yeastGEM_het.xml')"
   ]
  },
  {
   "cell_type": "code",
   "execution_count": 3,
   "metadata": {},
   "outputs": [
    {
     "data": {
      "image/png": "[encoded data removed]",
      "text/plain": [
       "<Figure size 432x288 with 1 Axes>"
      ]
     },
     "metadata": {
      "needs_background": "light"
     },
     "output_type": "display_data"
    }
   ],
   "source": [
    "import numpy as np\n",
    "import matplotlib.pyplot as plt\n",
    "import pandas as pd\n",
    "\n",
    "# First, we will find all of the carbon sources in the exchange reactions\n",
    "carbon = []\n",
    "carbon_names = []\n",
    "for reaction in model.exchanges:\n",
    "    for metabolite in reaction.metabolites:\n",
    "        if type(metabolite.elements.get('C')) == int:\n",
    "            carbon.append(reaction)\n",
    "            carbon_names.append(reaction.name)   # We are also saving thenames of the reactions for later\n",
    "\n",
    "\n",
    "# Second, we can establish the baseline case for later reference\n",
    "with model:\n",
    "    max_base_growth = model.slim_optimize()\n",
    "    model.objective = model.reactions.R07215\n",
    "    max_base_production = model.slim_optimize()\n",
    "\n",
    "    \n",
    "# Now, we will loop through every carbon source in the model and see how good it produces.     \n",
    "# We define the lists we are going to be using\n",
    "max_growth = []\n",
    "max_production = []\n",
    "\n",
    "for i in range(0, len(carbon)):\n",
    "    with model:\n",
    "        model.medium['r_1714'] = 0    # Setting the existing carbons source to 0\n",
    "        model.medium[carbon[i]] = 10  # Setting the testing carbon source to 10\n",
    "        max_growth.append(model.slim_optimize(error_value=0.))  # Determining max growth\n",
    "        model.objective = model.reactions.R07215\n",
    "        max_production.append(model.slim_optimize(error_value=0.))  # Determining max production\n",
    "\n",
    "\n",
    "\n",
    "    \n",
    "# We can now collect all of the data in a dataframe\n",
    "production = {'Carbon': carbon_names,\n",
    "             'Growth': max_growth,\n",
    "             'Production': max_production}\n",
    "df = pd.DataFrame(production, columns = ['Carbon', 'Growth', 'Production'])\n",
    "\n",
    "\n",
    "# And we can create a scatterplot of the production over growth to view the distrubution\n",
    "plt.scatter(df.get('Growth'), df.get('Production'))\n",
    "plt.xlabel('Max growth rate')\n",
    "plt.ylabel('Max production')\n",
    "plt.xlim(0, 0.15)\n",
    "plt.ylim(0, 0.08)\n",
    "plt.title('Maximal Growth rate and production')\n",
    "plt.savefig(\"figures/carbon_sources\")\n",
    "plt.show()\n"
   ]
  },
  {
   "cell_type": "code",
   "execution_count": null,
   "metadata": {},
   "outputs": [],
   "source": []
  }
 ],
 "metadata": {
  "kernelspec": {
   "display_name": "Python 3",
   "language": "python",
   "name": "python3"
  },
  "language_info": {
   "codemirror_mode": {
    "name": "ipython",
    "version": 3
   },
   "file_extension": ".py",
   "mimetype": "text/x-python",
   "name": "python",
   "nbconvert_exporter": "python",
   "pygments_lexer": "ipython3",
   "version": "3.8.3"
  }
 },
 "nbformat": 4,
 "nbformat_minor": 4
}
