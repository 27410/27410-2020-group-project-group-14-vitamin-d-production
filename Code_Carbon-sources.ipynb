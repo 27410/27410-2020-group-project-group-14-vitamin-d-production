{
 "cells": [
  {
   "cell_type": "markdown",
   "metadata": {},
   "source": [
    "## Carbon sources\n",
    "A normal thing to do is to change the carbon sources in the medium and seeing what happens. Let's try!"
   ]
  },
  {
   "cell_type": "code",
   "execution_count": 1,
   "metadata": {},
   "outputs": [],
   "source": [
    "from cobra.io import read_sbml_model, write_sbml_model\n",
    "from cobra import Reaction, Metabolite"
   ]
  },
  {
   "cell_type": "code",
   "execution_count": 2,
   "metadata": {},
   "outputs": [],
   "source": [
    "model = read_sbml_model('data/yeastGEM_het.xml')"
   ]
  },
  {
   "cell_type": "code",
   "execution_count": 3,
   "metadata": {},
   "outputs": [
    {
     "name": "stdout",
     "output_type": "stream",
     "text": [
      "                            Carbon    Growth  Production\n",
      "0    (1->3)-beta-D-glucan exchange  0.083748    0.041173\n",
      "1           (R)-carnitine exchange  0.000000    0.000000\n",
      "2             (R)-lactate exchange  0.031737    0.015422\n",
      "3          (R)-mevalonate exchange  0.000000    0.000000\n",
      "4        (R)-pantothenate exchange  0.000000    0.000000\n",
      "..                             ...       ...         ...\n",
      "235               tyrosol exchange  0.000000    0.000000\n",
      "236       tyrosyl acetate exchange  0.000000    0.000000\n",
      "237     methionyl acetate exchange  0.000000    0.000000\n",
      "238        propyl acetate exchange  0.000000    0.000000\n",
      "239      ethyl propionate exchange  0.000000    0.000000\n",
      "\n",
      "[240 rows x 3 columns]\n"
     ]
    }
   ],
   "source": [
    "import numpy as np\n",
    "import matplotlib.pyplot as plt\n",
    "import pandas as pd\n",
    "\n",
    "carbon = []\n",
    "carbon_names = []\n",
    "\n",
    "for reaction in model.exchanges:\n",
    "    for metabolite in reaction.reactants:\n",
    "        if \"C\" in metabolite.elements:\n",
    "            carbon.append(reaction.id)\n",
    "            carbon_names.append(reaction.name) \n",
    "            \n",
    "# Second, we can establish the baseline case for later reference\n",
    "with model:\n",
    "    max_base_growth = model.slim_optimize()\n",
    "    model.objective = model.reactions.R07215\n",
    "    max_base_production = model.slim_optimize()\n",
    "\n",
    "    \n",
    "# Now, we will loop through every carbon source in the model and see how good it produces.     \n",
    "# We define the lists we are going to be using\n",
    "max_growth = []\n",
    "max_production = []\n",
    "medium=model.medium\n",
    "\n",
    "with model:\n",
    "    for reaction in carbon:\n",
    "        medium['r_1714'] = 0\n",
    "        medium[reaction]=1\n",
    "        model.medium = medium\n",
    "        with model:\n",
    "            max_growth.append(model.slim_optimize(error_value=0.))\n",
    "            model.objective = model.reactions.R07215\n",
    "            max_production.append(model.slim_optimize(error_value=0.))  # Determining max production\n",
    "            medium[reaction]=0\n",
    "            #print(medium)\n",
    "        \n",
    "\n",
    "# We can now collect all of the data in a dataframe\n",
    "production = {'Carbon': carbon_names,\n",
    "             'Growth': max_growth,\n",
    "             'Production': max_production}\n",
    "df = pd.DataFrame(production, columns = ['Carbon', 'Growth', 'Production'])\n",
    "print(df)\n"
   ]
  },
  {
   "cell_type": "code",
   "execution_count": 18,
   "metadata": {},
   "outputs": [
    {
     "name": "stdout",
     "output_type": "stream",
     "text": [
      "                            Carbon        Growth  Production\n",
      "0    (1->3)-beta-D-glucan exchange  8.374779e-02    0.041173\n",
      "2             (R)-lactate exchange  3.173700e-02    0.015422\n",
      "7             (S)-lactate exchange  3.173700e-02    0.015422\n",
      "8              (S)-malate exchange  3.677760e-02    0.017927\n",
      "15      2-isopropylmalate exchange -3.669041e-19    0.000000\n",
      "..                             ...           ...         ...\n",
      "215  N-acetyl-L-glutamate exchange  8.422467e-02    0.040785\n",
      "225       ethyl hexanoate exchange  1.054836e-01    0.050700\n",
      "226       ethyl octanoate exchange  1.492065e-01    0.070994\n",
      "227       ethyl butanoate exchange  7.351592e-02    0.035495\n",
      "230              propanal exchange  2.131799e-02    0.011050\n",
      "\n",
      "[132 rows x 3 columns]\n"
     ]
    },
    {
     "data": {
      "image/png": "[encoded data removed]",
      "text/plain": [
       "<Figure size 432x288 with 1 Axes>"
      ]
     },
     "metadata": {
      "needs_background": "light"
     },
     "output_type": "display_data"
    }
   ],
   "source": [
    "df= df[df['Growth'] != 0]\n",
    "print(df)\n",
    "# And we can create a scatterplot of the production over growth to view the distrubution\n",
    "plt.scatter(df.get('Growth'), df.get('Production'))\n",
    "plt.xlabel('Max growth rate')\n",
    "plt.ylabel('Max production')\n",
    "plt.xlim(0, 0.3)\n",
    "plt.ylim(0, 0.15)\n",
    "plt.title('Maximal Growth rate and production')\n",
    "plt.savefig(\"figures/carbon_sources\")\n",
    "plt.show()"
   ]
  },
  {
   "cell_type": "code",
   "execution_count": 5,
   "metadata": {},
   "outputs": [
    {
     "name": "stdout",
     "output_type": "stream",
     "text": [
      "0.08374778664999781 0.04117342484804845\n"
     ]
    }
   ],
   "source": [
    "print(max_base_growth,max_base_production)"
   ]
  },
  {
   "cell_type": "code",
   "execution_count": 6,
   "metadata": {},
   "outputs": [
    {
     "data": {
      "text/html": [
       "<div>\n",
       "<style scoped>\n",
       "    .dataframe tbody tr th:only-of-type {\n",
       "        vertical-align: middle;\n",
       "    }\n",
       "\n",
       "    .dataframe tbody tr th {\n",
       "        vertical-align: top;\n",
       "    }\n",
       "\n",
       "    .dataframe thead th {\n",
       "        text-align: right;\n",
       "    }\n",
       "</style>\n",
       "<table border=\"1\" class=\"dataframe\">\n",
       "  <thead>\n",
       "    <tr style=\"text-align: right;\">\n",
       "      <th></th>\n",
       "      <th>Carbon</th>\n",
       "      <th>Growth</th>\n",
       "      <th>Production</th>\n",
       "    </tr>\n",
       "  </thead>\n",
       "  <tbody>\n",
       "    <tr>\n",
       "      <th>132</th>\n",
       "      <td>stearate exchange</td>\n",
       "      <td>0.270976</td>\n",
       "      <td>0.125962</td>\n",
       "    </tr>\n",
       "    <tr>\n",
       "      <th>151</th>\n",
       "      <td>oleate exchange</td>\n",
       "      <td>0.269050</td>\n",
       "      <td>0.125962</td>\n",
       "    </tr>\n",
       "    <tr>\n",
       "      <th>164</th>\n",
       "      <td>alpha-maltotriose exchange</td>\n",
       "      <td>0.255689</td>\n",
       "      <td>0.124978</td>\n",
       "    </tr>\n",
       "    <tr>\n",
       "      <th>118</th>\n",
       "      <td>palmitate exchange</td>\n",
       "      <td>0.239125</td>\n",
       "      <td>0.111322</td>\n",
       "    </tr>\n",
       "    <tr>\n",
       "      <th>119</th>\n",
       "      <td>palmitoleate exchange</td>\n",
       "      <td>0.236505</td>\n",
       "      <td>0.111322</td>\n",
       "    </tr>\n",
       "    <tr>\n",
       "      <th>152</th>\n",
       "      <td>myristate exchange</td>\n",
       "      <td>0.206750</td>\n",
       "      <td>0.096682</td>\n",
       "    </tr>\n",
       "    <tr>\n",
       "      <th>67</th>\n",
       "      <td>glutathione disulfide exchange</td>\n",
       "      <td>0.192925</td>\n",
       "      <td>0.092158</td>\n",
       "    </tr>\n",
       "    <tr>\n",
       "      <th>109</th>\n",
       "      <td>laurate exchange</td>\n",
       "      <td>0.174611</td>\n",
       "      <td>0.082042</td>\n",
       "    </tr>\n",
       "    <tr>\n",
       "      <th>35</th>\n",
       "      <td>trehalose exchange</td>\n",
       "      <td>0.169284</td>\n",
       "      <td>0.082151</td>\n",
       "    </tr>\n",
       "    <tr>\n",
       "      <th>110</th>\n",
       "      <td>maltose exchange</td>\n",
       "      <td>0.169024</td>\n",
       "      <td>0.082151</td>\n",
       "    </tr>\n",
       "    <tr>\n",
       "      <th>134</th>\n",
       "      <td>sucrose exchange</td>\n",
       "      <td>0.169024</td>\n",
       "      <td>0.082151</td>\n",
       "    </tr>\n",
       "    <tr>\n",
       "      <th>162</th>\n",
       "      <td>turanose exchange</td>\n",
       "      <td>0.169024</td>\n",
       "      <td>0.082151</td>\n",
       "    </tr>\n",
       "    <tr>\n",
       "      <th>159</th>\n",
       "      <td>6-O-alpha-D-glucopyranosyl-D-fructofuranose ex...</td>\n",
       "      <td>0.169024</td>\n",
       "      <td>0.082151</td>\n",
       "    </tr>\n",
       "    <tr>\n",
       "      <th>226</th>\n",
       "      <td>ethyl octanoate exchange</td>\n",
       "      <td>0.149207</td>\n",
       "      <td>0.070994</td>\n",
       "    </tr>\n",
       "    <tr>\n",
       "      <th>53</th>\n",
       "      <td>decanoate exchange</td>\n",
       "      <td>0.140515</td>\n",
       "      <td>0.067402</td>\n",
       "    </tr>\n",
       "  </tbody>\n",
       "</table>\n",
       "</div>"
      ],
      "text/plain": [
       "                                                Carbon    Growth  Production\n",
       "132                                  stearate exchange  0.270976    0.125962\n",
       "151                                    oleate exchange  0.269050    0.125962\n",
       "164                         alpha-maltotriose exchange  0.255689    0.124978\n",
       "118                                 palmitate exchange  0.239125    0.111322\n",
       "119                              palmitoleate exchange  0.236505    0.111322\n",
       "152                                 myristate exchange  0.206750    0.096682\n",
       "67                      glutathione disulfide exchange  0.192925    0.092158\n",
       "109                                   laurate exchange  0.174611    0.082042\n",
       "35                                  trehalose exchange  0.169284    0.082151\n",
       "110                                   maltose exchange  0.169024    0.082151\n",
       "134                                   sucrose exchange  0.169024    0.082151\n",
       "162                                  turanose exchange  0.169024    0.082151\n",
       "159  6-O-alpha-D-glucopyranosyl-D-fructofuranose ex...  0.169024    0.082151\n",
       "226                           ethyl octanoate exchange  0.149207    0.070994\n",
       "53                                  decanoate exchange  0.140515    0.067402"
      ]
     },
     "execution_count": 6,
     "metadata": {},
     "output_type": "execute_result"
    }
   ],
   "source": [
    "df.sort_values(by='Growth', ascending=False).head(15)\n"
   ]
  },
  {
   "cell_type": "code",
   "execution_count": null,
   "metadata": {},
   "outputs": [],
   "source": [
    "for reaction in model.reactions.query('sucrose exchange', 'name'):\n",
    "    print(reaction.name)"
   ]
  },
  {
   "cell_type": "code",
   "execution_count": 22,
   "metadata": {},
   "outputs": [
    {
     "name": "stdout",
     "output_type": "stream",
     "text": [
      "{'r_1654': 1000.0, 'r_1832': 1000.0, 'r_1861': 1000.0, 'r_1992': 1000.0, 'r_2005': 1000.0, 'r_2020': 1000.0, 'r_2049': 1000.0, 'r_2058': 1.0, 'r_2060': 1000.0, 'r_2100': 1000.0, 'r_4593': 1000.0, 'r_4594': 1000.0, 'r_4595': 1000.0, 'r_4596': 1000.0, 'r_4597': 1000.0, 'r_4600': 1000.0}\n"
     ]
    }
   ],
   "source": [
    "medium=model.medium\n",
    "medium['r_1714'] = 0\n",
    "medium[\"r_2058\"]=1\n",
    "model.medium = medium\n",
    "write_sbml_model(model, \"data/yeastGEM_het_suc.xml\")\n",
    "model_sucrose = read_sbml_model('data/yeastGEM_het_suc.xml')\n",
    "print(model_sucrose.medium)"
   ]
  },
  {
   "cell_type": "code",
   "execution_count": 16,
   "metadata": {},
   "outputs": [
    {
     "data": {
      "text/plain": [
       "{'r_1654': 1000.0,\n",
       " 'r_1832': 1000.0,\n",
       " 'r_1861': 1000.0,\n",
       " 'r_1992': 1000.0,\n",
       " 'r_2005': 1000.0,\n",
       " 'r_2020': 1000.0,\n",
       " 'r_2049': 1000.0,\n",
       " 'r_2058': 1,\n",
       " 'r_2060': 1000.0,\n",
       " 'r_2100': 1000.0,\n",
       " 'r_4593': 1000.0,\n",
       " 'r_4594': 1000.0,\n",
       " 'r_4595': 1000.0,\n",
       " 'r_4596': 1000.0,\n",
       " 'r_4597': 1000.0,\n",
       " 'r_4600': 1000.0}"
      ]
     },
     "execution_count": 16,
     "metadata": {},
     "output_type": "execute_result"
    }
   ],
   "source": [
    "model_sucrose.medium"
   ]
  },
  {
   "cell_type": "code",
   "execution_count": 19,
   "metadata": {},
   "outputs": [
    {
     "name": "stdout",
     "output_type": "stream",
     "text": [
      "0.08215115009687664\n",
      "Max. 7-DH production [mmol gDW^-1 h^-1]: 0.08374770604149133\n",
      "Theoretical max. yield [mmol-7-DH / mmol-glucose]: 0.08374770604149133\n"
     ]
    }
   ],
   "source": [
    "#general information:\n",
    "with model_sucrose:\n",
    "    model_sucrose.objective = model_sucrose.reactions.R07215\n",
    "    print(model_sucrose.optimize().objective_value)\n",
    "    with model_sucrose:\n",
    "        model_sucrose.objective = model_sucrose.reactions.R07215\n",
    "        DH_production = model.optimize().objective_value\n",
    "        print(\"Max. 7-DH production [mmol gDW^-1 h^-1]:\", DH_production)\n",
    "        print(\"Theoretical max. yield [mmol-7-DH / mmol-sucrose]:\", DH_production / (-1*model_sucrose.reactions.r_2058.flux))"
   ]
  }
 ],
 "metadata": {
  "kernelspec": {
   "display_name": "Python 3",
   "language": "python",
   "name": "python3"
  },
  "language_info": {
   "codemirror_mode": {
    "name": "ipython",
    "version": 3
   },
   "file_extension": ".py",
   "mimetype": "text/x-python",
   "name": "python",
   "nbconvert_exporter": "python",
   "pygments_lexer": "ipython3",
   "version": "3.8.3"
  }
 },
 "nbformat": 4,
 "nbformat_minor": 4
}
